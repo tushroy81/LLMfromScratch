{  
  {
   "cell_type": "markdown",
   "metadata": {},
   "source": [
    "## LOADING PRETRAINED WEIGHTS FROM OPENAI"
   ]
  },
  {
   "cell_type": "markdown",
   "metadata": {},
   "source": [
    "<div class=\"alert alert-block alert-success\">\n",
    "    \n",
    "Previously, for educational purposes, we trained a small GPT-2 model using a limited\n",
    "dataset comprising a short-story book.\n",
    "\n",
    "This approach allowed us to focus on the\n",
    "fundamentals without the need for extensive time and computational resources.\n",
    "\n",
    "    \n",
    "Fortunately, OpenAI openly shared the weights of their GPT-2 models, thus eliminating\n",
    "the need to invest tens to hundreds of thousands of dollars in retraining the model on a\n",
    "large corpus ourselves.\n",
    "</div>"
   ]
  },
  {
   "cell_type": "markdown",
   "metadata": {},
   "source": [
    "<div class=\"alert alert-block alert-success\">\n",
    "    \n",
    "In the remainder of this section, we load these weights into our GPTModel class and use\n",
    "the model for text generation. \n",
    "\n",
    "Here, weights refer to the weight parameters that are stored\n",
    "in the .weight attributes of PyTorch's Linear and Embedding layers, for example. \n",
    "\n",
    "We accessed them earlier via model.parameters() when training the model.\n",
    "</div>"
   ]
  },
  {
   "cell_type": "markdown",
   "metadata": {},
   "source": [
    "<div class=\"alert alert-block alert-success\">\n",
    "    \n",
    "Note that OpenAI originally saved the GPT-2 weights via TensorFlow, which we have to\n",
    "install to load the weights in Python. \n",
    "\n",
    "Moreover, the following code will use a progress bar\n",
    "tool called tqdm to track the download process, which we also have to install.\n",
    "</div>"
   ]
  },
  {
   "cell_type": "code",
   "execution_count": 206,
   "metadata": {},
   "outputs": [
    {
     "name": "stdout",
     "output_type": "stream",
     "text": [
      "zsh:1: 2.15.0 not found\n",
      "Note: you may need to restart the kernel to use updated packages.\n"
     ]
    }
   ],
   "source": [
    "pip install tensorflow>=2.15.0 tqdm>=4.66"
   ]
  },
  {
   "cell_type": "code",
   "execution_count": 207,
   "metadata": {},
   "outputs": [
    {
     "name": "stdout",
     "output_type": "stream",
     "text": [
      "TensorFlow version: 2.16.1\n",
      "tqdm version: 4.66.2\n"
     ]
    }
   ],
   "source": [
    "import tensorflow as tf\n",
    "import tqdm\n",
    "\n",
    "print(\"TensorFlow version:\", tf.__version__)\n",
    "print(\"tqdm version:\", tqdm.__version__)"
   ]
  },
  {
   "cell_type": "markdown",
   "metadata": {},
   "source": [
    "<div class=\"alert alert-block alert-success\">\n",
    "    \n",
    "We download the gpt_download.py Python module directly from this chapter's online repository\n",
    "</div>"
   ]
  },
  {
   "cell_type": "markdown",
   "metadata": {},
   "source": [
    "<div class=\"alert alert-block alert-success\">\n",
    "    \n",
    "We can now import the download_and_load_gpt2 function from the gpt_download.py\n",
    "file as follows, which will load the GPT-2 architecture settings (settings) and weight\n",
    "parameters (params) into our Python session:\n",
    "</div>"
   ]
  },
  {
   "cell_type": "code",
   "execution_count": 220,
   "metadata": {},
   "outputs": [],
   "source": [
    "from gpt_download3 import download_and_load_gpt2"
   ]
  },
  {
   "cell_type": "code",
   "execution_count": 221,
   "metadata": {},
   "outputs": [
    {
     "name": "stderr",
     "output_type": "stream",
     "text": [
      "/Library/Frameworks/Python.framework/Versions/3.12/lib/python3.12/site-packages/urllib3/connectionpool.py:1103: InsecureRequestWarning: Unverified HTTPS request is being made to host 'openaipublic.blob.core.windows.net'. Adding certificate verification is strongly advised. See: https://urllib3.readthedocs.io/en/latest/advanced-usage.html#tls-warnings\n",
      "  warnings.warn(\n"
     ]
    },
    {
     "name": "stdout",
     "output_type": "stream",
     "text": [
      "File already exists and is up-to-date: gpt2/124M/checkpoint\n"
     ]
    },
    {
     "name": "stderr",
     "output_type": "stream",
     "text": [
      "/Library/Frameworks/Python.framework/Versions/3.12/lib/python3.12/site-packages/urllib3/connectionpool.py:1103: InsecureRequestWarning: Unverified HTTPS request is being made to host 'openaipublic.blob.core.windows.net'. Adding certificate verification is strongly advised. See: https://urllib3.readthedocs.io/en/latest/advanced-usage.html#tls-warnings\n",
      "  warnings.warn(\n"
     ]
    },
    {
     "name": "stdout",
     "output_type": "stream",
     "text": [
      "File already exists and is up-to-date: gpt2/124M/encoder.json\n"
     ]
    },
    {
     "name": "stderr",
     "output_type": "stream",
     "text": [
      "/Library/Frameworks/Python.framework/Versions/3.12/lib/python3.12/site-packages/urllib3/connectionpool.py:1103: InsecureRequestWarning: Unverified HTTPS request is being made to host 'openaipublic.blob.core.windows.net'. Adding certificate verification is strongly advised. See: https://urllib3.readthedocs.io/en/latest/advanced-usage.html#tls-warnings\n",
      "  warnings.warn(\n",
      "hparams.json: 100%|████████████████████████| 90.0/90.0 [00:00<00:00, 52.5kiB/s]\n",
      "/Library/Frameworks/Python.framework/Versions/3.12/lib/python3.12/site-packages/urllib3/connectionpool.py:1103: InsecureRequestWarning: Unverified HTTPS request is being made to host 'openaipublic.blob.core.windows.net'. Adding certificate verification is strongly advised. See: https://urllib3.readthedocs.io/en/latest/advanced-usage.html#tls-warnings\n",
      "  warnings.warn(\n"
     ]
    },
    {
     "name": "stdout",
     "output_type": "stream",
     "text": [
      "File already exists and is up-to-date: gpt2/124M/model.ckpt.data-00000-of-00001\n"
     ]
    },
    {
     "name": "stderr",
     "output_type": "stream",
     "text": [
      "/Library/Frameworks/Python.framework/Versions/3.12/lib/python3.12/site-packages/urllib3/connectionpool.py:1103: InsecureRequestWarning: Unverified HTTPS request is being made to host 'openaipublic.blob.core.windows.net'. Adding certificate verification is strongly advised. See: https://urllib3.readthedocs.io/en/latest/advanced-usage.html#tls-warnings\n",
      "  warnings.warn(\n"
     ]
    },
    {
     "name": "stdout",
     "output_type": "stream",
     "text": [
      "File already exists and is up-to-date: gpt2/124M/model.ckpt.index\n"
     ]
    },
    {
     "name": "stderr",
     "output_type": "stream",
     "text": [
      "/Library/Frameworks/Python.framework/Versions/3.12/lib/python3.12/site-packages/urllib3/connectionpool.py:1103: InsecureRequestWarning: Unverified HTTPS request is being made to host 'openaipublic.blob.core.windows.net'. Adding certificate verification is strongly advised. See: https://urllib3.readthedocs.io/en/latest/advanced-usage.html#tls-warnings\n",
      "  warnings.warn(\n"
     ]
    },
    {
     "name": "stdout",
     "output_type": "stream",
     "text": [
      "File already exists and is up-to-date: gpt2/124M/model.ckpt.meta\n"
     ]
    },
    {
     "name": "stderr",
     "output_type": "stream",
     "text": [
      "/Library/Frameworks/Python.framework/Versions/3.12/lib/python3.12/site-packages/urllib3/connectionpool.py:1103: InsecureRequestWarning: Unverified HTTPS request is being made to host 'openaipublic.blob.core.windows.net'. Adding certificate verification is strongly advised. See: https://urllib3.readthedocs.io/en/latest/advanced-usage.html#tls-warnings\n",
      "  warnings.warn(\n"
     ]
    },
    {
     "name": "stdout",
     "output_type": "stream",
     "text": [
      "File already exists and is up-to-date: gpt2/124M/vocab.bpe\n"
     ]
    }
   ],
   "source": [
    "settings, params = download_and_load_gpt2(model_size=\"124M\", models_dir=\"gpt2\")"
   ]
  },
  {
   "cell_type": "markdown",
   "metadata": {},
   "source": [
    "<div class=\"alert alert-block alert-success\">\n",
    "    \n",
    "After the execution of the previous code has been completed, let's inspect the contents of\n",
    "settings and params:\n",
    "</div>"
   ]
  },
  {
   "cell_type": "code",
   "execution_count": 222,
   "metadata": {},
   "outputs": [
    {
     "name": "stdout",
     "output_type": "stream",
     "text": [
      "Settings: {'n_vocab': 50257, 'n_ctx': 1024, 'n_embd': 768, 'n_head': 12, 'n_layer': 12}\n",
      "Parameter dictionary keys: dict_keys(['blocks', 'b', 'g', 'wpe', 'wte'])\n"
     ]
    }
   ],
   "source": [
    "print(\"Settings:\", settings)\n",
    "print(\"Parameter dictionary keys:\", params.keys())"
   ]
  },
  {
   "cell_type": "markdown",
   "metadata": {},
   "source": [
    "<div class=\"alert alert-block alert-success\">\n",
    "    \n",
    "Both settings and params are Python dictionaries. The settings dictionary stores the LLM\n",
    "architecture settings similarly to our manually defined GPT_CONFIG_124M settings. \n",
    "\n",
    "The\n",
    "params dictionary contains the actual weight tensors. \n",
    "\n",
    "    \n",
    "Note that we only printed the\n",
    "dictionary keys because printing the weight contents would take up too much screen space\n",
    "</div>"
   ]
  },
  {
   "cell_type": "markdown",
   "metadata": {},
   "source": [
    "<div class=\"alert alert-block alert-success\">\n",
    "    \n",
    "We can inspect these weight tensors by printing the whole dictionary via\n",
    "print(params) or by selecting individual tensors via the respective dictionary keys, for\n",
    "example, the embedding layer weights:\n",
    "\n",
    "</div>"
   ]
  },
  {
   "cell_type": "code",
   "execution_count": 223,
   "metadata": {},
   "outputs": [
    {
     "name": "stdout",
     "output_type": "stream",
     "text": [
      "[[-0.11010301 -0.03926672  0.03310751 ... -0.1363697   0.01506208\n",
      "   0.04531523]\n",
      " [ 0.04034033 -0.04861503  0.04624869 ...  0.08605453  0.00253983\n",
      "   0.04318958]\n",
      " [-0.12746179  0.04793796  0.18410145 ...  0.08991534 -0.12972379\n",
      "  -0.08785918]\n",
      " ...\n",
      " [-0.04453601 -0.05483596  0.01225674 ...  0.10435229  0.09783269\n",
      "  -0.06952604]\n",
      " [ 0.1860082   0.01665728  0.04611587 ... -0.09625227  0.07847701\n",
      "  -0.02245961]\n",
      " [ 0.05135201 -0.02768905  0.0499369  ...  0.00704835  0.15519823\n",
      "   0.12067825]]\n",
      "Token embedding weight tensor dimensions: (50257, 768)\n"
     ]
    }
   ],
   "source": [
    "print(params[\"wte\"])\n",
    "print(\"Token embedding weight tensor dimensions:\", params[\"wte\"].shape)"
   ]
  },
  {
   "cell_type": "markdown",
   "metadata": {},
   "source": [
    "<div class=\"alert alert-block alert-success\">\n",
    "    \n",
    "We downloaded and loaded the weights of the smallest GPT-2 model via the\n",
    "download_and_load_gpt2(model_size=\"124M\", ...) setting. However, note that OpenAI\n",
    "also shares the weights of larger models: \"355M\", \"774M\", and \"1558M\".\n",
    "\n",
    "</div>"
   ]
  },
  {
   "cell_type": "markdown",
   "metadata": {},
   "source": [
    "<div class=\"alert alert-block alert-success\">\n",
    "    \n",
    "Above, we loaded the 124M GPT-2 model weights into Python, however we still need to transfer them into our GPTModel instance.\n",
    "\n",
    "First, we initialize a new GPTModel instance.\n",
    "\n",
    "Note that the original GPT model initialized the linear layers for the query, key, and value matrices in the multi-head attention module with bias vectors, which is not required or recommended; however, to be able to load the weights correctly, we have to enable these too by setting qkv_bias to True in our implementation, too.\n",
    "                                                                                                                                                                                                                                                                                                                                  \n",
    "We are also using the 1024 token context length that was used by the original GPT-2 model(s)\n",
    "\n",
    "</div>"
   ]
  },
  {
   "cell_type": "code",
   "execution_count": 209,
   "metadata": {},
   "outputs": [],
   "source": [
    "# Define model configurations in a dictionary for compactness\n",
    "model_configs = {\n",
    "    \"gpt2-small (124M)\": {\"emb_dim\": 768, \"n_layers\": 12, \"n_heads\": 12},\n",
    "    \"gpt2-medium (355M)\": {\"emb_dim\": 1024, \"n_layers\": 24, \"n_heads\": 16},\n",
    "    \"gpt2-large (774M)\": {\"emb_dim\": 1280, \"n_layers\": 36, \"n_heads\": 20},\n",
    "    \"gpt2-xl (1558M)\": {\"emb_dim\": 1600, \"n_layers\": 48, \"n_heads\": 25},\n",
    "}\n",
    "\n",
    "# Copy the base configuration and update with specific model settings\n",
    "model_name = \"gpt2-small (124M)\"  # Example model name\n",
    "NEW_CONFIG = GPT_CONFIG_124M.copy()\n",
    "NEW_CONFIG.update(model_configs[model_name])\n"
   ]
  },
  {
   "cell_type": "markdown",
   "metadata": {},
   "source": [
    "<div class=\"alert alert-block alert-success\">\n",
    "    \n",
    "Careful readers may remember that we used a 256-token length earlier, but the original\n",
    "GPT-2 models from OpenAI were trained with a 1,024-token length, so we have to update\n",
    "the NEW_CONFIG accordingly:\n",
    "\n",
    "</div>"
   ]
  },
  {
   "cell_type": "markdown",
   "metadata": {},
   "source": [
    "<div class=\"alert alert-block alert-success\">\n",
    "    \n",
    "Also, OpenAI used bias vectors in the multi-head attention module's linear layers to\n",
    "implement the query, key, and value matrix computations. \n",
    "\n",
    "Bias vectors are not commonly\n",
    "used in LLMs anymore as they don't improve the modeling performance and are thus\n",
    "unnecessary. \n",
    "\n",
    "However, since we are working with pretrained weights, we need to match the\n",
    "settings for consistency and enable these bias vectors:\n",
    "\n",
    "</div>"
   ]
  },
  {
   "cell_type": "code",
   "execution_count": 210,
   "metadata": {},
   "outputs": [],
   "source": [
    "NEW_CONFIG.update({\"context_length\": 1024, \"qkv_bias\": True})\n",
    "gpt = GPTModel(NEW_CONFIG)\n",
    "gpt.eval();"
   ]
  },
  {
   "cell_type": "markdown",
   "metadata": {},
   "source": [
    "<div class=\"alert alert-block alert-success\">\n",
    "    \n",
    "By default, the GPTModel instance is initialized with random weights for pretraining. \n",
    "\n",
    "The last\n",
    "step to using OpenAI's model weights is to override these random weights with the weights\n",
    "we loaded into the params dictionary.\n",
    "\n",
    "For this, we will first define a small assign utility function that checks whether two\n",
    "tensors or arrays (left and right) have the same dimensions or shape and returns the\n",
    "right tensor as trainable PyTorch parameters:\n",
    "</div>"
   ]
  },
  {
   "cell_type": "code",
   "execution_count": 208,
   "metadata": {},
   "outputs": [],
   "source": [
    "def assign(left, right):\n",
    "    if left.shape != right.shape:\n",
    "        raise ValueError(f\"Shape mismatch. Left: {left.shape}, Right: {right.shape}\")\n",
    "    return torch.nn.Parameter(torch.tensor(right))"
   ]
  },
  {
   "cell_type": "markdown",
   "metadata": {},
   "source": [
    "<div class=\"alert alert-block alert-success\">\n",
    "    \n",
    "Next, we define a load_weights_into_gpt function that loads the weights from the params\n",
    "dictionary into a GPTModel instance gpt:\n",
    "</div>"
   ]
  },
  {
   "cell_type": "markdown",
   "metadata": {},
   "source": [
    "<div class=\"alert alert-block alert-info\">\n",
    "\n",
    "Step 1: Setting the model's positional and token embedding weights to those specified in params.\n",
    "\n",
    "Step 2: Iterate over each transformer block in the model.\n",
    "\n",
    "Step 3: The np.split function is used to divide the attention and bias weights into three equal parts for the query,\n",
    "key, and value components.\n",
    "    \n",
    "Step 4: The original GPT-2 model by OpenAI reused the token embedding weights in the output layer to reduce the\n",
    "total number of parameters, which is a concept known as weight tying.\n",
    "\n",
    "</div>"
   ]
  },
  {
   "cell_type": "code",
   "execution_count": 209,
   "metadata": {},
   "outputs": [],
   "source": [
    "import numpy as np\n",
    "\n",
    "def load_weights_into_gpt(gpt, params):\n",
    "    gpt.pos_emb.weight = assign(gpt.pos_emb.weight, params['wpe'])\n",
    "    gpt.tok_emb.weight = assign(gpt.tok_emb.weight, params['wte'])\n",
    "    \n",
    "    for b in range(len(params[\"blocks\"])):\n",
    "        q_w, k_w, v_w = np.split(\n",
    "            (params[\"blocks\"][b][\"attn\"][\"c_attn\"])[\"w\"], 3, axis=-1)\n",
    "        gpt.trf_blocks[b].att.W_query.weight = assign(\n",
    "            gpt.trf_blocks[b].att.W_query.weight, q_w.T)\n",
    "        gpt.trf_blocks[b].att.W_key.weight = assign(\n",
    "            gpt.trf_blocks[b].att.W_key.weight, k_w.T)\n",
    "        gpt.trf_blocks[b].att.W_value.weight = assign(\n",
    "            gpt.trf_blocks[b].att.W_value.weight, v_w.T)\n",
    "\n",
    "        q_b, k_b, v_b = np.split(\n",
    "            (params[\"blocks\"][b][\"attn\"][\"c_attn\"])[\"b\"], 3, axis=-1)\n",
    "        gpt.trf_blocks[b].att.W_query.bias = assign(\n",
    "            gpt.trf_blocks[b].att.W_query.bias, q_b)\n",
    "        gpt.trf_blocks[b].att.W_key.bias = assign(\n",
    "            gpt.trf_blocks[b].att.W_key.bias, k_b)\n",
    "        gpt.trf_blocks[b].att.W_value.bias = assign(\n",
    "            gpt.trf_blocks[b].att.W_value.bias, v_b)\n",
    "\n",
    "        gpt.trf_blocks[b].att.out_proj.weight = assign(\n",
    "            gpt.trf_blocks[b].att.out_proj.weight, \n",
    "            params[\"blocks\"][b][\"attn\"][\"c_proj\"][\"w\"].T)\n",
    "        gpt.trf_blocks[b].att.out_proj.bias = assign(\n",
    "            gpt.trf_blocks[b].att.out_proj.bias, \n",
    "            params[\"blocks\"][b][\"attn\"][\"c_proj\"][\"b\"])\n",
    "\n",
    "        gpt.trf_blocks[b].ff.layers[0].weight = assign(\n",
    "            gpt.trf_blocks[b].ff.layers[0].weight, \n",
    "            params[\"blocks\"][b][\"mlp\"][\"c_fc\"][\"w\"].T)\n",
    "        gpt.trf_blocks[b].ff.layers[0].bias = assign(\n",
    "            gpt.trf_blocks[b].ff.layers[0].bias, \n",
    "            params[\"blocks\"][b][\"mlp\"][\"c_fc\"][\"b\"])\n",
    "        gpt.trf_blocks[b].ff.layers[2].weight = assign(\n",
    "            gpt.trf_blocks[b].ff.layers[2].weight, \n",
    "            params[\"blocks\"][b][\"mlp\"][\"c_proj\"][\"w\"].T)\n",
    "        gpt.trf_blocks[b].ff.layers[2].bias = assign(\n",
    "            gpt.trf_blocks[b].ff.layers[2].bias, \n",
    "            params[\"blocks\"][b][\"mlp\"][\"c_proj\"][\"b\"])\n",
    "\n",
    "        gpt.trf_blocks[b].norm1.scale = assign(\n",
    "            gpt.trf_blocks[b].norm1.scale, \n",
    "            params[\"blocks\"][b][\"ln_1\"][\"g\"])\n",
    "        gpt.trf_blocks[b].norm1.shift = assign(\n",
    "            gpt.trf_blocks[b].norm1.shift, \n",
    "            params[\"blocks\"][b][\"ln_1\"][\"b\"])\n",
    "        gpt.trf_blocks[b].norm2.scale = assign(\n",
    "            gpt.trf_blocks[b].norm2.scale, \n",
    "            params[\"blocks\"][b][\"ln_2\"][\"g\"])\n",
    "        gpt.trf_blocks[b].norm2.shift = assign(\n",
    "            gpt.trf_blocks[b].norm2.shift, \n",
    "            params[\"blocks\"][b][\"ln_2\"][\"b\"])\n",
    "\n",
    "    gpt.final_norm.scale = assign(gpt.final_norm.scale, params[\"g\"])\n",
    "    gpt.final_norm.shift = assign(gpt.final_norm.shift, params[\"b\"])\n",
    "    gpt.out_head.weight = assign(gpt.out_head.weight, params[\"wte\"])\n",
    "\n"
   ]
  },
  {
   "cell_type": "markdown",
   "metadata": {},
   "source": [
    "<div class=\"alert alert-block alert-success\">\n",
    "\n",
    "In the load_weights_into_gpt function, we carefully match the weights from OpenAI's\n",
    "implementation with our GPTModel implementation. \n",
    "\n",
    "To pick a specific example, OpenAI\n",
    "stored the weight tensor for the output projection layer for the first transformer block as\n",
    "params[\"blocks\"][0][\"attn\"][\"c_proj\"][\"w\"]. \n",
    "                                                        \n",
    "In our implementation, this weight\n",
    "tensor corresponds to gpt.trf_blocks[b].att.out_proj.weight, where gpt is a\n",
    "GPTModel instance.\n",
    "</div>"
   ]
  },
  {
   "cell_type": "markdown",
   "metadata": {},
   "source": [
    "<div class=\"alert alert-block alert-success\">\n",
    "\n",
    "Developing the load_weights_into_gpt function took a lot of guesswork since OpenAI\n",
    "used a slightly different naming convention from ours. \n",
    "\n",
    "However, the assign function would\n",
    "alert us if we try to match two tensors with different dimensions. \n",
    "\n",
    "Also, if we made a\n",
    "mistake in this function, we would notice this as the resulting GPT model would be unable\n",
    "to produce coherent text.\n",
    "    \n",
    "</div>"
   ]
  },
  {
   "cell_type": "markdown",
   "metadata": {},
   "source": [
    "<div class=\"alert alert-block alert-success\">\n",
    "\n",
    "Let's now try the load_weights_into_gpt out in practice and load the OpenAI model\n",
    "weights into our GPTModel instance gpt:\n",
    "    \n",
    "</div>"
   ]
  },
  {
   "cell_type": "code",
   "execution_count": 228,
   "metadata": {},
   "outputs": [],
   "source": [
    "load_weights_into_gpt(gpt, params)\n",
    "gpt.to(device);"
   ]
  },
  {
   "cell_type": "markdown",
   "metadata": {},
   "source": [
    "<div class=\"alert alert-block alert-success\">\n",
    "\n",
    "If the model is loaded correctly, we can now use it to generate new text using our previous\n",
    "generate function:\n",
    "    \n",
    "</div>"
   ]
  },
  {
   "cell_type": "code",
   "execution_count": 229,
   "metadata": {},
   "outputs": [
    {
     "name": "stdout",
     "output_type": "stream",
     "text": [
      "Output text:\n",
      " Every effort moves you toward finding an ideal new way to practice something!\n",
      "\n",
      "What makes us want to be on this side of the river?\n"
     ]
    }
   ],
   "source": [
    "torch.manual_seed(123)\n",
    "\n",
    "token_ids = generate(\n",
    "    model=gpt,\n",
    "    idx=text_to_token_ids(\"Every effort moves you\", tokenizer).to(device),\n",
    "    max_new_tokens=25,\n",
    "    context_size=NEW_CONFIG[\"context_length\"],\n",
    "    top_k=50,\n",
    "    temperature=1.4\n",
    ")\n",
    "\n",
    "print(\"Output text:\\n\", token_ids_to_text(token_ids, tokenizer))"
   ]
  },
  {
   "cell_type": "markdown",
   "metadata": {},
   "source": [
    "<div class=\"alert alert-block alert-warning\">\n",
    "\n",
    "We can be confident that we loaded the model weights correctly because the model can\n",
    "produce coherent text. \n",
    "\n",
    "A tiny mistake in this process would cause the model to fail.\n",
    "\n",
    "    \n",
    "In the following chapters, we will work further with this pretrained model and fine-tune it\n",
    "to classify text and follow instructions.\n",
    "</div>"
   ]
  },
  {
   "cell_type": "markdown",
   "metadata": {},
   "source": [
    "# FINETUNING FOR CLASSIFICATION"
   ]
  },
  {
   "cell_type": "markdown",
   "metadata": {},
   "source": [
    "### DOWNLOADING DATASET"
   ]
  },
  {
   "cell_type": "code",
   "execution_count": 230,
   "metadata": {},
   "outputs": [
    {
     "name": "stdout",
     "output_type": "stream",
     "text": [
      "sms_spam_collection/SMSSpamCollection.tsv already exists. Skipping download and extraction.\n"
     ]
    }
   ],
   "source": [
    "import urllib.request\n",
    "import ssl\n",
    "import zipfile\n",
    "import os\n",
    "from pathlib import Path\n",
    "\n",
    "url = \"https://archive.ics.uci.edu/static/public/228/sms+spam+collection.zip\"\n",
    "zip_path = \"sms_spam_collection.zip\"\n",
    "extracted_path = \"sms_spam_collection\"\n",
    "data_file_path = Path(extracted_path) / \"SMSSpamCollection.tsv\"\n",
    "\n",
    "def download_and_unzip_spam_data(url, zip_path, extracted_path, data_file_path):\n",
    "    if data_file_path.exists():\n",
    "        print(f\"{data_file_path} already exists. Skipping download and extraction.\")\n",
    "        return\n",
    "\n",
    "    # Create an unverified SSL context\n",
    "    ssl_context = ssl._create_unverified_context()\n",
    "\n",
    "    # Downloading the file\n",
    "    with urllib.request.urlopen(url, context=ssl_context) as response:\n",
    "        with open(zip_path, \"wb\") as out_file:\n",
    "            out_file.write(response.read())\n",
    "\n",
    "    # Unzipping the file\n",
    "    with zipfile.ZipFile(zip_path, \"r\") as zip_ref:\n",
    "        zip_ref.extractall(extracted_path)\n",
    "\n",
    "    # Add .tsv file extension\n",
    "    original_file_path = Path(extracted_path) / \"SMSSpamCollection\"\n",
    "    os.rename(original_file_path, data_file_path)\n",
    "    print(f\"File downloaded and saved as {data_file_path}\")\n",
    "\n",
    "download_and_unzip_spam_data(url, zip_path, extracted_path, data_file_path)\n"
   ]
  },
  {
   "cell_type": "markdown",
   "metadata": {},
   "source": [
    "<div class=\"alert alert-block alert-info\">\n",
    "\n",
    "After executing the preceding code, the dataset is saved as a tab-separated text file,\n",
    "SMSSpamCollection.tsv, in the sms_spam_collection folder. \n",
    "\n",
    "We can load it into a pandas\n",
    "DataFrame as follows:\n",
    "</div>"
   ]
  },
  {
   "cell_type": "code",
   "execution_count": 231,
   "metadata": {},
   "outputs": [
    {
     "data": {
      "text/html": [
       "<div>\n",
       "<style scoped>\n",
       "    .dataframe tbody tr th:only-of-type {\n",
       "        vertical-align: middle;\n",
       "    }\n",
       "\n",
       "    .dataframe tbody tr th {\n",
       "        vertical-align: top;\n",
       "    }\n",
       "\n",
       "    .dataframe thead th {\n",
       "        text-align: right;\n",
       "    }\n",
       "</style>\n",
       "<table border=\"1\" class=\"dataframe\">\n",
       "  <thead>\n",
       "    <tr style=\"text-align: right;\">\n",
       "      <th></th>\n",
       "      <th>Label</th>\n",
       "      <th>Text</th>\n",
       "    </tr>\n",
       "  </thead>\n",
       "  <tbody>\n",
       "    <tr>\n",
       "      <th>0</th>\n",
       "      <td>ham</td>\n",
       "      <td>Go until jurong point, crazy.. Available only ...</td>\n",
       "    </tr>\n",
       "    <tr>\n",
       "      <th>1</th>\n",
       "      <td>ham</td>\n",
       "      <td>Ok lar... Joking wif u oni...</td>\n",
       "    </tr>\n",
       "    <tr>\n",
       "      <th>2</th>\n",
       "      <td>spam</td>\n",
       "      <td>Free entry in 2 a wkly comp to win FA Cup fina...</td>\n",
       "    </tr>\n",
       "    <tr>\n",
       "      <th>3</th>\n",
       "      <td>ham</td>\n",
       "      <td>U dun say so early hor... U c already then say...</td>\n",
       "    </tr>\n",
       "    <tr>\n",
       "      <th>4</th>\n",
       "      <td>ham</td>\n",
       "      <td>Nah I don't think he goes to usf, he lives aro...</td>\n",
       "    </tr>\n",
       "    <tr>\n",
       "      <th>...</th>\n",
       "      <td>...</td>\n",
       "      <td>...</td>\n",
       "    </tr>\n",
       "    <tr>\n",
       "      <th>5567</th>\n",
       "      <td>spam</td>\n",
       "      <td>This is the 2nd time we have tried 2 contact u...</td>\n",
       "    </tr>\n",
       "    <tr>\n",
       "      <th>5568</th>\n",
       "      <td>ham</td>\n",
       "      <td>Will ü b going to esplanade fr home?</td>\n",
       "    </tr>\n",
       "    <tr>\n",
       "      <th>5569</th>\n",
       "      <td>ham</td>\n",
       "      <td>Pity, * was in mood for that. So...any other s...</td>\n",
       "    </tr>\n",
       "    <tr>\n",
       "      <th>5570</th>\n",
       "      <td>ham</td>\n",
       "      <td>The guy did some bitching but I acted like i'd...</td>\n",
       "    </tr>\n",
       "    <tr>\n",
       "      <th>5571</th>\n",
       "      <td>ham</td>\n",
       "      <td>Rofl. Its true to its name</td>\n",
       "    </tr>\n",
       "  </tbody>\n",
       "</table>\n",
       "<p>5572 rows × 2 columns</p>\n",
       "</div>"
      ],
      "text/plain": [
       "     Label                                               Text\n",
       "0      ham  Go until jurong point, crazy.. Available only ...\n",
       "1      ham                      Ok lar... Joking wif u oni...\n",
       "2     spam  Free entry in 2 a wkly comp to win FA Cup fina...\n",
       "3      ham  U dun say so early hor... U c already then say...\n",
       "4      ham  Nah I don't think he goes to usf, he lives aro...\n",
       "...    ...                                                ...\n",
       "5567  spam  This is the 2nd time we have tried 2 contact u...\n",
       "5568   ham               Will ü b going to esplanade fr home?\n",
       "5569   ham  Pity, * was in mood for that. So...any other s...\n",
       "5570   ham  The guy did some bitching but I acted like i'd...\n",
       "5571   ham                         Rofl. Its true to its name\n",
       "\n",
       "[5572 rows x 2 columns]"
      ]
     },
     "execution_count": 231,
     "metadata": {},
     "output_type": "execute_result"
    }
   ],
   "source": [
    "import pandas as pd\n",
    "\n",
    "df = pd.read_csv(data_file_path, sep=\"\\t\", header=None, names=[\"Label\", \"Text\"])\n",
    "df"
   ]
  },
  {
   "cell_type": "markdown",
   "metadata": {},
   "source": [
    "<div class=\"alert alert-block alert-success\">\n",
    "\n",
    "When we check the class distribution, we see that the data contains \"ham\" (i.e., \"not spam\") much more frequently than \"spam\"\n",
    "    \n",
    "</div>"
   ]
  },
  {
   "cell_type": "code",
   "execution_count": 232,
   "metadata": {},
   "outputs": [
    {
     "name": "stdout",
     "output_type": "stream",
     "text": [
      "Label\n",
      "ham     4825\n",
      "spam     747\n",
      "Name: count, dtype: int64\n"
     ]
    }
   ],
   "source": [
    "print(df[\"Label\"].value_counts())\n"
   ]
  },
  {
   "cell_type": "markdown",
   "metadata": {},
   "source": [
    "<div class=\"alert alert-block alert-info\">\n",
    "\n",
    "For simplicity, and because we prefer a small dataset for educational purposes anyway (it will make it possible to finetune the LLM faster), we subsample (undersample) the dataset so that it contains 747 instances from each class\n",
    "</div>"
   ]
  },
  {
   "cell_type": "code",
   "execution_count": 233,
   "metadata": {},
   "outputs": [
    {
     "name": "stdout",
     "output_type": "stream",
     "text": [
      "Label\n",
      "ham     747\n",
      "spam    747\n",
      "Name: count, dtype: int64\n"
     ]
    }
   ],
   "source": [
    "def create_balanced_dataset(df):\n",
    "    \n",
    "    # Count the instances of \"spam\"\n",
    "    num_spam = df[df[\"Label\"] == \"spam\"].shape[0]\n",
    "    \n",
    "    # Randomly sample \"ham\" instances to match the number of \"spam\" instances\n",
    "    ham_subset = df[df[\"Label\"] == \"ham\"].sample(num_spam, random_state=123)\n",
    "    \n",
    "    # Combine ham \"subset\" with \"spam\"\n",
    "    balanced_df = pd.concat([ham_subset, df[df[\"Label\"] == \"spam\"]])\n",
    "\n",
    "    return balanced_df\n",
    "\n",
    "balanced_df = create_balanced_dataset(df)\n",
    "print(balanced_df[\"Label\"].value_counts())"
   ]
  },
  {
   "cell_type": "markdown",
   "metadata": {},
   "source": [
    "<div class=\"alert alert-block alert-info\">\n",
    "\n",
    "After executing the previous code to balance the dataset, we can see that we now have\n",
    "equal amounts of spam and non-spam messages:\n",
    "\n",
    "</div>"
   ]
  },
  {
   "cell_type": "markdown",
   "metadata": {},
   "source": [
    "<div class=\"alert alert-block alert-success\">\n",
    "\n",
    "Next, we convert the \"string\" class labels \"ham\" and \"spam\" into integer class labels 0 and\n",
    "1, respectively:\n",
    "    \n",
    "</div>"
   ]
  },
  {
   "cell_type": "code",
   "execution_count": 234,
   "metadata": {},
   "outputs": [],
   "source": [
    "balanced_df[\"Label\"] = balanced_df[\"Label\"].map({\"ham\": 0, \"spam\": 1})"
   ]
  },
  {
   "cell_type": "markdown",
   "metadata": {},
   "source": [
    "<div class=\"alert alert-block alert-info\">\n",
    "\n",
    "This process is similar to converting text into token IDs. \n",
    "\n",
    "However, instead of using the GPT\n",
    "vocabulary, which consists of more than 50,000 words, we are dealing with just two token\n",
    "IDs: 0 and 1.\n",
    "\n",
    "</div>"
   ]
  },
  {
   "cell_type": "markdown",
   "metadata": {},
   "source": [
    "<div class=\"alert alert-block alert-success\">\n",
    "\n",
    "We create a random_split function to split the dataset into three parts: 70% for\n",
    "training, 10% for validation, and 20% for testing. \n",
    "\n",
    "(These ratios are common in machine\n",
    "learning to train, adjust, and evaluate models.)    \n",
    "</div>"
   ]
  },
  {
   "cell_type": "code",
   "execution_count": 235,
   "metadata": {},
   "outputs": [],
   "source": [
    "def random_split(df, train_frac, validation_frac):\n",
    "    # Shuffle the entire DataFrame\n",
    "    df = df.sample(frac=1, random_state=123).reset_index(drop=True)\n",
    "\n",
    "    # Calculate split indices\n",
    "    train_end = int(len(df) * train_frac)\n",
    "    validation_end = train_end + int(len(df) * validation_frac)\n",
    "\n",
    "    # Split the DataFrame\n",
    "    train_df = df[:train_end]\n",
    "    validation_df = df[train_end:validation_end]\n",
    "    test_df = df[validation_end:]\n",
    "\n",
    "    return train_df, validation_df, test_df\n",
    "\n",
    "train_df, validation_df, test_df = random_split(balanced_df, 0.7, 0.1)\n",
    "# Test size is implied to be 0.2 as the remainder\n"
   ]
  },
  {
   "cell_type": "code",
   "execution_count": 236,
   "metadata": {},
   "outputs": [
    {
     "name": "stdout",
     "output_type": "stream",
     "text": [
      "1045\n",
      "149\n",
      "300\n"
     ]
    }
   ],
   "source": [
    "print(len(train_df))\n",
    "print(len(validation_df))\n",
    "print(len(test_df))"
   ]
  },
  {
   "cell_type": "markdown",
   "metadata": {},
   "source": [
    "<div class=\"alert alert-block alert-success\">\n",
    "\n",
    "Additionally, we save the dataset as CSV (comma-separated value) files, which we can\n",
    "reuse later:\n",
    "</div>"
   ]
  },
  {
   "cell_type": "code",
   "execution_count": 237,
   "metadata": {},
   "outputs": [],
   "source": [
    "train_df.to_csv(\"train.csv\", index=None)\n",
    "validation_df.to_csv(\"validation.csv\", index=None)\n",
    "test_df.to_csv(\"test.csv\", index=None)"
   ]
  },
  {
   "cell_type": "markdown",
   "metadata": {},
   "source": [
    "### CREATING DATALOADERS"
   ]
  },
  {
   "cell_type": "markdown",
   "metadata": {},
   "source": [
    "<div class=\"alert alert-block alert-success\">\n",
    "\n",
    "Previously, we utilized a sliding window technique to generate uniformly\n",
    "sized text chunks, which were then grouped into batches for more efficient model training.\n",
    "Each chunk functioned as an individual training instance\n",
    "\n",
    "In the case of email spam classification, have two primary options:\n",
    "\n",
    "(1) Truncate all messages to the length of the shortest message in the\n",
    "dataset or batch.\n",
    "\n",
    "(2) Pad all messages to the length of the longest message in the dataset or\n",
    "batch.\n",
    "    \n",
    "</div>"
   ]
  },
  {
   "cell_type": "markdown",
   "metadata": {},
   "source": [
    "<div class=\"alert alert-block alert-warning\">\n",
    "\n",
    "Option 1 is computationally cheaper, but it may result in significant information loss if\n",
    "shorter messages are much smaller than the average or longest messages, potentially\n",
    "reducing model performance. \n",
    "\n",
    "So, we opt for the second option, which preserves the entire\n",
    "content of all messages.\n",
    "\n",
    "To implement option 2, where all messages are padded to the length of the longest\n",
    "message in the dataset, we add padding tokens to all shorter messages. \n",
    "\n",
    "For this purpose,\n",
    "we use \"<|endoftext|>\" as a padding token, as discussed in chapter 2.\n",
    "\n",
    "    \n",
    "However, instead of appending the string \"<|endoftext|>\" to each of the text messages\n",
    "directly, we can add the token ID corresponding to \"<|endoftext|>\" to the encoded text\n",
    "</div>"
   ]
  },
  {
   "cell_type": "markdown",
   "metadata": {},
   "source": [
    "<div class=\"alert alert-block alert-success\">\n",
    "\n",
    "As we have seen earlier, we first need to implement a PyTorch Dataset, which\n",
    "specifies how the data is loaded and processed, before we can instantiate the data loaders.\n",
    "    \n",
    "</div>"
   ]
  },
  {
   "cell_type": "markdown",
   "metadata": {},
   "source": [
    "<div class=\"alert alert-block alert-success\">\n",
    "\n",
    "For this purpose, we define the SpamDataset class.\n",
    "\n",
    "This SpamDataset class handles several key tasks: it identifies the\n",
    "longest sequence in the training dataset, encodes the text messages, and ensures that all\n",
    "other sequences are padded with a padding token to match the length of the longest\n",
    "sequence.\n",
    "    \n",
    "</div>"
   ]
  },
  {
   "cell_type": "code",
   "execution_count": 238,
   "metadata": {},
   "outputs": [],
   "source": [
    "import torch\n",
    "from torch.utils.data import Dataset\n",
    "\n",
    "\n",
    "class SpamDataset(Dataset):\n",
    "    def __init__(self, csv_file, tokenizer, max_length=None, pad_token_id=50256):\n",
    "        self.data = pd.read_csv(csv_file)\n",
    "\n",
    "        # Pre-tokenize texts\n",
    "        self.encoded_texts = [\n",
    "            tokenizer.encode(text) for text in self.data[\"Text\"]\n",
    "        ]\n",
    "\n",
    "        if max_length is None:\n",
    "            self.max_length = self._longest_encoded_length()\n",
    "        else:\n",
    "            self.max_length = max_length\n",
    "            \n",
    "            # Truncate sequences if they are longer than max_length\n",
    "            self.encoded_texts = [\n",
    "                encoded_text[:self.max_length]\n",
    "                for encoded_text in self.encoded_texts\n",
    "            ]\n",
    "\n",
    "        # Pad sequences to the longest sequence\n",
    "        self.encoded_texts = [\n",
    "            encoded_text + [pad_token_id] * (self.max_length - len(encoded_text))\n",
    "            for encoded_text in self.encoded_texts\n",
    "        ]\n",
    "\n",
    "    def __getitem__(self, index):\n",
    "        encoded = self.encoded_texts[index]\n",
    "        label = self.data.iloc[index][\"Label\"]\n",
    "        return (\n",
    "            torch.tensor(encoded, dtype=torch.long),\n",
    "            torch.tensor(label, dtype=torch.long)\n",
    "        )\n",
    "\n",
    "    def __len__(self):\n",
    "        return len(self.data)\n",
    "\n",
    "    def _longest_encoded_length(self):\n",
    "        max_length = 0\n",
    "        for encoded_text in self.encoded_texts:\n",
    "            encoded_length = len(encoded_text)\n",
    "            if encoded_length > max_length:\n",
    "                max_length = encoded_length\n",
    "        return max_length"
   ]
  },
  {
   "cell_type": "markdown",
   "metadata": {},
   "source": [
    "<div class=\"alert alert-block alert-info\">\n",
    "\n",
    "Step 1: Pre-tokenize texts\n",
    "    \n",
    "Step 2: Truncate sequences if they are longer than max_length\n",
    "    \n",
    "Step 3: Pad sequences to the longest sequence\n",
    "\n",
    "</div>"
   ]
  },
  {
   "cell_type": "markdown",
   "metadata": {},
   "source": [
    "<div class=\"alert alert-block alert-warning\">\n",
    "\n",
    "The SpamDataset class loads data from the CSV files we created earlier, tokenizes the text\n",
    "using the GPT-2 tokenizer from tiktoken and allows us to pad or truncate the sequences to\n",
    "a uniform length determined by either the longest sequence or a predefined maximum\n",
    "length.\n",
    "</div>"
   ]
  },
  {
   "cell_type": "markdown",
   "metadata": {},
   "source": [
    "<div class=\"alert alert-block alert-success\">\n",
    "\n",
    "This ensures each input tensor is of the same size, which is necessary to create the\n",
    "batches in the training data loader we implement next:\n",
    "    \n",
    "</div>"
   ]
  },
  {
   "cell_type": "code",
   "execution_count": 239,
   "metadata": {},
   "outputs": [
    {
     "name": "stdout",
     "output_type": "stream",
     "text": [
      "120\n"
     ]
    }
   ],
   "source": [
    "train_dataset = SpamDataset(\n",
    "    csv_file=\"train.csv\",\n",
    "    max_length=None,\n",
    "    tokenizer=tokenizer\n",
    ")\n",
    "\n",
    "print(train_dataset.max_length)"
   ]
  },
  {
   "cell_type": "markdown",
   "metadata": {},
   "source": [
    "<div class=\"alert alert-block alert-info\">\n",
    "\n",
    "The code outputs 120, showing that the longest sequence contains no more than 120\n",
    "tokens, a common length for text messages. \n",
    "                       \n",
    "It's worth noting that the model can handle\n",
    "sequences of up to 1,024 tokens, given its context length limit. \n",
    "\n",
    "If your dataset includes\n",
    "longer texts, you can pass max_length=1024 when creating the training dataset in the\n",
    "preceding code to ensure that the data does not exceed the model's supported input\n",
    "(context) length.\n",
    "\n",
    "</div>"
   ]
  },
  {
   "cell_type": "markdown",
   "metadata": {},
   "source": [
    "<div class=\"alert alert-block alert-success\">\n",
    "\n",
    "Next, we pad the validation and test sets to match the length of the longest training\n",
    "sequence. \n",
    "\n",
    "It's important to note that any validation and test set samples exceeding the\n",
    "length of the longest training example are truncated using\n",
    "encoded_text[:self.max_length] in the SpamDataset code we defined earlier. \n",
    "\n",
    "This\n",
    "truncation is optional; you could also set max_length=None for both validation and test\n",
    "sets, provided there are no sequences exceeding 1,024 tokens in these sets\n",
    "</div>"
   ]
  },
  {
   "cell_type": "code",
   "execution_count": 240,
   "metadata": {},
   "outputs": [
    {
     "name": "stdout",
     "output_type": "stream",
     "text": [
      "120\n"
     ]
    }
   ],
   "source": [
    "val_dataset = SpamDataset(\n",
    "    csv_file=\"validation.csv\",\n",
    "    max_length=train_dataset.max_length,\n",
    "    tokenizer=tokenizer\n",
    ")\n",
    "test_dataset = SpamDataset(\n",
    "    csv_file=\"test.csv\",\n",
    "    max_length=train_dataset.max_length,\n",
    "    tokenizer=tokenizer\n",
    ")\n",
    "\n",
    "print(test_dataset.max_length)"
   ]
  },
  {
   "cell_type": "markdown",
   "metadata": {},
   "source": [
    "<div class=\"alert alert-block alert-success\">\n",
    "\n",
    "Using the datasets as inputs, we can instantiate the data loaders similarly to what we did earlier. \n",
    "\n",
    "However, in this case, the targets represent class labels rather than the next\n",
    "tokens in the text. \n",
    "\n",
    "For instance, choosing a batch size of 8, each batch will consist of 8\n",
    "training examples of length 120 and the corresponding class label of each example.\n",
    "</div>"
   ]
  },
  {
   "cell_type": "code",
   "execution_count": 241,
   "metadata": {},
   "outputs": [],
   "source": [
    "from torch.utils.data import DataLoader\n",
    "\n",
    "num_workers = 0\n",
    "batch_size = 8\n",
    "\n",
    "torch.manual_seed(123)\n",
    "\n",
    "train_loader = DataLoader(\n",
    "    dataset=train_dataset,\n",
    "    batch_size=batch_size,\n",
    "    shuffle=True,\n",
    "    num_workers=num_workers,\n",
    "    drop_last=True,\n",
    ")\n",
    "\n",
    "val_loader = DataLoader(\n",
    "    dataset=val_dataset,\n",
    "    batch_size=batch_size,\n",
    "    num_workers=num_workers,\n",
    "    drop_last=False,\n",
    ")\n",
    "\n",
    "test_loader = DataLoader(\n",
    "    dataset=test_dataset,\n",
    "    batch_size=batch_size,\n",
    "    num_workers=num_workers,\n",
    "    drop_last=False,\n",
    ")"
   ]
  },
  {
   "cell_type": "markdown",
   "metadata": {},
   "source": [
    "<div class=\"alert alert-block alert-success\">\n",
    "\n",
    "To ensure that the data loaders are working and are indeed returning batches of the\n",
    "expected size, we iterate over the training loader and then print the tensor dimensions of\n",
    "the last batch:\n",
    "\n",
    "</div>"
   ]
  },
  {
   "cell_type": "code",
   "execution_count": 242,
   "metadata": {},
   "outputs": [
    {
     "name": "stdout",
     "output_type": "stream",
     "text": [
      "Train loader:\n",
      "Input batch dimensions: torch.Size([8, 120])\n",
      "Label batch dimensions torch.Size([8])\n"
     ]
    }
   ],
   "source": [
    "print(\"Train loader:\")\n",
    "for input_batch, target_batch in train_loader:\n",
    "    pass\n",
    "\n",
    "print(\"Input batch dimensions:\", input_batch.shape)\n",
    "print(\"Label batch dimensions\", target_batch.shape)"
   ]
  },
  {
   "cell_type": "markdown",
   "metadata": {},
   "source": [
    "<div class=\"alert alert-block alert-info\">\n",
    "\n",
    "As we can see, the input batches consist of 8 training examples with 120 tokens each, as\n",
    "expected.\n",
    "\n",
    "The label tensor stores the class labels corresponding to the 8 training examples.\n",
    "\n",
    "</div>"
   ]
  },
  {
   "cell_type": "markdown",
   "metadata": {},
   "source": [
    "<div class=\"alert alert-block alert-success\">\n",
    "\n",
    "Lastly, to get an idea of the dataset size, let's print the total number of batches in each\n",
    "dataset:\n",
    "</div>"
   ]
  },
  {
   "cell_type": "code",
   "execution_count": 243,
   "metadata": {},
   "outputs": [
    {
     "name": "stdout",
     "output_type": "stream",
     "text": [
      "130 training batches\n",
      "19 validation batches\n",
      "38 test batches\n"
     ]
    }
   ],
   "source": [
    "print(f\"{len(train_loader)} training batches\")\n",
    "print(f\"{len(val_loader)} validation batches\")\n",
    "print(f\"{len(test_loader)} test batches\")"
   ]
  },
  {
   "cell_type": "markdown",
   "metadata": {},
   "source": [
    "<div class=\"alert alert-block alert-success\">\n",
    "\n",
    "This concludes the data preparation. Next, we will prepare the model for\n",
    "finetuning.\n",
    "</div>"
   ]
  },
  {
   "cell_type": "markdown",
   "metadata": {},
   "source": [
    "## INITIALIZING A MODEL WITH PRETRAINED WEIGHTS"
   ]
  },
  {
   "cell_type": "markdown",
   "metadata": {},
   "source": [
    "<div class=\"alert alert-block alert-success\">\n",
    "\n",
    "In this section, we prepare the model we will use for the classification-finetuning to identify\n",
    "spam messages. \n",
    "\n",
    "We start with initializing the pretrained model we worked with in the\n",
    "previous chapter\n",
    "</div>"
   ]
  },
  {
   "cell_type": "code",
   "execution_count": 244,
   "metadata": {},
   "outputs": [],
   "source": [
    "CHOOSE_MODEL = \"gpt2-small (124M)\"\n",
    "INPUT_PROMPT = \"Every effort moves\"\n",
    "\n",
    "BASE_CONFIG = {\n",
    "    \"vocab_size\": 50257,     # Vocabulary size\n",
    "    \"context_length\": 1024,  # Context length\n",
    "    \"drop_rate\": 0.0,        # Dropout rate\n",
    "    \"qkv_bias\": True         # Query-key-value bias\n",
    "}\n",
    "\n",
    "model_configs = {\n",
    "    \"gpt2-small (124M)\": {\"emb_dim\": 768, \"n_layers\": 12, \"n_heads\": 12},\n",
    "    \"gpt2-medium (355M)\": {\"emb_dim\": 1024, \"n_layers\": 24, \"n_heads\": 16},\n",
    "    \"gpt2-large (774M)\": {\"emb_dim\": 1280, \"n_layers\": 36, \"n_heads\": 20},\n",
    "    \"gpt2-xl (1558M)\": {\"emb_dim\": 1600, \"n_layers\": 48, \"n_heads\": 25},\n",
    "}\n",
    "\n",
    "BASE_CONFIG.update(model_configs[CHOOSE_MODEL])\n",
    "\n",
    "assert train_dataset.max_length <= BASE_CONFIG[\"context_length\"], (\n",
    "    f\"Dataset length {train_dataset.max_length} exceeds model's context \"\n",
    "    f\"length {BASE_CONFIG['context_length']}. Reinitialize data sets with \"\n",
    "    f\"`max_length={BASE_CONFIG['context_length']}`\"\n",
    ")"
   ]
  },
  {
   "cell_type": "markdown",
   "metadata": {},
   "source": [
    "<div class=\"alert alert-block alert-success\">\n",
    "\n",
    "Next, we import the download_and_load_gpt function from the gpt_download3.py file we\n",
    "downloaded earlier. \n",
    "\n",
    "Furthermore, we also reuse the GPTModel class and\n",
    "load_weights_into_gpt function from chapter 5 to load the downloaded weights into the\n",
    "GPT model:\n",
    "\n",
    "</div>"
   ]
  },
  {
   "cell_type": "code",
   "execution_count": 245,
   "metadata": {},
   "outputs": [
    {
     "name": "stderr",
     "output_type": "stream",
     "text": [
      "/Library/Frameworks/Python.framework/Versions/3.12/lib/python3.12/site-packages/urllib3/connectionpool.py:1103: InsecureRequestWarning: Unverified HTTPS request is being made to host 'openaipublic.blob.core.windows.net'. Adding certificate verification is strongly advised. See: https://urllib3.readthedocs.io/en/latest/advanced-usage.html#tls-warnings\n",
      "  warnings.warn(\n"
     ]
    },
    {
     "name": "stdout",
     "output_type": "stream",
     "text": [
      "File already exists and is up-to-date: gpt2/124M/checkpoint\n"
     ]
    },
    {
     "name": "stderr",
     "output_type": "stream",
     "text": [
      "/Library/Frameworks/Python.framework/Versions/3.12/lib/python3.12/site-packages/urllib3/connectionpool.py:1103: InsecureRequestWarning: Unverified HTTPS request is being made to host 'openaipublic.blob.core.windows.net'. Adding certificate verification is strongly advised. See: https://urllib3.readthedocs.io/en/latest/advanced-usage.html#tls-warnings\n",
      "  warnings.warn(\n"
     ]
    },
    {
     "name": "stdout",
     "output_type": "stream",
     "text": [
      "File already exists and is up-to-date: gpt2/124M/encoder.json\n"
     ]
    },
    {
     "name": "stderr",
     "output_type": "stream",
     "text": [
      "/Library/Frameworks/Python.framework/Versions/3.12/lib/python3.12/site-packages/urllib3/connectionpool.py:1103: InsecureRequestWarning: Unverified HTTPS request is being made to host 'openaipublic.blob.core.windows.net'. Adding certificate verification is strongly advised. See: https://urllib3.readthedocs.io/en/latest/advanced-usage.html#tls-warnings\n",
      "  warnings.warn(\n"
     ]
    },
    {
     "name": "stdout",
     "output_type": "stream",
     "text": [
      "File already exists and is up-to-date: gpt2/124M/hparams.json\n"
     ]
    },
    {
     "name": "stderr",
     "output_type": "stream",
     "text": [
      "/Library/Frameworks/Python.framework/Versions/3.12/lib/python3.12/site-packages/urllib3/connectionpool.py:1103: InsecureRequestWarning: Unverified HTTPS request is being made to host 'openaipublic.blob.core.windows.net'. Adding certificate verification is strongly advised. See: https://urllib3.readthedocs.io/en/latest/advanced-usage.html#tls-warnings\n",
      "  warnings.warn(\n"
     ]
    },
    {
     "name": "stdout",
     "output_type": "stream",
     "text": [
      "File already exists and is up-to-date: gpt2/124M/model.ckpt.data-00000-of-00001\n"
     ]
    },
    {
     "name": "stderr",
     "output_type": "stream",
     "text": [
      "/Library/Frameworks/Python.framework/Versions/3.12/lib/python3.12/site-packages/urllib3/connectionpool.py:1103: InsecureRequestWarning: Unverified HTTPS request is being made to host 'openaipublic.blob.core.windows.net'. Adding certificate verification is strongly advised. See: https://urllib3.readthedocs.io/en/latest/advanced-usage.html#tls-warnings\n",
      "  warnings.warn(\n"
     ]
    },
    {
     "name": "stdout",
     "output_type": "stream",
     "text": [
      "File already exists and is up-to-date: gpt2/124M/model.ckpt.index\n"
     ]
    },
    {
     "name": "stderr",
     "output_type": "stream",
     "text": [
      "/Library/Frameworks/Python.framework/Versions/3.12/lib/python3.12/site-packages/urllib3/connectionpool.py:1103: InsecureRequestWarning: Unverified HTTPS request is being made to host 'openaipublic.blob.core.windows.net'. Adding certificate verification is strongly advised. See: https://urllib3.readthedocs.io/en/latest/advanced-usage.html#tls-warnings\n",
      "  warnings.warn(\n"
     ]
    },
    {
     "name": "stdout",
     "output_type": "stream",
     "text": [
      "File already exists and is up-to-date: gpt2/124M/model.ckpt.meta\n"
     ]
    },
    {
     "name": "stderr",
     "output_type": "stream",
     "text": [
      "/Library/Frameworks/Python.framework/Versions/3.12/lib/python3.12/site-packages/urllib3/connectionpool.py:1103: InsecureRequestWarning: Unverified HTTPS request is being made to host 'openaipublic.blob.core.windows.net'. Adding certificate verification is strongly advised. See: https://urllib3.readthedocs.io/en/latest/advanced-usage.html#tls-warnings\n",
      "  warnings.warn(\n"
     ]
    },
    {
     "name": "stdout",
     "output_type": "stream",
     "text": [
      "File already exists and is up-to-date: gpt2/124M/vocab.bpe\n"
     ]
    }
   ],
   "source": [
    "model_size = CHOOSE_MODEL.split(\" \")[-1].lstrip(\"(\").rstrip(\")\")\n",
    "\n",
    "from gpt_download3 import download_and_load_gpt2\n",
    "\n",
    "settings, params = download_and_load_gpt2(model_size=model_size, models_dir=\"gpt2\")\n",
    "\n",
    "model = GPTModel(BASE_CONFIG)\n",
    "load_weights_into_gpt(model, params)\n",
    "model.eval();"
   ]
  },
  {
   "cell_type": "markdown",
   "metadata": {},
   "source": [
    "<div class=\"alert alert-block alert-success\">\n",
    "\n",
    "To ensure that the model was loaded correctly, let's double-check that it generates coherent text\n",
    "</div>"
   ]
  },
  {
   "cell_type": "code",
   "execution_count": 247,
   "metadata": {},
   "outputs": [
    {
     "name": "stdout",
     "output_type": "stream",
     "text": [
      "Every effort moves you forward.\n",
      "\n",
      "The first step is to understand the importance of your work\n"
     ]
    }
   ],
   "source": [
    "text_1 = \"Every effort moves you\"\n",
    "\n",
    "token_ids = generate_text_simple(\n",
    "    model=model,\n",
    "    idx=text_to_token_ids(text_1, tokenizer),\n",
    "    max_new_tokens=15,\n",
    "    context_size=BASE_CONFIG[\"context_length\"]\n",
    ")\n",
    "\n",
    "print(token_ids_to_text(token_ids, tokenizer))"
   ]
  },
  {
   "cell_type": "markdown",
   "metadata": {},
   "source": [
    "<div class=\"alert alert-block alert-success\">\n",
    "\n",
    "Now, before we start finetuning the model as a spam classifier, let's see if the model can\n",
    "perhaps already classify spam messages by by prompting it with instructions:\n",
    "    \n",
    "</div>"
   ]
  },
  {
   "cell_type": "code",
   "execution_count": 248,
   "metadata": {},
   "outputs": [
    {
     "name": "stdout",
     "output_type": "stream",
     "text": [
      "Is the following text 'spam'? Answer with 'yes' or 'no': 'You are a winner you have been specially selected to receive $1000 cash or a $2000 award.'\n",
      "\n",
      "The following text 'spam'? Answer with 'yes' or 'no': 'You are a winner\n"
     ]
    }
   ],
   "source": [
    "text_2 = (\n",
    "    \"Is the following text 'spam'? Answer with 'yes' or 'no':\"\n",
    "    \" 'You are a winner you have been specially\"\n",
    "    \" selected to receive $1000 cash or a $2000 award.'\"\n",
    ")\n",
    "\n",
    "token_ids = generate_text_simple(\n",
    "    model=model,\n",
    "    idx=text_to_token_ids(text_2, tokenizer),\n",
    "    max_new_tokens=23,\n",
    "    context_size=BASE_CONFIG[\"context_length\"]\n",
    ")\n",
    "\n",
    "print(token_ids_to_text(token_ids, tokenizer))"
   ]
  },
  {
   "cell_type": "markdown",
   "metadata": {},
   "source": [
    "<div class=\"alert alert-block alert-info\">\n",
    "\n",
    "Based on the output, it's apparent that the model struggles with following instructions.\n",
    "\n",
    "This is anticipated, as it has undergone only pretraining and lacks instruction-finetuning,\n",
    "which we will explore in the upcoming chapter\n",
    "\n",
    "The next section prepares the model for classification-finetuning\n",
    "\n",
    "</div>"
   ]
  },
  {
   "cell_type": "markdown",
   "metadata": {},
   "source": [
    "## ADDING A CLASSIFICATION HEAD"
   ]
  },
  {
   "cell_type": "markdown",
   "metadata": {},
   "source": [
    "<div class=\"alert alert-block alert-success\">\n",
    "\n",
    "In this section, we modify the pretrained large language model to prepare it for\n",
    "classification-finetuning. \n",
    "\n",
    "To do this, we replace the original output layer, which maps the\n",
    "hidden representation to a vocabulary of 50,257, with a smaller output layer that maps to\n",
    "two classes: 0 (\"not spam\") and 1 (\"spam\"),\n",
    "    \n",
    "</div>"
   ]
  },
  {
   "cell_type": "markdown",
   "metadata": {},
   "source": [
    "<div class=\"alert alert-block alert-warning\">\n",
    "\n",
    "We could technically use a single output node since we are dealing with a binary\n",
    "classification task. \n",
    "\n",
    "However, this would require modifying the loss function.\n",
    "\n",
    "Therefore, we choose a\n",
    "more general approach where the number of output nodes matches the number of\n",
    "classes. \n",
    "\n",
    "For example, for a 3-class problem, such as classifying news articles as\n",
    "\"Technology\", \"Sports\", or \"Politics\", we would use three output nodes, and so forth.\n",
    "</div>"
   ]
  },
  {
   "cell_type": "markdown",
   "metadata": {},
   "source": [
    "<div class=\"alert alert-block alert-success\">\n",
    "\n",
    "Before we attempt to construct the modified architecture, let's print the model\n",
    "architecture via print(model), which prints the following:\n",
    "    \n",
    "</div>"
   ]
  },
  {
   "cell_type": "code",
   "execution_count": 249,
   "metadata": {},
   "outputs": [
    {
     "name": "stdout",
     "output_type": "stream",
     "text": [
      "GPTModel(\n",
      "  (tok_emb): Embedding(50257, 768)\n",
      "  (pos_emb): Embedding(1024, 768)\n",
      "  (drop_emb): Dropout(p=0.0, inplace=False)\n",
      "  (trf_blocks): Sequential(\n",
      "    (0): TransformerBlock(\n",
      "      (att): MultiHeadAttention(\n",
      "        (W_query): Linear(in_features=768, out_features=768, bias=True)\n",
      "        (W_key): Linear(in_features=768, out_features=768, bias=True)\n",
      "        (W_value): Linear(in_features=768, out_features=768, bias=True)\n",
      "        (out_proj): Linear(in_features=768, out_features=768, bias=True)\n",
      "        (dropout): Dropout(p=0.0, inplace=False)\n",
      "      )\n",
      "      (ff): FeedForward(\n",
      "        (layers): Sequential(\n",
      "          (0): Linear(in_features=768, out_features=3072, bias=True)\n",
      "          (1): GELU()\n",
      "          (2): Linear(in_features=3072, out_features=768, bias=True)\n",
      "        )\n",
      "      )\n",
      "      (norm1): LayerNorm()\n",
      "      (norm2): LayerNorm()\n",
      "      (drop_shortcut): Dropout(p=0.0, inplace=False)\n",
      "    )\n",
      "    (1): TransformerBlock(\n",
      "      (att): MultiHeadAttention(\n",
      "        (W_query): Linear(in_features=768, out_features=768, bias=True)\n",
      "        (W_key): Linear(in_features=768, out_features=768, bias=True)\n",
      "        (W_value): Linear(in_features=768, out_features=768, bias=True)\n",
      "        (out_proj): Linear(in_features=768, out_features=768, bias=True)\n",
      "        (dropout): Dropout(p=0.0, inplace=False)\n",
      "      )\n",
      "      (ff): FeedForward(\n",
      "        (layers): Sequential(\n",
      "          (0): Linear(in_features=768, out_features=3072, bias=True)\n",
      "          (1): GELU()\n",
      "          (2): Linear(in_features=3072, out_features=768, bias=True)\n",
      "        )\n",
      "      )\n",
      "      (norm1): LayerNorm()\n",
      "      (norm2): LayerNorm()\n",
      "      (drop_shortcut): Dropout(p=0.0, inplace=False)\n",
      "    )\n",
      "    (2): TransformerBlock(\n",
      "      (att): MultiHeadAttention(\n",
      "        (W_query): Linear(in_features=768, out_features=768, bias=True)\n",
      "        (W_key): Linear(in_features=768, out_features=768, bias=True)\n",
      "        (W_value): Linear(in_features=768, out_features=768, bias=True)\n",
      "        (out_proj): Linear(in_features=768, out_features=768, bias=True)\n",
      "        (dropout): Dropout(p=0.0, inplace=False)\n",
      "      )\n",
      "      (ff): FeedForward(\n",
      "        (layers): Sequential(\n",
      "          (0): Linear(in_features=768, out_features=3072, bias=True)\n",
      "          (1): GELU()\n",
      "          (2): Linear(in_features=3072, out_features=768, bias=True)\n",
      "        )\n",
      "      )\n",
      "      (norm1): LayerNorm()\n",
      "      (norm2): LayerNorm()\n",
      "      (drop_shortcut): Dropout(p=0.0, inplace=False)\n",
      "    )\n",
      "    (3): TransformerBlock(\n",
      "      (att): MultiHeadAttention(\n",
      "        (W_query): Linear(in_features=768, out_features=768, bias=True)\n",
      "        (W_key): Linear(in_features=768, out_features=768, bias=True)\n",
      "        (W_value): Linear(in_features=768, out_features=768, bias=True)\n",
      "        (out_proj): Linear(in_features=768, out_features=768, bias=True)\n",
      "        (dropout): Dropout(p=0.0, inplace=False)\n",
      "      )\n",
      "      (ff): FeedForward(\n",
      "        (layers): Sequential(\n",
      "          (0): Linear(in_features=768, out_features=3072, bias=True)\n",
      "          (1): GELU()\n",
      "          (2): Linear(in_features=3072, out_features=768, bias=True)\n",
      "        )\n",
      "      )\n",
      "      (norm1): LayerNorm()\n",
      "      (norm2): LayerNorm()\n",
      "      (drop_shortcut): Dropout(p=0.0, inplace=False)\n",
      "    )\n",
      "    (4): TransformerBlock(\n",
      "      (att): MultiHeadAttention(\n",
      "        (W_query): Linear(in_features=768, out_features=768, bias=True)\n",
      "        (W_key): Linear(in_features=768, out_features=768, bias=True)\n",
      "        (W_value): Linear(in_features=768, out_features=768, bias=True)\n",
      "        (out_proj): Linear(in_features=768, out_features=768, bias=True)\n",
      "        (dropout): Dropout(p=0.0, inplace=False)\n",
      "      )\n",
      "      (ff): FeedForward(\n",
      "        (layers): Sequential(\n",
      "          (0): Linear(in_features=768, out_features=3072, bias=True)\n",
      "          (1): GELU()\n",
      "          (2): Linear(in_features=3072, out_features=768, bias=True)\n",
      "        )\n",
      "      )\n",
      "      (norm1): LayerNorm()\n",
      "      (norm2): LayerNorm()\n",
      "      (drop_shortcut): Dropout(p=0.0, inplace=False)\n",
      "    )\n",
      "    (5): TransformerBlock(\n",
      "      (att): MultiHeadAttention(\n",
      "        (W_query): Linear(in_features=768, out_features=768, bias=True)\n",
      "        (W_key): Linear(in_features=768, out_features=768, bias=True)\n",
      "        (W_value): Linear(in_features=768, out_features=768, bias=True)\n",
      "        (out_proj): Linear(in_features=768, out_features=768, bias=True)\n",
      "        (dropout): Dropout(p=0.0, inplace=False)\n",
      "      )\n",
      "      (ff): FeedForward(\n",
      "        (layers): Sequential(\n",
      "          (0): Linear(in_features=768, out_features=3072, bias=True)\n",
      "          (1): GELU()\n",
      "          (2): Linear(in_features=3072, out_features=768, bias=True)\n",
      "        )\n",
      "      )\n",
      "      (norm1): LayerNorm()\n",
      "      (norm2): LayerNorm()\n",
      "      (drop_shortcut): Dropout(p=0.0, inplace=False)\n",
      "    )\n",
      "    (6): TransformerBlock(\n",
      "      (att): MultiHeadAttention(\n",
      "        (W_query): Linear(in_features=768, out_features=768, bias=True)\n",
      "        (W_key): Linear(in_features=768, out_features=768, bias=True)\n",
      "        (W_value): Linear(in_features=768, out_features=768, bias=True)\n",
      "        (out_proj): Linear(in_features=768, out_features=768, bias=True)\n",
      "        (dropout): Dropout(p=0.0, inplace=False)\n",
      "      )\n",
      "      (ff): FeedForward(\n",
      "        (layers): Sequential(\n",
      "          (0): Linear(in_features=768, out_features=3072, bias=True)\n",
      "          (1): GELU()\n",
      "          (2): Linear(in_features=3072, out_features=768, bias=True)\n",
      "        )\n",
      "      )\n",
      "      (norm1): LayerNorm()\n",
      "      (norm2): LayerNorm()\n",
      "      (drop_shortcut): Dropout(p=0.0, inplace=False)\n",
      "    )\n",
      "    (7): TransformerBlock(\n",
      "      (att): MultiHeadAttention(\n",
      "        (W_query): Linear(in_features=768, out_features=768, bias=True)\n",
      "        (W_key): Linear(in_features=768, out_features=768, bias=True)\n",
      "        (W_value): Linear(in_features=768, out_features=768, bias=True)\n",
      "        (out_proj): Linear(in_features=768, out_features=768, bias=True)\n",
      "        (dropout): Dropout(p=0.0, inplace=False)\n",
      "      )\n",
      "      (ff): FeedForward(\n",
      "        (layers): Sequential(\n",
      "          (0): Linear(in_features=768, out_features=3072, bias=True)\n",
      "          (1): GELU()\n",
      "          (2): Linear(in_features=3072, out_features=768, bias=True)\n",
      "        )\n",
      "      )\n",
      "      (norm1): LayerNorm()\n",
      "      (norm2): LayerNorm()\n",
      "      (drop_shortcut): Dropout(p=0.0, inplace=False)\n",
      "    )\n",
      "    (8): TransformerBlock(\n",
      "      (att): MultiHeadAttention(\n",
      "        (W_query): Linear(in_features=768, out_features=768, bias=True)\n",
      "        (W_key): Linear(in_features=768, out_features=768, bias=True)\n",
      "        (W_value): Linear(in_features=768, out_features=768, bias=True)\n",
      "        (out_proj): Linear(in_features=768, out_features=768, bias=True)\n",
      "        (dropout): Dropout(p=0.0, inplace=False)\n",
      "      )\n",
      "      (ff): FeedForward(\n",
      "        (layers): Sequential(\n",
      "          (0): Linear(in_features=768, out_features=3072, bias=True)\n",
      "          (1): GELU()\n",
      "          (2): Linear(in_features=3072, out_features=768, bias=True)\n",
      "        )\n",
      "      )\n",
      "      (norm1): LayerNorm()\n",
      "      (norm2): LayerNorm()\n",
      "      (drop_shortcut): Dropout(p=0.0, inplace=False)\n",
      "    )\n",
      "    (9): TransformerBlock(\n",
      "      (att): MultiHeadAttention(\n",
      "        (W_query): Linear(in_features=768, out_features=768, bias=True)\n",
      "        (W_key): Linear(in_features=768, out_features=768, bias=True)\n",
      "        (W_value): Linear(in_features=768, out_features=768, bias=True)\n",
      "        (out_proj): Linear(in_features=768, out_features=768, bias=True)\n",
      "        (dropout): Dropout(p=0.0, inplace=False)\n",
      "      )\n",
      "      (ff): FeedForward(\n",
      "        (layers): Sequential(\n",
      "          (0): Linear(in_features=768, out_features=3072, bias=True)\n",
      "          (1): GELU()\n",
      "          (2): Linear(in_features=3072, out_features=768, bias=True)\n",
      "        )\n",
      "      )\n",
      "      (norm1): LayerNorm()\n",
      "      (norm2): LayerNorm()\n",
      "      (drop_shortcut): Dropout(p=0.0, inplace=False)\n",
      "    )\n",
      "    (10): TransformerBlock(\n",
      "      (att): MultiHeadAttention(\n",
      "        (W_query): Linear(in_features=768, out_features=768, bias=True)\n",
      "        (W_key): Linear(in_features=768, out_features=768, bias=True)\n",
      "        (W_value): Linear(in_features=768, out_features=768, bias=True)\n",
      "        (out_proj): Linear(in_features=768, out_features=768, bias=True)\n",
      "        (dropout): Dropout(p=0.0, inplace=False)\n",
      "      )\n",
      "      (ff): FeedForward(\n",
      "        (layers): Sequential(\n",
      "          (0): Linear(in_features=768, out_features=3072, bias=True)\n",
      "          (1): GELU()\n",
      "          (2): Linear(in_features=3072, out_features=768, bias=True)\n",
      "        )\n",
      "      )\n",
      "      (norm1): LayerNorm()\n",
      "      (norm2): LayerNorm()\n",
      "      (drop_shortcut): Dropout(p=0.0, inplace=False)\n",
      "    )\n",
      "    (11): TransformerBlock(\n",
      "      (att): MultiHeadAttention(\n",
      "        (W_query): Linear(in_features=768, out_features=768, bias=True)\n",
      "        (W_key): Linear(in_features=768, out_features=768, bias=True)\n",
      "        (W_value): Linear(in_features=768, out_features=768, bias=True)\n",
      "        (out_proj): Linear(in_features=768, out_features=768, bias=True)\n",
      "        (dropout): Dropout(p=0.0, inplace=False)\n",
      "      )\n",
      "      (ff): FeedForward(\n",
      "        (layers): Sequential(\n",
      "          (0): Linear(in_features=768, out_features=3072, bias=True)\n",
      "          (1): GELU()\n",
      "          (2): Linear(in_features=3072, out_features=768, bias=True)\n",
      "        )\n",
      "      )\n",
      "      (norm1): LayerNorm()\n",
      "      (norm2): LayerNorm()\n",
      "      (drop_shortcut): Dropout(p=0.0, inplace=False)\n",
      "    )\n",
      "  )\n",
      "  (final_norm): LayerNorm()\n",
      "  (out_head): Linear(in_features=768, out_features=50257, bias=False)\n",
      ")\n"
     ]
    }
   ],
   "source": [
    "print(model)\n"
   ]
  },
  {
   "cell_type": "markdown",
   "metadata": {},
   "source": [
    "<div class=\"alert alert-block alert-info\">\n",
    "\n",
    "Above, we can see the GPT architecture neatly laid out. \n",
    "\n",
    "As\n",
    "discussed earlier, the GPTModel consists of embedding layers followed by 12 identical\n",
    "transformer blocks (only the last block is shown for brevity), followed by a final LayerNorm\n",
    "and the output layer, out_head.\n",
    "\n",
    "</div>"
   ]
  },
  {
   "cell_type": "markdown",
   "metadata": {},
   "source": [
    "<div class=\"alert alert-block alert-success\">\n",
    "\n",
    "Next, we replace the out_head with a new output layer, as illustrated in figure 6.9, that\n",
    "we will finetune.    \n",
    "</div>"
   ]
  },
  {
   "cell_type": "markdown",
   "metadata": {},
   "source": [
    "<div class=\"alert alert-block alert-success\">\n",
    "\n",
    "To get the model ready for classification-finetuning, we first freeze the model, meaning that\n",
    "we make all layers non-trainable:\n",
    "\n",
    "</div>"
   ]
  },
  {
   "cell_type": "code",
   "execution_count": 250,
   "metadata": {},
   "outputs": [],
   "source": [
    "for param in model.parameters():\n",
    "    param.requires_grad = False"
   ]
  },
  {
   "cell_type": "markdown",
   "metadata": {},
   "source": [
    "<div class=\"alert alert-block alert-success\">\n",
    "\n",
    "Then, we replace the output layer (model.out_head), which\n",
    "originally maps the layer inputs to 50,257 dimensions (the size of the vocabulary):\n",
    "</div>"
   ]
  },
  {
   "cell_type": "code",
   "execution_count": 251,
   "metadata": {},
   "outputs": [],
   "source": [
    "torch.manual_seed(123)\n",
    "\n",
    "num_classes = 2\n",
    "model.out_head = torch.nn.Linear(in_features=BASE_CONFIG[\"emb_dim\"], out_features=num_classes)"
   ]
  },
  {
   "cell_type": "markdown",
   "metadata": {},
   "source": [
    "<div class=\"alert alert-block alert-warning\">\n",
    "\n",
    "Note that in the preceding code, we use BASE_CONFIG[\"emb_dim\"], which is equal to 768 in\n",
    "the \"gpt2-small (124M)\" model, to keep the code below more general. \n",
    "\n",
    "This means we\n",
    "can also use the same code to work with the larger GPT-2 model variants.\n",
    "\n",
    "This new model.out_head output layer has its requires_grad attribute set to True by\n",
    "default, which means that it's the only layer in the model that will be updated during\n",
    "training.\n",
    "</div>"
   ]
  },
  {
   "cell_type": "markdown",
   "metadata": {},
   "source": [
    "<div class=\"alert alert-block alert-warning\">\n",
    "\n",
    "This new model.out_head output layer has its requires_grad attribute set to True by\n",
    "default, which means that it's the only layer in the model that will be updated during\n",
    "training.\n",
    "</div>"
   ]
  },
  {
   "cell_type": "markdown",
   "metadata": {},
   "source": [
    "<div class=\"alert alert-block alert-success\">\n",
    "\n",
    "Additionally, we configure the last transformer block and the final LayerNorm module,\n",
    "which connects this block to the output layer, to be trainable\n",
    "    \n",
    "</div>"
   ]
  },
  {
   "cell_type": "code",
   "execution_count": 253,
   "metadata": {},
   "outputs": [],
   "source": [
    "for param in model.trf_blocks[-1].parameters():\n",
    "    param.requires_grad = True\n",
    "\n",
    "for param in model.final_norm.parameters():\n",
    "    param.requires_grad = True"
   ]
  },
  {
   "cell_type": "markdown",
   "metadata": {},
   "source": [
    "<div class=\"alert alert-block alert-warning\">\n",
    "\n",
    "Even though we added a new output layer and marked certain layers as trainable or nontrainable, we can still use this model in a similar way to previous chapters. \n",
    "\n",
    "For instance, we\n",
    "can feed it an example text identical to how we have done it in earlier chapters. For\n",
    "example, consider the following example text:\n",
    "\n",
    "</div>"
   ]
  },
  {
   "cell_type": "code",
   "execution_count": 254,
   "metadata": {},
   "outputs": [
    {
     "name": "stdout",
     "output_type": "stream",
     "text": [
      "Inputs: tensor([[5211,  345,  423,  640]])\n",
      "Inputs dimensions: torch.Size([1, 4])\n"
     ]
    }
   ],
   "source": [
    "inputs = tokenizer.encode(\"Do you have time\")\n",
    "inputs = torch.tensor(inputs).unsqueeze(0)\n",
    "print(\"Inputs:\", inputs)\n",
    "print(\"Inputs dimensions:\", inputs.shape) # shape: (batch_size, num_tokens)"
   ]
  },
  {
   "cell_type": "markdown",
   "metadata": {},
   "source": [
    "<div class=\"alert alert-block alert-success\">\n",
    "\n",
    "Then, we can pass the encoded token IDs to the model as usual:\n",
    "    \n",
    "</div>"
   ]
  },
  {
   "cell_type": "code",
   "execution_count": 256,
   "metadata": {},
   "outputs": [
    {
     "name": "stdout",
     "output_type": "stream",
     "text": [
      "Outputs:\n",
      " tensor([[[-1.5854,  0.9904],\n",
      "         [-3.7235,  7.4548],\n",
      "         [-2.2661,  6.6049],\n",
      "         [-3.5983,  3.9902]]])\n",
      "Outputs dimensions: torch.Size([1, 4, 2])\n"
     ]
    }
   ],
   "source": [
    "with torch.no_grad():\n",
    "    outputs = model(inputs)\n",
    "\n",
    "print(\"Outputs:\\n\", outputs)\n",
    "print(\"Outputs dimensions:\", outputs.shape) # shape: (batch_size, num_tokens, num_classes)"
   ]
  },
  {
   "cell_type": "markdown",
   "metadata": {},
   "source": [
    "<div class=\"alert alert-block alert-info\">\n",
    "\n",
    "In earlier chapters, a similar input would have produced an output tensor of [1, 4, 50257],\n",
    "where 50,257 represents the vocabulary size. \n",
    "\n",
    "As in previous chapters, the number of\n",
    "output rows corresponds to the number of input tokens (in this case, 4). \n",
    "\n",
    "However, each\n",
    "output's embedding dimension (the number of columns) is now reduced to 2 instead of\n",
    "50,257 since we replaced the output layer of the model.\n",
    "\n",
    "</div>"
   ]
  },
  {
   "cell_type": "markdown",
   "metadata": {},
   "source": [
    "<div class=\"alert alert-block alert-warning\">\n",
    "\n",
    "Remember that we are interested in finetuning this model so that it returns a class label\n",
    "that indicates whether a model input is spam or not spam. \n",
    "\n",
    "To achieve this, we don't need to\n",
    "finetune all 4 output rows but can focus on a single output token. \n",
    "\n",
    "In particular, we will\n",
    "focus on the last row corresponding to the last output token\n",
    "</div>"
   ]
  },
  {
   "cell_type": "markdown",
   "metadata": {},
   "source": [
    "<div class=\"alert alert-block alert-success\">\n",
    "\n",
    "To extract the last output token, illustrated in figure 6.11, from the output tensor, we\n",
    "use the following code:    \n",
    "</div>"
   ]
  },
  {
   "cell_type": "code",
   "execution_count": 286,
   "metadata": {},
   "outputs": [
    {
     "name": "stdout",
     "output_type": "stream",
     "text": [
      "Last output token: tensor([[-3.5983,  3.9902]])\n"
     ]
    }
   ],
   "source": [
    "print(\"Last output token:\", outputs[:, -1, :])"
   ]
  },
  {
   "cell_type": "markdown",
   "metadata": {},
   "source": [
    "<div class=\"alert alert-block alert-info\">\n",
    "\n",
    "Having modified the model, the next section will detail the process of transforming the\n",
    "last token into class label predictions and calculate the model's initial prediction accuracy.\n",
    "\n",
    "Following this, we will finetune the model for the spam classification task in the subsequent\n",
    "section.\n",
    "\n",
    "</div>"
   ]
  },
  {
   "cell_type": "markdown",
   "metadata": {},
   "source": [
    "## CALCULATING THE CLASSIFICATION LOSS AND ACCURACY"
   ]
  },
  {
   "cell_type": "markdown",
   "metadata": {},
   "source": [
    "<div class=\"alert alert-block alert-success\">\n",
    "\n",
    "So far in this chapter, we have prepared the dataset, loaded a pretrained model, and\n",
    "modified it for classification-finetuning. \n",
    "           \n",
    "Before we proceed with the finetuning itself, only\n",
    "one small part remains: implementing the model evaluation functions used during\n",
    "finetuning,  \n",
    "</div>"
   ]
  },
  {
   "cell_type": "markdown",
   "metadata": {},
   "source": [
    "<div class=\"alert alert-block alert-success\">\n",
    "\n",
    "Before implementing the evaluation utilities, let's briefly discuss how we convert the model\n",
    "outputs into class label predictions.\n",
    "</div>"
   ]
  },
  {
   "cell_type": "markdown",
   "metadata": {},
   "source": [
    "<div class=\"alert alert-block alert-warning\">\n",
    "\n",
    "In the previous chapter, we computed the token ID of the next token generated by the\n",
    "LLM by converting the 50,257 outputs into probabilities via the softmax function and then\n",
    "returning the position of the highest probability via the argmax function. \n",
    "\n",
    "In this chapter, we\n",
    "take the same approach to calculate whether the model outputs a \"spam\" or \"not spam\"\n",
    "prediction for a given input, with the only difference being that we\n",
    "work with 2-dimensional instead of 50,257-dimensional outputs.\n",
    "    \n",
    "</div>"
   ]
  },
  {
   "cell_type": "markdown",
   "metadata": {},
   "source": [
    "<div class=\"alert alert-block alert-success\">\n",
    "\n",
    "Let's consider the last token output from\n",
    "the previous section:\n",
    "\n",
    "</div>"
   ]
  },
  {
   "cell_type": "code",
   "execution_count": 259,
   "metadata": {},
   "outputs": [
    {
     "name": "stdout",
     "output_type": "stream",
     "text": [
      "Last output token: tensor([[-3.5983,  3.9902]])\n"
     ]
    }
   ],
   "source": [
    "print(\"Last output token:\", outputs[:, -1, :])"
   ]
  },
  {
   "cell_type": "markdown",
   "metadata": {},
   "source": [
    "<div class=\"alert alert-block alert-success\">\n",
    "We can obtain the class label via the following code:\n",
    "</div>"
   ]
  },
  {
   "cell_type": "code",
   "execution_count": 287,
   "metadata": {},
   "outputs": [
    {
     "name": "stdout",
     "output_type": "stream",
     "text": [
      "tensor([[    0.0005,     0.9995]])\n",
      "Class label: 1\n"
     ]
    }
   ],
   "source": [
    "probas = torch.softmax(outputs[:, -1, :], dim=-1)\n",
    "print(probas)\n",
    "label = torch.argmax(probas)\n",
    "print(\"Class label:\", label.item())"
   ]
  },
  {
   "cell_type": "markdown",
   "metadata": {},
   "source": [
    "<div class=\"alert alert-block alert-info\">\n",
    "\n",
    "In this case, the code returns 1, meaning the model predicts that the input text is \"spam.\"\n",
    "\n",
    "Using the softmax function here is optional because the largest outputs directly correspond\n",
    "to the highest probability scores. \n",
    "\n",
    "Hence, we can simplify the\n",
    "code as follows, without using softmax:\n",
    "\n",
    "</div>"
   ]
  },
  {
   "cell_type": "code",
   "execution_count": 264,
   "metadata": {},
   "outputs": [
    {
     "name": "stdout",
     "output_type": "stream",
     "text": [
      "Class label: 1\n"
     ]
    }
   ],
   "source": [
    "logits = outputs[:, -1, :]\n",
    "label = torch.argmax(logits)\n",
    "print(\"Class label:\", label.item())"
   ]
  },
  {
   "cell_type": "markdown",
   "metadata": {},
   "source": [
    "<div class=\"alert alert-block alert-success\">\n",
    "This concept can be used to compute the so-called classification accuracy, which measures\n",
    "the percentage of correct predictions across a dataset.\n",
    "</div>"
   ]
  },
  {
   "cell_type": "markdown",
   "metadata": {},
   "source": [
    "<div class=\"alert alert-block alert-success\">\n",
    "To determine the classification accuracy, we apply the argmax-based prediction code to\n",
    "all examples in the dataset and calculate the proportion of correct predictions by defining a\n",
    "calc_accuracy_loader function:\n",
    "</div>"
   ]
  },
  {
   "cell_type": "code",
   "execution_count": 265,
   "metadata": {},
   "outputs": [],
   "source": [
    "def calc_accuracy_loader(data_loader, model, device, num_batches=None):\n",
    "    model.eval()\n",
    "    correct_predictions, num_examples = 0, 0\n",
    "\n",
    "    if num_batches is None:\n",
    "        num_batches = len(data_loader)\n",
    "    else:\n",
    "        num_batches = min(num_batches, len(data_loader))\n",
    "    for i, (input_batch, target_batch) in enumerate(data_loader):\n",
    "        if i < num_batches:\n",
    "            input_batch, target_batch = input_batch.to(device), target_batch.to(device)\n",
    "\n",
    "            with torch.no_grad():\n",
    "                logits = model(input_batch)[:, -1, :]  # Logits of last output token\n",
    "            predicted_labels = torch.argmax(logits, dim=-1)\n",
    "\n",
    "            num_examples += predicted_labels.shape[0]\n",
    "            correct_predictions += (predicted_labels == target_batch).sum().item()\n",
    "        else:\n",
    "            break\n",
    "    return correct_predictions / num_examples"
   ]
  },
  {
   "cell_type": "markdown",
   "metadata": {},
   "source": [
    "<div class=\"alert alert-block alert-success\">\n",
    "Let's use the function to determine the classification accuracies across various datasets\n",
    "estimated from 10 batches for efficiency:\n",
    "</div>"
   ]
  },
  {
   "cell_type": "code",
   "execution_count": 266,
   "metadata": {},
   "outputs": [
    {
     "name": "stdout",
     "output_type": "stream",
     "text": [
      "Training accuracy: 46.25%\n",
      "Validation accuracy: 45.00%\n",
      "Test accuracy: 48.75%\n"
     ]
    }
   ],
   "source": [
    "device = torch.device(\"cuda\" if torch.cuda.is_available() else \"cpu\")\n",
    "\n",
    "# Note:\n",
    "# Uncommenting the following lines will allow the code to run on Apple Silicon chips, if applicable,\n",
    "# which is approximately 2x faster than on an Apple CPU (as measured on an M3 MacBook Air).\n",
    "# As of this writing, in PyTorch 2.4, the results obtained via CPU and MPS were identical.\n",
    "# However, in earlier versions of PyTorch, you may observe different results when using MPS.\n",
    "\n",
    "#if torch.cuda.is_available():\n",
    "#    device = torch.device(\"cuda\")\n",
    "#elif torch.backends.mps.is_available():\n",
    "#    device = torch.device(\"mps\")\n",
    "#else:\n",
    "#    device = torch.device(\"cpu\")\n",
    "#print(f\"Running on {device} device.\")\n",
    "\n",
    "model.to(device) # no assignment model = model.to(device) necessary for nn.Module classes\n",
    "\n",
    "torch.manual_seed(123) # For reproducibility due to the shuffling in the training data loader\n",
    "\n",
    "train_accuracy = calc_accuracy_loader(train_loader, model, device, num_batches=10)\n",
    "val_accuracy = calc_accuracy_loader(val_loader, model, device, num_batches=10)\n",
    "test_accuracy = calc_accuracy_loader(test_loader, model, device, num_batches=10)\n",
    "\n",
    "print(f\"Training accuracy: {train_accuracy*100:.2f}%\")\n",
    "print(f\"Validation accuracy: {val_accuracy*100:.2f}%\")\n",
    "print(f\"Test accuracy: {test_accuracy*100:.2f}%\")"
   ]
  },
  {
   "cell_type": "markdown",
   "metadata": {},
   "source": [
    "<div class=\"alert alert-block alert-info\">\n",
    "    \n",
    "As we can see, the prediction accuracies are near a random prediction, which would be\n",
    "50% in this case. \n",
    "\n",
    "To improve the prediction accuracies, we need to finetune the model.\n",
    "\n",
    "</div>"
   ]
  },
  {
   "cell_type": "markdown",
   "metadata": {},
   "source": [
    "<div class=\"alert alert-block alert-warning\">\n",
    "\n",
    "Classification accuracy is not a differentiable function, so we use cross entropy\n",
    "loss as a proxy to maximize accuracy. \n",
    "\n",
    "This is the same cross entropy loss discussed earlier. \n",
    "\n",
    "Accordingly, the calc_loss_batch function remains the same as in earlier, with one\n",
    "adjustment: we focus on optimizing only the last token, model(input_batch)[:, -1, :],\n",
    "rather than all tokens, model(input_batch):\n",
    "\n",
    "</div>"
   ]
  },
  {
   "cell_type": "code",
   "execution_count": 268,
   "metadata": {},
   "outputs": [],
   "source": [
    "def calc_loss_batch(input_batch, target_batch, model, device):\n",
    "    input_batch, target_batch = input_batch.to(device), target_batch.to(device)\n",
    "    logits = model(input_batch)[:, -1, :]  # Logits of last output token\n",
    "    loss = torch.nn.functional.cross_entropy(logits, target_batch)\n",
    "    return loss"
   ]
  },
  {
   "cell_type": "markdown",
   "metadata": {},
   "source": [
    "<div class=\"alert alert-block alert-success\">\n",
    "We use the calc_loss_batch function to compute the loss for a single batch obtained from\n",
    "the previously defined data loaders. To calculate the loss for all batches in a data loader, we\n",
    "define the calc_loss_loader function\n",
    "</div>"
   ]
  },
  {
   "cell_type": "code",
   "execution_count": 269,
   "metadata": {},
   "outputs": [],
   "source": [
    "# Same as in chapter 5\n",
    "def calc_loss_loader(data_loader, model, device, num_batches=None):\n",
    "    total_loss = 0.\n",
    "    if len(data_loader) == 0:\n",
    "        return float(\"nan\")\n",
    "    elif num_batches is None:\n",
    "        num_batches = len(data_loader)\n",
    "    else:\n",
    "        # Reduce the number of batches to match the total number of batches in the data loader\n",
    "        # if num_batches exceeds the number of batches in the data loader\n",
    "        num_batches = min(num_batches, len(data_loader))\n",
    "    for i, (input_batch, target_batch) in enumerate(data_loader):\n",
    "        if i < num_batches:\n",
    "            loss = calc_loss_batch(input_batch, target_batch, model, device)\n",
    "            total_loss += loss.item()\n",
    "        else:\n",
    "            break\n",
    "    return total_loss / num_batches"
   ]
  },
  {
   "cell_type": "markdown",
   "metadata": {},
   "source": [
    "<div class=\"alert alert-block alert-success\">\n",
    "Similar to calculating the training accuracy, we now compute the initial loss for each\n",
    "data set:\n",
    "</div>"
   ]
  },
  {
   "cell_type": "code",
   "execution_count": 270,
   "metadata": {},
   "outputs": [
    {
     "name": "stdout",
     "output_type": "stream",
     "text": [
      "Training loss: 2.453\n",
      "Validation loss: 2.583\n",
      "Test loss: 2.322\n"
     ]
    }
   ],
   "source": [
    "with torch.no_grad(): # Disable gradient tracking for efficiency because we are not training, yet\n",
    "    train_loss = calc_loss_loader(train_loader, model, device, num_batches=5)\n",
    "    val_loss = calc_loss_loader(val_loader, model, device, num_batches=5)\n",
    "    test_loss = calc_loss_loader(test_loader, model, device, num_batches=5)\n",
    "\n",
    "print(f\"Training loss: {train_loss:.3f}\")\n",
    "print(f\"Validation loss: {val_loss:.3f}\")\n",
    "print(f\"Test loss: {test_loss:.3f}\")"
   ]
  },
  {
   "cell_type": "markdown",
   "metadata": {},
   "source": [
    "<div class=\"alert alert-block alert-success\">\n",
    "\n",
    "In the next section, we will implement a training function to finetune the model, which\n",
    "means adjusting the model to minimize the training set loss. \n",
    "\n",
    "Minimizing the training set\n",
    "loss will help increase the classification accuracy, our overall goal\n",
    "</div>"
   ]
  },
  {
   "cell_type": "markdown",
   "metadata": {},
   "source": [
    "## FINETUNING THE MODEL ON SUPERVISED DATA"
   ]
  },
  {
   "cell_type": "markdown",
   "metadata": {},
   "source": [
    "<div class=\"alert alert-block alert-success\">\n",
    "\n",
    "In this section, we define and use the training function to finetune the pretrained LLM and\n",
    "improve its spam classification accuracy. \n",
    "    \n",
    "The training loop is the\n",
    "same overall training loop we used earlier, with the only difference being that we\n",
    "calculate the classification accuracy instead of generating a sample text for evaluating the\n",
    "model.\n",
    "\n",
    "</div>"
   ]
  },
  {
   "cell_type": "markdown",
   "metadata": {},
   "source": [
    "<div class=\"alert alert-block alert-success\">\n",
    "\n",
    "The training function also closely mirrors\n",
    "the train_model_simple function used for pretraining the model earlier.\n",
    "                                    \n",
    "The only two distinctions are that we now track the number of training examples seen\n",
    "(examples_seen) instead of the number of tokens, and we calculate the accuracy after each\n",
    "epoch instead of printing a sample text:\n",
    "\n",
    "</div>"
   ]
  },
  {
   "cell_type": "markdown",
   "metadata": {},
   "source": [
    "<div class=\"alert alert-block alert-info\">\n",
    "    \n",
    "Step 1: Set model to training mode\n",
    "\n",
    "Step 2: Reset loss gradients from previous batch iteration\n",
    "\n",
    "Step 3: Calculate loss gradients\n",
    "\n",
    "Step 4: Update model weights using loss gradients\n",
    "\n",
    "Step 5: New: track examples instead of tokens\n",
    "\n",
    "Step 6: Optional evaluation step\n",
    "\n",
    "Step 7: Calculate accuracy after each epoch\n",
    "\n",
    "</div>"
   ]
  },
  {
   "cell_type": "code",
   "execution_count": 271,
   "metadata": {},
   "outputs": [],
   "source": [
    "# Overall the same as `train_model_simple` in chapter 5\n",
    "def train_classifier_simple(model, train_loader, val_loader, optimizer, device, num_epochs,\n",
    "                            eval_freq, eval_iter):\n",
    "    # Initialize lists to track losses and examples seen\n",
    "    train_losses, val_losses, train_accs, val_accs = [], [], [], []\n",
    "    examples_seen, global_step = 0, -1\n",
    "\n",
    "    # Main training loop\n",
    "    for epoch in range(num_epochs):\n",
    "        model.train()  # Set model to training mode\n",
    "\n",
    "        for input_batch, target_batch in train_loader:\n",
    "            optimizer.zero_grad() # Reset loss gradients from previous batch iteration\n",
    "            loss = calc_loss_batch(input_batch, target_batch, model, device)\n",
    "            loss.backward() # Calculate loss gradients\n",
    "            optimizer.step() # Update model weights using loss gradients\n",
    "            examples_seen += input_batch.shape[0] # New: track examples instead of tokens \n",
    "            global_step += 1\n",
    "\n",
    "            ## 130 batches: training, eval_Freq = 50 --> after 50 batches are processed in each epoch, we print train loss and val loss\n",
    "\n",
    "            # Optional evaluation step\n",
    "            if global_step % eval_freq == 0:\n",
    "                train_loss, val_loss = evaluate_model(\n",
    "                    model, train_loader, val_loader, device, eval_iter)\n",
    "                train_losses.append(train_loss)\n",
    "                val_losses.append(val_loss)\n",
    "                print(f\"Ep {epoch+1} (Step {global_step:06d}): \"\n",
    "                      f\"Train loss {train_loss:.3f}, Val loss {val_loss:.3f}\")\n",
    "\n",
    "        # Calculate accuracy after each epoch\n",
    "        train_accuracy = calc_accuracy_loader(train_loader, model, device, num_batches=eval_iter)\n",
    "        val_accuracy = calc_accuracy_loader(val_loader, model, device, num_batches=eval_iter)\n",
    "        print(f\"Training accuracy: {train_accuracy*100:.2f}% | \", end=\"\")\n",
    "        print(f\"Validation accuracy: {val_accuracy*100:.2f}%\")\n",
    "        train_accs.append(train_accuracy)\n",
    "        val_accs.append(val_accuracy)\n",
    "\n",
    "    return train_losses, val_losses, train_accs, val_accs, examples_seen"
   ]
  },
  {
   "cell_type": "markdown",
   "metadata": {},
   "source": [
    "<div class=\"alert alert-block alert-success\">\n",
    "\n",
    "The evaluate_model function used in the train_classifier_simple is the same as the one we used earlier.\n",
    "\n",
    "</div>"
   ]
  },
  {
   "cell_type": "code",
   "execution_count": 272,
   "metadata": {},
   "outputs": [],
   "source": [
    "# Same as chapter 5\n",
    "def evaluate_model(model, train_loader, val_loader, device, eval_iter):\n",
    "    model.eval()\n",
    "    with torch.no_grad():\n",
    "        train_loss = calc_loss_loader(train_loader, model, device, num_batches=eval_iter)\n",
    "        val_loss = calc_loss_loader(val_loader, model, device, num_batches=eval_iter)\n",
    "    model.train()\n",
    "    return train_loss, val_loss"
   ]
  },
  {
   "cell_type": "markdown",
   "metadata": {},
   "source": [
    "<div class=\"alert alert-block alert-success\">\n",
    "\n",
    "Next, we initialize the optimizer, set the number of training epochs, and initiate the training\n",
    "using the train_classifier_simple function. \n",
    "\n",
    "We will discuss the choice of the the number\n",
    "of training epochs after we evaluated the results. \n",
    "\n",
    "The training takes about 6 minutes on an\n",
    "M3 MacBook Air laptop computer and less than half a minute on a V100 or A100 GPU:\n",
    "</div>"
   ]
  },
  {
   "cell_type": "code",
   "execution_count": 273,
   "metadata": {},
   "outputs": [
    {
     "name": "stdout",
     "output_type": "stream",
     "text": [
      "Ep 1 (Step 000000): Train loss 2.153, Val loss 2.392\n",
      "Ep 1 (Step 000050): Train loss 0.617, Val loss 0.637\n",
      "Ep 1 (Step 000100): Train loss 0.523, Val loss 0.557\n",
      "Training accuracy: 70.00% | Validation accuracy: 72.50%\n",
      "Ep 2 (Step 000150): Train loss 0.561, Val loss 0.489\n",
      "Ep 2 (Step 000200): Train loss 0.419, Val loss 0.397\n",
      "Ep 2 (Step 000250): Train loss 0.409, Val loss 0.353\n",
      "Training accuracy: 82.50% | Validation accuracy: 85.00%\n",
      "Ep 3 (Step 000300): Train loss 0.333, Val loss 0.320\n",
      "Ep 3 (Step 000350): Train loss 0.340, Val loss 0.306\n",
      "Training accuracy: 90.00% | Validation accuracy: 90.00%\n",
      "Ep 4 (Step 000400): Train loss 0.136, Val loss 0.200\n",
      "Ep 4 (Step 000450): Train loss 0.153, Val loss 0.132\n",
      "Ep 4 (Step 000500): Train loss 0.222, Val loss 0.137\n",
      "Training accuracy: 100.00% | Validation accuracy: 97.50%\n",
      "Ep 5 (Step 000550): Train loss 0.207, Val loss 0.143\n",
      "Ep 5 (Step 000600): Train loss 0.083, Val loss 0.074\n",
      "Training accuracy: 100.00% | Validation accuracy: 97.50%\n",
      "Training completed in 8.83 minutes.\n"
     ]
    }
   ],
   "source": [
    "import time\n",
    "\n",
    "start_time = time.time()\n",
    "\n",
    "torch.manual_seed(123)\n",
    "\n",
    "optimizer = torch.optim.AdamW(model.parameters(), lr=5e-5, weight_decay=0.1)\n",
    "\n",
    "num_epochs = 5\n",
    "train_losses, val_losses, train_accs, val_accs, examples_seen = train_classifier_simple(\n",
    "    model, train_loader, val_loader, optimizer, device,\n",
    "    num_epochs=num_epochs, eval_freq=50, eval_iter=5,\n",
    ")\n",
    "\n",
    "end_time = time.time()\n",
    "execution_time_minutes = (end_time - start_time) / 60\n",
    "print(f\"Training completed in {execution_time_minutes:.2f} minutes.\")"
   ]
  },
  {
   "cell_type": "markdown",
   "metadata": {},
   "source": [
    "<div class=\"alert alert-block alert-success\">\n",
    "\n",
    "We then use matplotlib to plot the loss function for the training and\n",
    "validation set:\n",
    "    \n",
    "</div>"
   ]
  },
  {
   "cell_type": "code",
   "execution_count": 276,
   "metadata": {},
   "outputs": [],
   "source": [
    "import matplotlib.pyplot as plt\n",
    "\n",
    "def plot_values(epochs_seen, examples_seen, train_values, val_values, label=\"loss\"):\n",
    "    fig, ax1 = plt.subplots(figsize=(5, 3))\n",
    "\n",
    "    # Plot training and validation loss against epochs\n",
    "    ax1.plot(epochs_seen, train_values, label=f\"Training {label}\")\n",
    "    ax1.plot(epochs_seen, val_values, linestyle=\"-.\", label=f\"Validation {label}\")\n",
    "    ax1.set_xlabel(\"Epochs\")\n",
    "    ax1.set_ylabel(label.capitalize())\n",
    "    ax1.legend()\n",
    "\n",
    "    # Create a second x-axis for examples seen\n",
    "    ax2 = ax1.twiny()  # Create a second x-axis that shares the same y-axis\n",
    "    ax2.plot(examples_seen, train_values, alpha=0)  # Invisible plot for aligning ticks\n",
    "    ax2.set_xlabel(\"Examples seen\")\n",
    "\n",
    "    fig.tight_layout()  # Adjust layout to make room\n",
    "    plt.savefig(f\"{label}-plot.pdf\")\n",
    "    plt.show()"
   ]
  },
  {
   "cell_type": "code",
   "execution_count": 277,
   "metadata": {},
   "outputs": [
    {
     "data": {
      "image/png": "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",
      "text/plain": [
       "<Figure size 500x300 with 2 Axes>"
      ]
     },
     "metadata": {},
     "output_type": "display_data"
    }
   ],
   "source": [
    "epochs_tensor = torch.linspace(0, num_epochs, len(train_losses))\n",
    "examples_seen_tensor = torch.linspace(0, examples_seen, len(train_losses))\n",
    "\n",
    "plot_values(epochs_tensor, examples_seen_tensor, train_losses, val_losses)"
   ]
  },
  {
   "cell_type": "markdown",
   "metadata": {},
   "source": [
    "<div class=\"alert alert-block alert-info\">\n",
    "    \n",
    "As we can see based on the sharp downward slope, the model is learning well\n",
    "from the training data, and there is little to no indication of overfitting; that is, there is no\n",
    "noticeable gap between the training and validation set losses).\n",
    "\n",
    "</div>"
   ]
  },
  {
   "cell_type": "markdown",
   "metadata": {},
   "source": [
    "<div class=\"alert alert-block alert-success\">\n",
    "\n",
    "Using the same plot_values function, let's now also plot the classification accuracies:\n",
    "\n",
    "</div>"
   ]
  },
  {
   "cell_type": "code",
   "execution_count": 278,
   "metadata": {},
   "outputs": [
    {
     "data": {
      "image/png": "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",
      "text/plain": [
       "<Figure size 500x300 with 2 Axes>"
      ]
     },
     "metadata": {},
     "output_type": "display_data"
    }
   ],
   "source": [
    "epochs_tensor = torch.linspace(0, num_epochs, len(train_accs))\n",
    "examples_seen_tensor = torch.linspace(0, examples_seen, len(train_accs))\n",
    "\n",
    "plot_values(epochs_tensor, examples_seen_tensor, train_accs, val_accs, label=\"accuracy\")"
   ]
  },
  {
   "cell_type": "markdown",
   "metadata": {},
   "source": [
    "<div class=\"alert alert-block alert-info\">\n",
    "    \n",
    "Based on the accuracy plot, the model achieves a relatively high training and\n",
    "validation accuracy after epochs 4 and 5.\n",
    "    \n",
    "However, it's important to note that we previously set eval_iter=5 when using the\n",
    "train_classifier_simple function, which means our estimations of training and\n",
    "validation performance were based on only 5 batches for efficiency during training.\n",
    "\n",
    "Now, we will calculate the performance metrics for the training, validation, and test sets\n",
    "across the entire dataset by running the following code, this time without defining the\n",
    "eval_iter value:\n",
    "\n",
    "</div>"
   ]
  },
  {
   "cell_type": "code",
   "execution_count": 279,
   "metadata": {},
   "outputs": [
    {
     "name": "stdout",
     "output_type": "stream",
     "text": [
      "Training accuracy: 97.21%\n",
      "Validation accuracy: 97.32%\n",
      "Test accuracy: 95.67%\n"
     ]
    }
   ],
   "source": [
    "train_accuracy = calc_accuracy_loader(train_loader, model, device)\n",
    "val_accuracy = calc_accuracy_loader(val_loader, model, device)\n",
    "test_accuracy = calc_accuracy_loader(test_loader, model, device)\n",
    "\n",
    "print(f\"Training accuracy: {train_accuracy*100:.2f}%\")\n",
    "print(f\"Validation accuracy: {val_accuracy*100:.2f}%\")\n",
    "print(f\"Test accuracy: {test_accuracy*100:.2f}%\")"
   ]
  },
  {
   "cell_type": "markdown",
   "metadata": {},
   "source": [
    "<div class=\"alert alert-block alert-warning\">\n",
    "\n",
    "The training and test set performances are almost identical.\n",
    "\n",
    "A slight discrepancy between the training and test set accuracies suggests minimal\n",
    "overfitting of the training data. \n",
    "\n",
    "Typically, the validation set accuracy is somewhat higher\n",
    "than the test set accuracy because the model development often involves tuning\n",
    "hyperparameters to perform well on the validation set, which might not generalize as\n",
    "effectively to the test set.\n",
    "\n",
    "This situation is common, but the gap could potentially be minimized by adjusting the\n",
    "model's settings, such as increasing the dropout rate (drop_rate) or the weight_decay\n",
    "parameter in the optimizer configuration.\n",
    "\n",
    "</div>"
   ]
  },
  {
   "cell_type": "markdown",
   "metadata": {},
   "source": [
    "## USING THE LLM AS A SPAM CLASSIFIER"
   ]
  },
  {
   "cell_type": "markdown",
   "metadata": {},
   "source": [
    "<div class=\"alert alert-block alert-success\">\n",
    "\n",
    "After finetuning and evaluating the model in the previous sections, we are now in the final\n",
    "stage of this chapter:  using the model to classify spam\n",
    "messages.\n",
    "</div>"
   ]
  },
  {
   "cell_type": "markdown",
   "metadata": {},
   "source": [
    "<div class=\"alert alert-block alert-success\">\n",
    "\n",
    "Finally, let's use the finetuned GPT-based spam classification model. \n",
    "\n",
    "The following\n",
    "classify_review function follows data preprocessing steps similar to those we used in the\n",
    "SpamDataset implemented earlier in this chapter. \n",
    "\n",
    "And then, after processing text into token\n",
    "IDs, the function uses the model to predict an integer class label, similar to what we have\n",
    "implemented earlier, and then returns the corresponding class name:\n",
    "</div>"
   ]
  },
  {
   "cell_type": "markdown",
   "metadata": {},
   "source": [
    "<div class=\"alert alert-block alert-info\">\n",
    "    \n",
    "Step 1: Prepare inputs to the model\n",
    "\n",
    "Step 2: Truncate sequences if they too long\n",
    "    \n",
    "Step 3: Pad sequences to the longest sequence\n",
    "\n",
    "Step 4: Add batch dimension\n",
    "\n",
    "Step 5: Model inference without gradient tracking\n",
    "    \n",
    "Step 6: Logits of the last output token\n",
    "\n",
    "Step 7: Return the classified result\n",
    "\n",
    "</div>"
   ]
  },
  {
   "cell_type": "code",
   "execution_count": 281,
   "metadata": {},
   "outputs": [],
   "source": [
    "def classify_review(text, model, tokenizer, device, max_length=None, pad_token_id=50256):\n",
    "    model.eval()\n",
    "\n",
    "    # Prepare inputs to the model\n",
    "    input_ids = tokenizer.encode(text)\n",
    "    supported_context_length = model.pos_emb.weight.shape[0]\n",
    "    # Note: In the book, this was originally written as pos_emb.weight.shape[1] by mistake\n",
    "    # It didn't break the code but would have caused unnecessary truncation (to 768 instead of 1024)\n",
    "\n",
    "    # Truncate sequences if they too long\n",
    "    input_ids = input_ids[:min(max_length, supported_context_length)]\n",
    "\n",
    "    # Pad sequences to the longest sequence\n",
    "    input_ids += [pad_token_id] * (max_length - len(input_ids))\n",
    "    input_tensor = torch.tensor(input_ids, device=device).unsqueeze(0) # add batch dimension\n",
    "\n",
    "    # Model inference\n",
    "    with torch.no_grad():\n",
    "        logits = model(input_tensor)[:, -1, :]  # Logits of the last output token\n",
    "    predicted_label = torch.argmax(logits, dim=-1).item()\n",
    "\n",
    "    # Return the classified result\n",
    "    return \"spam\" if predicted_label == 1 else \"not spam\""
   ]
  },
  {
   "cell_type": "markdown",
   "metadata": {},
   "source": [
    "<div class=\"alert alert-block alert-success\">\n",
    "\n",
    "Let's try this classify_review function on an example text:\n",
    "</div>"
   ]
  },
  {
   "cell_type": "code",
   "execution_count": 282,
   "metadata": {},
   "outputs": [
    {
     "name": "stdout",
     "output_type": "stream",
     "text": [
      "spam\n"
     ]
    }
   ],
   "source": [
    "text_1 = (\n",
    "    \"You are a winner you have been specially\"\n",
    "    \" selected to receive $1000 cash or a $2000 award.\"\n",
    ")\n",
    "\n",
    "print(classify_review(\n",
    "    text_1, model, tokenizer, device, max_length=train_dataset.max_length\n",
    "))"
   ]
  },
  {
   "cell_type": "markdown",
   "metadata": {},
   "source": [
    "<div class=\"alert alert-block alert-info\">\n",
    "    \n",
    "The resulting model correctly predicts \"spam\".\n",
    "</div>"
   ]
  },
  {
   "cell_type": "code",
   "execution_count": 283,
   "metadata": {},
   "outputs": [
    {
     "name": "stdout",
     "output_type": "stream",
     "text": [
      "not spam\n"
     ]
    }
   ],
   "source": [
    "text_2 = (\n",
    "    \"Hey, just wanted to check if we're still on\"\n",
    "    \" for dinner tonight? Let me know!\"\n",
    ")\n",
    "\n",
    "print(classify_review(\n",
    "    text_2, model, tokenizer, device, max_length=train_dataset.max_length\n",
    "))"
   ]
  },
  {
   "cell_type": "markdown",
   "metadata": {},
   "source": [
    "<div class=\"alert alert-block alert-info\">\n",
    "    \n",
    "Also, here, the model makes a correct prediction and returns a \"not spam\" label.\n",
    "</div>"
   ]
  },
  {
   "cell_type": "markdown",
   "metadata": {},
   "source": [
    "<div class=\"alert alert-block alert-success\">\n",
    "\n",
    "Finally, let's save the model in case we want to reuse the model later without having to\n",
    "train it again using the torch.save method\n",
    "</div>"
   ]
  },
  {
   "cell_type": "code",
   "execution_count": 284,
   "metadata": {},
   "outputs": [],
   "source": [
    "torch.save(model.state_dict(), \"review_classifier.pth\")\n"
   ]
  },
  {
   "cell_type": "markdown",
   "metadata": {},
   "source": [
    "<div class=\"alert alert-block alert-success\">\n",
    "\n",
    "Once saved, the model can be loaded as follows:\n",
    "</div>"
   ]
  },
  {
   "cell_type": "code",
   "execution_count": 285,
   "metadata": {},
   "outputs": [
    {
     "data": {
      "text/plain": [
       "<All keys matched successfully>"
      ]
     },
     "execution_count": 285,
     "metadata": {},
     "output_type": "execute_result"
    }
   ],
   "source": [
    "model_state_dict = torch.load(\"review_classifier.pth\")\n",
    "model.load_state_dict(model_state_dict)"
   ]
  },
  {
   "cell_type": "markdown",
   "metadata": {},
   "source": [
    "# INSTRUCTION FINE-TUNING"
   ]
  },
  {
   "cell_type": "markdown",
   "metadata": {},
   "source": [
    "## STEP 1: PREPARING DATASET"
   ]
  },
  {
   "cell_type": "markdown",
   "metadata": {},
   "source": [
    "<div class=\"alert alert-block alert-success\">\n",
    "\n",
    "In this section, we download and format the instruction dataset for instruction finetuning a\n",
    "pretrained LLM in this chapter. The dataset consists of 1100 instruction-response pairs.\n",
    "\n",
    "The following code implements and executes a function to download this dataset, which\n",
    "is a relatively small file, only 204 KB in size, in JSON format. JSON, or JavaScript Object\n",
    "Notation, mirrors the structure of Python dictionaries, providing a simple structure for data\n",
    "interchange that is both human-readable and machine-friendly.\n",
    "\n",
    "</div>"
   ]
  },
  {
   "cell_type": "code",
   "execution_count": 210,
   "metadata": {},
   "outputs": [
    {
     "name": "stdout",
     "output_type": "stream",
     "text": [
      "Number of entries: 1100\n"
     ]
    }
   ],
   "source": [
    "import json\n",
    "import os\n",
    "import urllib\n",
    "import ssl\n",
    "\n",
    "def download_and_load_file(file_path, url):\n",
    "    ssl_context = ssl.create_default_context()\n",
    "    ssl_context.check_hostname = False\n",
    "    ssl_context.verify_mode = ssl.CERT_NONE\n",
    "\n",
    "    if not os.path.exists(file_path):\n",
    "        with urllib.request.urlopen(url, context=ssl_context) as response:\n",
    "            text_data = response.read().decode(\"utf-8\")\n",
    "        with open(file_path, \"w\", encoding=\"utf-8\") as file:\n",
    "            file.write(text_data)\n",
    "    else:\n",
    "        with open(file_path, \"r\", encoding=\"utf-8\") as file:\n",
    "            text_data = file.read()\n",
    "\n",
    "    with open(file_path, \"r\", encoding=\"utf-8\") as file:\n",
    "        data = json.load(file)\n",
    "\n",
    "    return data\n",
    "\n",
    "\n",
    "file_path = \"instruction-data.json\"\n",
    "url = (\n",
    "    \"https://raw.githubusercontent.com/rasbt/LLMs-from-scratch\"\n",
    "    \"/main/ch07/01_main-chapter-code/instruction-data.json\"\n",
    ")\n",
    "\n",
    "data = download_and_load_file(file_path, url)\n",
    "print(\"Number of entries:\", len(data))\n"
   ]
  },
  {
   "cell_type": "markdown",
   "metadata": {},
   "source": [
    "<div class=\"alert alert-block alert-success\">\n",
    "\n",
    "The data list , which we loaded from the JSON file contains the 1100 entries of the\n",
    "instruction dataset. \n",
    "\n",
    "Let's print one of the entries to see how each entry is structured:\n",
    "\n",
    "</div>"
   ]
  },
  {
   "cell_type": "code",
   "execution_count": 211,
   "metadata": {},
   "outputs": [
    {
     "name": "stdout",
     "output_type": "stream",
     "text": [
      "Example entry:\n",
      " {'instruction': 'Identify the correct spelling of the following word.', 'input': 'Ocassion', 'output': \"The correct spelling is 'Occasion.'\"}\n"
     ]
    }
   ],
   "source": [
    "print(\"Example entry:\\n\", data[50])"
   ]
  },
  {
   "cell_type": "code",
   "execution_count": 212,
   "metadata": {},
   "outputs": [
    {
     "name": "stdout",
     "output_type": "stream",
     "text": [
      "Another example entry:\n",
      " {'instruction': \"What is an antonym of 'complicated'?\", 'input': '', 'output': \"An antonym of 'complicated' is 'simple'.\"}\n"
     ]
    }
   ],
   "source": [
    "print(\"Another example entry:\\n\", data[999])"
   ]
  },
  {
   "cell_type": "markdown",
   "metadata": {},
   "source": [
    "### CONVERTING INSTRUCTIONS INTO ALPACA FORMAT"
   ]
  },
  {
   "cell_type": "code",
   "execution_count": 213,
   "metadata": {},
   "outputs": [],
   "source": [
    "def format_input(entry):\n",
    "    instruction_text = (\n",
    "        f\"Below is an instruction that describes a task. \"\n",
    "        f\"Write a response that appropriately completes the request.\"\n",
    "        f\"\\n\\n### Instruction:\\n{entry['instruction']}\"\n",
    "    )\n",
    "\n",
    "    input_text = f\"\\n\\n### Input:\\n{entry['input']}\" if entry[\"input\"] else \"\"\n",
    "\n",
    "    return instruction_text + input_text"
   ]
  },
  {
   "cell_type": "markdown",
   "metadata": {},
   "source": [
    "<div class=\"alert alert-block alert-info\">\n",
    "    \n",
    "This format_input function takes a dictionary entry as input and constructs a formatted\n",
    "string.\n",
    "\n",
    "</div>"
   ]
  },
  {
   "cell_type": "markdown",
   "metadata": {},
   "source": [
    "<div class=\"alert alert-block alert-success\">\n",
    "\n",
    " Let's test it to dataset entry data[50], which to looked at earlier:\n",
    "\n",
    "</div>"
   ]
  },
  {
   "cell_type": "code",
   "execution_count": 214,
   "metadata": {},
   "outputs": [
    {
     "name": "stdout",
     "output_type": "stream",
     "text": [
      "Below is an instruction that describes a task. Write a response that appropriately completes the request.\n",
      "\n",
      "### Instruction:\n",
      "Identify the correct spelling of the following word.\n",
      "\n",
      "### Input:\n",
      "Ocassion\n",
      "\n",
      "### Response:\n",
      "The correct spelling is 'Occasion.'\n"
     ]
    }
   ],
   "source": [
    "model_input = format_input(data[50])\n",
    "desired_response = f\"\\n\\n### Response:\\n{data[50]['output']}\"\n",
    "\n",
    "print(model_input + desired_response)"
   ]
  },
  {
   "cell_type": "markdown",
   "metadata": {},
   "source": [
    "<div class=\"alert alert-block alert-warning\">\n",
    "\n",
    "Note that the format_input skips the optional ### Input: section if the 'input' field is\n",
    "empty, which we can test out by applying the format_input function to entry data[999]\n",
    "that we inspected earlier:\n",
    "\n",
    "</div>"
   ]
  },
  {
   "cell_type": "code",
   "execution_count": 215,
   "metadata": {},
   "outputs": [
    {
     "name": "stdout",
     "output_type": "stream",
     "text": [
      "Below is an instruction that describes a task. Write a response that appropriately completes the request.\n",
      "\n",
      "### Instruction:\n",
      "What is an antonym of 'complicated'?\n",
      "\n",
      "### Response:\n",
      "An antonym of 'complicated' is 'simple'.\n"
     ]
    }
   ],
   "source": [
    "model_input = format_input(data[999])\n",
    "desired_response = f\"\\n\\n### Response:\\n{data[999]['output']}\"\n",
    "\n",
    "print(model_input + desired_response)"
   ]
  },
  {
   "cell_type": "markdown",
   "metadata": {},
   "source": [
    "### SPLITTING DATASET INTO TRAIN-TEST-VALIDATION"
   ]
  },
  {
   "cell_type": "code",
   "execution_count": 216,
   "metadata": {},
   "outputs": [],
   "source": [
    "train_portion = int(len(data) * 0.85)  # 85% for training\n",
    "test_portion = int(len(data) * 0.1)    # 10% for testing\n",
    "val_portion = len(data) - train_portion - test_portion  # Remaining 5% for validation\n",
    "\n",
    "train_data = data[:train_portion]\n",
    "test_data = data[train_portion:train_portion + test_portion]\n",
    "val_data = data[train_portion + test_portion:]"
   ]
  },
  {
   "cell_type": "code",
   "execution_count": 217,
   "metadata": {},
   "outputs": [
    {
     "name": "stdout",
     "output_type": "stream",
     "text": [
      "Training set length: 935\n",
      "Validation set length: 55\n",
      "Test set length: 110\n"
     ]
    }
   ],
   "source": [
    "print(\"Training set length:\", len(train_data))\n",
    "print(\"Validation set length:\", len(val_data))\n",
    "print(\"Test set length:\", len(test_data))"
   ]
  },
  {
   "cell_type": "markdown",
   "metadata": {},
   "source": [
    "<div class=\"alert alert-block alert-warning\">\n",
    "\n",
    "Having successfully downloaded and partitioned the dataset, and gained a clear\n",
    "understanding of the dataset prompt formatting, we are now ready for the core\n",
    "implementation of the instruction finetuning process.\n",
    "\n",
    "</div>"
   ]
  },
  {
   "cell_type": "markdown",
   "metadata": {},
   "source": [
    "## STEP 2: ORGANIZING DATA INTO TRAINING BATCHES"
   ]
  },
  {
   "cell_type": "markdown",
   "metadata": {},
   "source": [
    "<div class=\"alert alert-block alert-success\">\n",
    "\n",
    "In the previous chapter, the training batches were created automatically by the PyTorch\n",
    "DataLoader class, which employs a default collate function to combine lists of samples into\n",
    "batches. \n",
    "\n",
    "A collate function is responsible for taking a list of individual data samples and\n",
    "merging them into a single batch that can be processed efficiently by the model during\n",
    "training.\n",
    "\n",
    "</div>"
   ]
  },
  {
   "cell_type": "markdown",
   "metadata": {},
   "source": [
    "<div class=\"alert alert-block alert-warning\">\n",
    "\n",
    "However, the batching process for instruction finetuning in this chapter is a bit more\n",
    "involved and requires us to create our own custom collate function that we will later plug\n",
    "into the DataLoader. \n",
    "\n",
    "We implement this custom collate function to handle the specific\n",
    "requirements and formatting of our instruction finetuning dataset.\n",
    "\n",
    "</div>"
   ]
  },
  {
   "cell_type": "markdown",
   "metadata": {},
   "source": [
    "<div class=\"alert alert-block alert-success\">\n",
    "\n",
    "First, we code an\n",
    "InstructionDataset class that applies format_input from the previous section and pretokenizes all inputs in the dataset, similar to the SpamDataset in chapter 6.\n",
    "\n",
    "</div>"
   ]
  },
  {
   "cell_type": "code",
   "execution_count": 218,
   "metadata": {},
   "outputs": [],
   "source": [
    "import torch\n",
    "from torch.utils.data import Dataset\n",
    "\n",
    "\n",
    "class InstructionDataset(Dataset):\n",
    "    def __init__(self, data, tokenizer):\n",
    "        self.data = data\n",
    "\n",
    "        # Pre-tokenize texts\n",
    "        self.encoded_texts = []\n",
    "        for entry in data:\n",
    "            instruction_plus_input = format_input(entry)\n",
    "            response_text = f\"\\n\\n### Response:\\n{entry['output']}\"\n",
    "            full_text = instruction_plus_input + response_text\n",
    "            self.encoded_texts.append(\n",
    "                tokenizer.encode(full_text)\n",
    "            )\n",
    "\n",
    "    def __getitem__(self, index):\n",
    "        return self.encoded_texts[index]\n",
    "\n",
    "    def __len__(self):\n",
    "        return len(self.data)"
   ]
  },
  {
   "cell_type": "markdown",
   "metadata": {},
   "source": [
    "<div class=\"alert alert-block alert-warning\">\n",
    "\n",
    "Similar to the approach in chapter 6, we aim to accelerate training by collecting multiple\n",
    "training examples in a batch, which necessitates padding all inputs to a similar length. \n",
    "\n",
    "As with the previous chapter, we use the <|endoftext|> token as a padding token.\n",
    "    \n",
    "Instead of appending the <|endoftext|> tokens to the text inputs, we can append its\n",
    "token ID to the pre-tokenized inputs directly. \n",
    "\n",
    "To remind us which token ID we should use,\n",
    "we can use the tokenizer's .encode method on an <|endoftext|> token:\n",
    "\n",
    "</div>"
   ]
  },
  {
   "cell_type": "code",
   "execution_count": 219,
   "metadata": {},
   "outputs": [
    {
     "name": "stdout",
     "output_type": "stream",
     "text": [
      "[50256]\n"
     ]
    }
   ],
   "source": [
    "import tiktoken\n",
    "tokenizer = tiktoken.get_encoding(\"gpt2\")\n",
    "\n",
    "print(tokenizer.encode(\"<|endoftext|>\", allowed_special={\"<|endoftext|>\"}))"
   ]
  },
  {
   "cell_type": "markdown",
   "metadata": {},
   "source": [
    "<div class=\"alert alert-block alert-warning\">\n",
    "\n",
    "In chapter 6, we padded all examples in a dataset to the same length. \n",
    "\n",
    "Moving on, here, we adopt a more sophisticated approach by developing a custom\n",
    "collate function that we can pass to the data loader. \n",
    "\n",
    "This custom collate function pads the\n",
    "training examples in each batch to have the same length, while allowing different batches\n",
    "to have different lengths.\n",
    "\n",
    "This approach minimizes unnecessary\n",
    "padding by only extending sequences to match the longest one in each batch, not the\n",
    "whole dataset.\n",
    "\n",
    "</div>"
   ]
  },
  {
   "cell_type": "markdown",
   "metadata": {},
   "source": [
    "<div class=\"alert alert-block alert-success\">\n",
    "\n",
    "We can implement the padding process with a custom collate\n",
    "function as follows:\n",
    "</div>"
   ]
  },
  {
   "cell_type": "markdown",
   "metadata": {},
   "source": [
    "<div class=\"alert alert-block alert-info\">\n",
    "    \n",
    "Step 1: Find the longest sequence in the batch\n",
    "    \n",
    "Step 2: Pad and prepare inputs\n",
    "    \n",
    "Step 3: Remove extra padded token added earlier\n",
    "\n",
    "Step 4: Convert list of inputs to tensor and transfer to target device\n",
    "\n",
    "</div>"
   ]
  },
  {
   "cell_type": "code",
   "execution_count": 220,
   "metadata": {},
   "outputs": [],
   "source": [
    "def custom_collate_draft_1(\n",
    "    batch,\n",
    "    pad_token_id=50256,\n",
    "    device=\"cpu\"\n",
    "):\n",
    "    # Find the longest sequence in the batch\n",
    "    # and increase the max length by +1, which will add one extra\n",
    "    # padding token below\n",
    "    batch_max_length = max(len(item)+1 for item in batch)\n",
    "\n",
    "    # Pad and prepare inputs\n",
    "    inputs_lst = []\n",
    "\n",
    "    for item in batch:\n",
    "        new_item = item.copy()\n",
    "        # Add an <|endoftext|> token\n",
    "        new_item += [pad_token_id]\n",
    "        # Pad sequences to batch_max_length\n",
    "        padded = (\n",
    "            new_item + [pad_token_id] *\n",
    "            (batch_max_length - len(new_item))\n",
    "        )\n",
    "        # Via padded[:-1], we remove the extra padded token\n",
    "        # that has been added via the +1 setting in batch_max_length\n",
    "        # (the extra padding token will be relevant in later codes)\n",
    "        inputs = torch.tensor(padded[:-1])\n",
    "        inputs_lst.append(inputs)\n",
    "\n",
    "    # Convert list of inputs to tensor and transfer to target device\n",
    "    inputs_tensor = torch.stack(inputs_lst).to(device)\n",
    "    return inputs_tensor"
   ]
  },
  {
   "cell_type": "markdown",
   "metadata": {},
   "source": [
    "<div class=\"alert alert-block alert-info\">\n",
    "    \n",
    "The custom_collate_draft_1 we implemented is designed to be integrated into a PyTorch\n",
    "DataLoader, but it can also function as a standalone tool. \n",
    "\n",
    "Here, we use it independently to\n",
    "test and verify that it operates as intended. \n",
    "\n",
    "</div>"
   ]
  },
  {
   "cell_type": "markdown",
   "metadata": {},
   "source": [
    "<div class=\"alert alert-block alert-success\">\n",
    "\n",
    "Let's try it on three different inputs that we\n",
    "want to assemble into a batch, where each example gets padded to the same length:\n",
    "\n",
    "</div>"
   ]
  },
  {
   "cell_type": "code",
   "execution_count": 221,
   "metadata": {},
   "outputs": [
    {
     "name": "stdout",
     "output_type": "stream",
     "text": [
      "tensor([[    0,     1,     2,     3,     4],\n",
      "        [    5,     6, 50256, 50256, 50256],\n",
      "        [    7,     8,     9, 50256, 50256]])\n"
     ]
    }
   ],
   "source": [
    "inputs_1 = [0, 1, 2, 3, 4]\n",
    "inputs_2 = [5, 6]\n",
    "inputs_3 = [7, 8, 9]\n",
    "\n",
    "batch = (\n",
    "    inputs_1,\n",
    "    inputs_2,\n",
    "    inputs_3\n",
    ")\n",
    "\n",
    "print(custom_collate_draft_1(batch))"
   ]
  },
  {
   "cell_type": "markdown",
   "metadata": {},
   "source": [
    "<div class=\"alert alert-block alert-info\">\n",
    "    \n",
    "As we can see based on the preceding output, all inputs have been padded to the length of\n",
    "the longest input list, inputs_1 containing 5 token IDs.\n",
    "\n",
    "</div>"
   ]
  },
  {
   "cell_type": "markdown",
   "metadata": {},
   "source": [
    "<div class=\"alert alert-block alert-warning\">\n",
    "\n",
    "So far, we have just implemented our first custom collate function to create batches from\n",
    "lists of inputs. \n",
    "\n",
    "However, as you learned in previous lessons, we also need to create batches\n",
    "with the target token IDs, corresponding to the batch of input IDs. \n",
    "\n",
    "These target IDs are crucial because they represent what we want the model to\n",
    "generate and what we need during training to calculate the loss for the weight updates,\n",
    "similar to previous chapters.\n",
    "\n",
    "</div>"
   ]
  },
  {
   "cell_type": "markdown",
   "metadata": {},
   "source": [
    "#### CREATING TARGET TOKEN IDS FOR TRAINING"
   ]
  },
  {
   "cell_type": "markdown",
   "metadata": {},
   "source": [
    "<div class=\"alert alert-block alert-success\">\n",
    "\n",
    "Similar to the process described for pretraining an LLM, the target token IDs\n",
    "match the input token IDs but are shifted one position to the right. \n",
    "\n",
    "This setup allows the LLM to learn how to predict the next token in a sequence.\n",
    "\n",
    "</div>"
   ]
  },
  {
   "cell_type": "markdown",
   "metadata": {},
   "source": [
    "<div class=\"alert alert-block alert-success\">\n",
    "\n",
    "The following updated collate function generates the target token IDs from the input token IDs:\n",
    "\n",
    "</div>"
   ]
  },
  {
   "cell_type": "code",
   "execution_count": 222,
   "metadata": {},
   "outputs": [],
   "source": [
    "def custom_collate_draft_2(\n",
    "    batch,\n",
    "    pad_token_id=50256,\n",
    "    device=\"cpu\"\n",
    "):\n",
    "    # Find the longest sequence in the batch\n",
    "    batch_max_length = max(len(item)+1 for item in batch)\n",
    "\n",
    "    # Pad and prepare inputs\n",
    "    inputs_lst, targets_lst = [], []\n",
    "\n",
    "    for item in batch:\n",
    "        new_item = item.copy()\n",
    "        # Add an <|endoftext|> token\n",
    "        new_item += [pad_token_id]\n",
    "        # Pad sequences to max_length\n",
    "        padded = (\n",
    "            new_item + [pad_token_id] *\n",
    "            (batch_max_length - len(new_item))\n",
    "        )\n",
    "        inputs = torch.tensor(padded[:-1])  # Truncate the last token for inputs\n",
    "        targets = torch.tensor(padded[1:])  # Shift +1 to the right for targets\n",
    "        inputs_lst.append(inputs)\n",
    "        targets_lst.append(targets)\n",
    "\n",
    "    # Convert list of inputs to tensor and transfer to target device\n",
    "    inputs_tensor = torch.stack(inputs_lst).to(device)\n",
    "    targets_tensor = torch.stack(targets_lst).to(device)\n",
    "    return inputs_tensor, targets_tensor"
   ]
  },
  {
   "cell_type": "markdown",
   "metadata": {},
   "source": [
    "<div class=\"alert alert-block alert-info\">\n",
    "    \n",
    "Step 1: Truncate the last token for inputs\n",
    "                               \n",
    "Step 2: Shift +1 to the right for targets\n",
    "\n",
    "</div>"
   ]
  },
  {
   "cell_type": "code",
   "execution_count": 223,
   "metadata": {},
   "outputs": [
    {
     "name": "stdout",
     "output_type": "stream",
     "text": [
      "tensor([[    0,     1,     2,     3,     4],\n",
      "        [    5,     6, 50256, 50256, 50256],\n",
      "        [    7,     8,     9, 50256, 50256]])\n",
      "tensor([[    1,     2,     3,     4, 50256],\n",
      "        [    6, 50256, 50256, 50256, 50256],\n",
      "        [    8,     9, 50256, 50256, 50256]])\n"
     ]
    }
   ],
   "source": [
    "inputs_1 = [0, 1, 2, 3, 4]\n",
    "inputs_2 = [5, 6]\n",
    "inputs_3 = [7, 8, 9]\n",
    "\n",
    "batch = (\n",
    "    inputs_1,\n",
    "    inputs_2,\n",
    "    inputs_3\n",
    ")\n",
    "\n",
    "inputs, targets = custom_collate_draft_2(batch)\n",
    "print(inputs)\n",
    "print(targets)\n"
   ]
  },
  {
   "cell_type": "markdown",
   "metadata": {},
   "source": [
    "<div class=\"alert alert-block alert-info\">\n",
    "    \n",
    "The 1st tensor represents inputs.\n",
    "    \n",
    "The 2nd tensor represents the targets\n",
    "\n",
    "</div>"
   ]
  },
  {
   "cell_type": "markdown",
   "metadata": {},
   "source": [
    "<div class=\"alert alert-block alert-success\">\n",
    "\n",
    "In the next step, we assign a -100 placeholder value to all padding tokens.\n",
    "\n",
    "This special value allows us to exclude these padding tokens from contributing to\n",
    "the training loss calculation, ensuring that only meaningful data influences model learning.\n",
    "\n",
    "In classification fine-tuning, we did not have to worry about this since we only trained the model based on\n",
    "the last output token.)\n",
    "</div>"
   ]
  },
  {
   "cell_type": "markdown",
   "metadata": {},
   "source": [
    "<div class=\"alert alert-block alert-warning\">\n",
    "\n",
    "Note that we retain one end-of-text token, ID 50256, in the target list.\n",
    "\n",
    "This allows the LLM to learn when to generate an end-of-text token\n",
    "in response to instructions, which we use as an indicator that the generated response is\n",
    "complete.\n",
    "\n",
    "</div>"
   ]
  },
  {
   "cell_type": "markdown",
   "metadata": {},
   "source": [
    "<div class=\"alert alert-block alert-success\">\n",
    "\n",
    "In the following code, we modify our custom collate function to replace tokens with ID\n",
    "50256 with -100 in the target lists.\n",
    "\n",
    "Additionally, we introduce\n",
    "an allowed_max_length parameter to optionally limit the length of the samples. \n",
    "\n",
    "This\n",
    "adjustment will be useful if you plan to work with your own datasets that exceed the 1024-\n",
    "token context size supported by the GPT-2 model. \n",
    "\n",
    "The code for this updated collate function\n",
    "is as follows:\n",
    "</div>"
   ]
  },
  {
   "cell_type": "code",
   "execution_count": 224,
   "metadata": {},
   "outputs": [],
   "source": [
    "def custom_collate_fn(\n",
    "    batch,\n",
    "    pad_token_id=50256,\n",
    "    ignore_index=-100,\n",
    "    allowed_max_length=None,\n",
    "    device=\"cpu\"\n",
    "):\n",
    "    # Find the longest sequence in the batch\n",
    "    batch_max_length = max(len(item)+1 for item in batch)\n",
    "\n",
    "    # Pad and prepare inputs and targets\n",
    "    inputs_lst, targets_lst = [], []\n",
    "\n",
    "    for item in batch:\n",
    "        new_item = item.copy()\n",
    "        # Add an <|endoftext|> token\n",
    "        new_item += [pad_token_id]\n",
    "        # Pad sequences to max_length\n",
    "        padded = (\n",
    "            new_item + [pad_token_id] *\n",
    "            (batch_max_length - len(new_item))\n",
    "        )\n",
    "        inputs = torch.tensor(padded[:-1])  # Truncate the last token for inputs\n",
    "        targets = torch.tensor(padded[1:])  # Shift +1 to the right for targets\n",
    "\n",
    "        # New: Replace all but the first padding tokens in targets by ignore_index\n",
    "        mask = targets == pad_token_id\n",
    "        indices = torch.nonzero(mask).squeeze()\n",
    "        if indices.numel() > 1:\n",
    "            targets[indices[1:]] = ignore_index\n",
    "\n",
    "        # New: Optionally truncate to maximum sequence length\n",
    "        if allowed_max_length is not None:\n",
    "            inputs = inputs[:allowed_max_length]\n",
    "            targets = targets[:allowed_max_length]\n",
    "\n",
    "        inputs_lst.append(inputs)\n",
    "        targets_lst.append(targets)\n",
    "\n",
    "    # Convert list of inputs and targets to tensors and transfer to target device\n",
    "    inputs_tensor = torch.stack(inputs_lst).to(device)\n",
    "    targets_tensor = torch.stack(targets_lst).to(device)\n",
    "\n",
    "    return inputs_tensor, targets_tensor"
   ]
  },
  {
   "cell_type": "markdown",
   "metadata": {},
   "source": [
    "<div class=\"alert alert-block alert-info\">\n",
    "    \n",
    "Step 1: Replace all but the first padding tokens in targets by ignore_index\n",
    "\n",
    "Step 2: Optionally truncate to maximum sequence length\n",
    "\n",
    "</div>"
   ]
  },
  {
   "cell_type": "markdown",
   "metadata": {},
   "source": [
    "<div class=\"alert alert-block alert-success\">\n",
    "\n",
    "Again, let's try the collate function on the sample batch that we created earlier to check\n",
    "that it works as intended:\n",
    "</div>"
   ]
  },
  {
   "cell_type": "code",
   "execution_count": 225,
   "metadata": {},
   "outputs": [
    {
     "name": "stdout",
     "output_type": "stream",
     "text": [
      "tensor([[    0,     1,     2,     3,     4],\n",
      "        [    5,     6, 50256, 50256, 50256],\n",
      "        [    7,     8,     9, 50256, 50256]])\n",
      "tensor([[    1,     2,     3,     4, 50256],\n",
      "        [    6, 50256,  -100,  -100,  -100],\n",
      "        [    8,     9, 50256,  -100,  -100]])\n"
     ]
    }
   ],
   "source": [
    "inputs_1 = [0, 1, 2, 3, 4]\n",
    "inputs_2 = [5, 6]\n",
    "inputs_3 = [7, 8, 9]\n",
    "\n",
    "batch = (\n",
    "    inputs_1,\n",
    "    inputs_2,\n",
    "    inputs_3\n",
    ")\n",
    "\n",
    "inputs, targets = custom_collate_fn(batch)\n",
    "print(inputs)\n",
    "print(targets)"
   ]
  },
  {
   "cell_type": "markdown",
   "metadata": {},
   "source": [
    "<div class=\"alert alert-block alert-info\">\n",
    "    \n",
    "The modified collate function works as expected, altering the target list by inserting the\n",
    "token ID -100. \n",
    "\n",
    "What is the logic behind this adjustment? Let's explore the underlying\n",
    "purpose of this modification.\n",
    "\n",
    "</div>"
   ]
  },
  {
   "cell_type": "markdown",
   "metadata": {},
   "source": [
    "<div class=\"alert alert-block alert-warning\">\n",
    "\n",
    "For demonstration purposes, consider the following simple and self-contained example\n",
    "where each output logit can correspond to a potential token from the model's vocabulary.\n",
    "\n",
    "Here's how we might calculate the cross entropy loss (introduced in chapter 5) during\n",
    "training when the model predicts a sequence of tokens, similar to what we have done in\n",
    "chapter 5 when pretraining the model, or in chapter 6 when finetuning the model for\n",
    "classification:\n",
    "\n",
    "</div>"
   ]
  },
  {
   "cell_type": "code",
   "execution_count": 226,
   "metadata": {},
   "outputs": [
    {
     "name": "stdout",
     "output_type": "stream",
     "text": [
      "tensor(1.1269)\n"
     ]
    }
   ],
   "source": [
    "logits_1 = torch.tensor(\n",
    "    [[-1.0, 1.0],  # 1st training example\n",
    "     [-0.5, 1.5]]  # 2nd training example\n",
    ")\n",
    "targets_1 = torch.tensor([0, 1])\n",
    "\n",
    "\n",
    "loss_1 = torch.nn.functional.cross_entropy(logits_1, targets_1)\n",
    "print(loss_1)"
   ]
  },
  {
   "cell_type": "markdown",
   "metadata": {},
   "source": [
    "<div class=\"alert alert-block alert-success\">\n",
    "\n",
    "Adding an additional token ID will, as we would expect, affect the loss calculation.\n",
    "</div>"
   ]
  },
  {
   "cell_type": "code",
   "execution_count": 227,
   "metadata": {},
   "outputs": [
    {
     "name": "stdout",
     "output_type": "stream",
     "text": [
      "tensor(0.7936)\n"
     ]
    }
   ],
   "source": [
    "logits_2 = torch.tensor(\n",
    "    [[-1.0, 1.0],\n",
    "     [-0.5, 1.5],\n",
    "     [-0.5, 1.5]]  # New 3rd training example\n",
    ")\n",
    "targets_2 = torch.tensor([0, 1, 1])\n",
    "\n",
    "loss_2 = torch.nn.functional.cross_entropy(logits_2, targets_2)\n",
    "print(loss_2)"
   ]
  },
  {
   "cell_type": "markdown",
   "metadata": {},
   "source": [
    "<div class=\"alert alert-block alert-success\">\n",
    "\n",
    "Now, let's get to the interesting part and see what happens if we replace the third target\n",
    "token ID with -100:\n",
    "</div>"
   ]
  },
  {
   "cell_type": "code",
   "execution_count": 228,
   "metadata": {},
   "outputs": [
    {
     "name": "stdout",
     "output_type": "stream",
     "text": [
      "tensor(1.1269)\n",
      "loss_1 == loss_3: tensor(True)\n"
     ]
    }
   ],
   "source": [
    "logits_2 = torch.tensor(\n",
    "    [[-1.0, 1.0],\n",
    "     [-0.5, 1.5],\n",
    "     [-0.5, 1.5]]  # New 3rd training example\n",
    ")\n",
    "\n",
    "targets_3 = torch.tensor([0, 1, -100])\n",
    "\n",
    "loss_3 = torch.nn.functional.cross_entropy(logits_2, targets_3)\n",
    "print(loss_3)\n",
    "print(\"loss_1 == loss_3:\", loss_1 == loss_3)"
   ]
  },
  {
   "cell_type": "markdown",
   "metadata": {},
   "source": [
    "<div class=\"alert alert-block alert-warning\">\n",
    "\n",
    "Based on this result, we can see that the resulting loss on these 3 training examples is\n",
    "identical to the loss we calculated from the 2 training examples earlier. \n",
    "\n",
    "In other words, the\n",
    "cross entropy loss function ignored the third entry in the targets_3 vector, the token ID\n",
    "corresponding to -100. \n",
    "\n",
    "(Interested readers can try to replace the -100 value with another\n",
    "token IDs that is not 0 or 1, and will see that this results in an error.)\n",
    "\n",
    "</div>"
   ]
  },
  {
   "cell_type": "markdown",
   "metadata": {},
   "source": [
    "<div class=\"alert alert-block alert-warning\">\n",
    "\n",
    "So, what's so special about -100 that it's ignored by the cross entropy loss? The default\n",
    "setting of the cross entropy function in PyTorch is cross_entropy(...,\n",
    "ignore_index=-100). \n",
    "\n",
    "This means that it ignores targets labeled with -100.\n",
    "\n",
    "</div>"
   ]
  },
  {
   "cell_type": "markdown",
   "metadata": {},
   "source": [
    "<div class=\"alert alert-block alert-warning\">\n",
    "\n",
    "In this chapter, we take advantage of this ignore_index to ignore the additional end-oftext (padding) tokens that we used to pad the training examples to have the same length in\n",
    "each batch.\n",
    "\n",
    "</div>"
   ]
  },
  {
   "cell_type": "markdown",
   "metadata": {},
   "source": [
    "<div class=\"alert alert-block alert-warning\">\n",
    "\n",
    "However, we want to keep one 50256 (end-of-text)\n",
    "token ID in the targets because it helps the LLM to learn to generate end-of-text tokens,\n",
    "which we can use as an indicator that a response is complete.\n",
    "\n",
    "</div>"
   ]
  },
  {
   "cell_type": "markdown",
   "metadata": {},
   "source": [
    "#### MASKING TARGET TOKEN IDS"
   ]
  },
  {
   "cell_type": "markdown",
   "metadata": {},
   "source": [
    "<div class=\"alert alert-block alert-info\">\n",
    "    \n",
    "In addition to masking out padding tokens, it is also common to mask out the target\n",
    "token IDs that correspond to the instruction\n",
    "\n",
    "</div>"
   ]
  },
  {
   "cell_type": "markdown",
   "metadata": {},
   "source": [
    "<div class=\"alert alert-block alert-success\">\n",
    "\n",
    "By masking out the target token IDs that correspond to the instruction, the LLM cross entropy loss is only computed for the generated response target\n",
    "IDs. \n",
    "\n",
    "By masking out the instruction tokens, the model is trained to focus on generating\n",
    "accurate responses rather than additionally also memorizing instructions, which can help\n",
    "with reducing overfitting.\n",
    "</div>"
   ]
  },
  {
   "cell_type": "markdown",
   "metadata": {},
   "source": [
    "<div class=\"alert alert-block alert-info\">\n",
    "    \n",
    "Currently, researchers are divided on whether masking the instructions is universally beneficial during instruction finetuning. \n",
    "\n",
    "For instance, a recent\n",
    "paper titled \"Instruction Tuning With Loss Over Instructions\" demonstrated that not\n",
    "masking the instructions benefits the LLM performance.\n",
    "\n",
    "In this chapter, we do not apply masking and leave it as an optional\n",
    "exercise for the reader.\n",
    "\n",
    "</div>"
   ]
  },
  {
   "cell_type": "markdown",
   "metadata": {},
   "source": [
    "## STEP 3: CREATING DATALOADERS FOR AN INSTRUCTION DATASET"
   ]
  },
  {
   "cell_type": "markdown",
   "metadata": {},
   "source": [
    "<div class=\"alert alert-block alert-warning\">\n",
    "\n",
    "The custom_collate_fn includes code to move the input and target tensors (for\n",
    "example, torch.stack(inputs_lst).to(device)) to a specified device, which can be\n",
    "either \"cpu\" or \"cuda\" (for GPUs), or optionally \"mps\" for Macs with Apple Silicon chips.\n",
    "\n",
    "</div>"
   ]
  },
  {
   "cell_type": "markdown",
   "metadata": {},
   "source": [
    "<div class=\"alert alert-block alert-warning\">\n",
    "\n",
    "In previous chapters, we moved the data onto the target device (for example, the GPU\n",
    "memory when device=\"cuda\") in the main training loop. Having this as part of the collate\n",
    "function offers the advantage of performing this device transfer process as a background\n",
    "process outside the training loop, preventing it from blocking the GPU during model\n",
    "training.\n",
    "\n",
    "</div>"
   ]
  },
  {
   "cell_type": "markdown",
   "metadata": {},
   "source": [
    "<div class=\"alert alert-block alert-success\">\n",
    "\n",
    "The following code initializes the device variable:\n",
    "</div>"
   ]
  },
  {
   "cell_type": "code",
   "execution_count": 229,
   "metadata": {},
   "outputs": [
    {
     "name": "stdout",
     "output_type": "stream",
     "text": [
      "Device: cpu\n"
     ]
    }
   ],
   "source": [
    "device = torch.device(\"cuda\" if torch.cuda.is_available() else \"cpu\")\n",
    "\n",
    "# Note:\n",
    "# Uncommenting the following lines will allow the code to run on Apple Silicon chips, if applicable,\n",
    "# which is much faster than on an Apple CPU (as measured on an M3 MacBook Air).\n",
    "# However, the resulting loss values may be slightly different.\n",
    "\n",
    "#if torch.cuda.is_available():\n",
    "#    device = torch.device(\"cuda\")\n",
    "#elif torch.backends.mps.is_available():\n",
    "#    device = torch.device(\"mps\")\n",
    "#else:\n",
    "#    device = torch.device(\"cpu\")\n",
    "\n",
    "print(\"Device:\", device)"
   ]
  },
  {
   "cell_type": "markdown",
   "metadata": {},
   "source": [
    "<div class=\"alert alert-block alert-success\">\n",
    "\n",
    "Next, to reuse the chosen device setting in custom_collate_fn when we plug it into the\n",
    "PyTorch DataLoader class later in this section, we use the partial function from Python's\n",
    "functools standard library to create a new version of the function with the device\n",
    "argument pre-filled. \n",
    "\n",
    "Additionally, we set the allowed_max_length to 1024, which truncates\n",
    "the data to the maximum context length supported by the GPT-2 model we finetune later in\n",
    "this chapter:\n",
    "</div>"
   ]
  },
  {
   "cell_type": "code",
   "execution_count": 230,
   "metadata": {},
   "outputs": [],
   "source": [
    "from functools import partial\n",
    "customized_collate_fn = partial(custom_collate_fn, device=device, allowed_max_length=1024)"
   ]
  },
  {
   "cell_type": "markdown",
   "metadata": {},
   "source": [
    "<div class=\"alert alert-block alert-success\">\n",
    "\n",
    "Next, we can set up the data loaders as we did in previous chapters, but this time we will\n",
    "use our custom collate function for the batching process:\n",
    "</div>"
   ]
  },
  {
   "cell_type": "code",
   "execution_count": 231,
   "metadata": {},
   "outputs": [],
   "source": [
    "from torch.utils.data import DataLoader\n",
    "\n",
    "\n",
    "num_workers = 0\n",
    "batch_size = 8\n",
    "\n",
    "torch.manual_seed(123)\n",
    "\n",
    "train_dataset = InstructionDataset(train_data, tokenizer)\n",
    "train_loader = DataLoader(\n",
    "    train_dataset,\n",
    "    batch_size=batch_size,\n",
    "    collate_fn=customized_collate_fn,\n",
    "    shuffle=True,\n",
    "    drop_last=True,\n",
    "    num_workers=num_workers\n",
    ")\n",
    "\n",
    "val_dataset = InstructionDataset(val_data, tokenizer)\n",
    "val_loader = DataLoader(\n",
    "    val_dataset,\n",
    "    batch_size=batch_size,\n",
    "    collate_fn=customized_collate_fn,\n",
    "    shuffle=False,\n",
    "    drop_last=False,\n",
    "    num_workers=num_workers\n",
    ")\n",
    "\n",
    "test_dataset = InstructionDataset(test_data, tokenizer)\n",
    "test_loader = DataLoader(\n",
    "    test_dataset,\n",
    "    batch_size=batch_size,\n",
    "    collate_fn=customized_collate_fn,\n",
    "    shuffle=False,\n",
    "    drop_last=False,\n",
    "    num_workers=num_workers\n",
    ")"
   ]
  },
  {
   "cell_type": "markdown",
   "metadata": {},
   "source": [
    "<div class=\"alert alert-block alert-success\">\n",
    "\n",
    "Let's examine the dimensions of the input and target batches generated by the training\n",
    "loader:\n",
    "</div>"
   ]
  },
  {
   "cell_type": "code",
   "execution_count": 232,
   "metadata": {},
   "outputs": [
    {
     "name": "stdout",
     "output_type": "stream",
     "text": [
      "Train loader:\n",
      "torch.Size([8, 61]) torch.Size([8, 61])\n",
      "torch.Size([8, 76]) torch.Size([8, 76])\n",
      "torch.Size([8, 73]) torch.Size([8, 73])\n",
      "torch.Size([8, 68]) torch.Size([8, 68])\n",
      "torch.Size([8, 65]) torch.Size([8, 65])\n",
      "torch.Size([8, 72]) torch.Size([8, 72])\n",
      "torch.Size([8, 80]) torch.Size([8, 80])\n",
      "torch.Size([8, 67]) torch.Size([8, 67])\n",
      "torch.Size([8, 62]) torch.Size([8, 62])\n",
      "torch.Size([8, 75]) torch.Size([8, 75])\n",
      "torch.Size([8, 62]) torch.Size([8, 62])\n",
      "torch.Size([8, 68]) torch.Size([8, 68])\n",
      "torch.Size([8, 67]) torch.Size([8, 67])\n",
      "torch.Size([8, 77]) torch.Size([8, 77])\n",
      "torch.Size([8, 69]) torch.Size([8, 69])\n",
      "torch.Size([8, 79]) torch.Size([8, 79])\n",
      "torch.Size([8, 71]) torch.Size([8, 71])\n",
      "torch.Size([8, 66]) torch.Size([8, 66])\n",
      "torch.Size([8, 83]) torch.Size([8, 83])\n",
      "torch.Size([8, 68]) torch.Size([8, 68])\n",
      "torch.Size([8, 80]) torch.Size([8, 80])\n",
      "torch.Size([8, 71]) torch.Size([8, 71])\n",
      "torch.Size([8, 69]) torch.Size([8, 69])\n",
      "torch.Size([8, 65]) torch.Size([8, 65])\n",
      "torch.Size([8, 68]) torch.Size([8, 68])\n",
      "torch.Size([8, 60]) torch.Size([8, 60])\n",
      "torch.Size([8, 59]) torch.Size([8, 59])\n",
      "torch.Size([8, 69]) torch.Size([8, 69])\n",
      "torch.Size([8, 63]) torch.Size([8, 63])\n",
      "torch.Size([8, 65]) torch.Size([8, 65])\n",
      "torch.Size([8, 76]) torch.Size([8, 76])\n",
      "torch.Size([8, 66]) torch.Size([8, 66])\n",
      "torch.Size([8, 71]) torch.Size([8, 71])\n",
      "torch.Size([8, 91]) torch.Size([8, 91])\n",
      "torch.Size([8, 65]) torch.Size([8, 65])\n",
      "torch.Size([8, 64]) torch.Size([8, 64])\n",
      "torch.Size([8, 67]) torch.Size([8, 67])\n",
      "torch.Size([8, 66]) torch.Size([8, 66])\n",
      "torch.Size([8, 64]) torch.Size([8, 64])\n",
      "torch.Size([8, 65]) torch.Size([8, 65])\n",
      "torch.Size([8, 75]) torch.Size([8, 75])\n",
      "torch.Size([8, 89]) torch.Size([8, 89])\n",
      "torch.Size([8, 59]) torch.Size([8, 59])\n",
      "torch.Size([8, 88]) torch.Size([8, 88])\n",
      "torch.Size([8, 83]) torch.Size([8, 83])\n",
      "torch.Size([8, 83]) torch.Size([8, 83])\n",
      "torch.Size([8, 70]) torch.Size([8, 70])\n",
      "torch.Size([8, 65]) torch.Size([8, 65])\n",
      "torch.Size([8, 74]) torch.Size([8, 74])\n",
      "torch.Size([8, 76]) torch.Size([8, 76])\n",
      "torch.Size([8, 67]) torch.Size([8, 67])\n",
      "torch.Size([8, 75]) torch.Size([8, 75])\n",
      "torch.Size([8, 83]) torch.Size([8, 83])\n",
      "torch.Size([8, 69]) torch.Size([8, 69])\n",
      "torch.Size([8, 67]) torch.Size([8, 67])\n",
      "torch.Size([8, 60]) torch.Size([8, 60])\n",
      "torch.Size([8, 60]) torch.Size([8, 60])\n",
      "torch.Size([8, 66]) torch.Size([8, 66])\n",
      "torch.Size([8, 80]) torch.Size([8, 80])\n",
      "torch.Size([8, 71]) torch.Size([8, 71])\n",
      "torch.Size([8, 61]) torch.Size([8, 61])\n",
      "torch.Size([8, 58]) torch.Size([8, 58])\n",
      "torch.Size([8, 71]) torch.Size([8, 71])\n",
      "torch.Size([8, 67]) torch.Size([8, 67])\n",
      "torch.Size([8, 68]) torch.Size([8, 68])\n",
      "torch.Size([8, 63]) torch.Size([8, 63])\n",
      "torch.Size([8, 87]) torch.Size([8, 87])\n",
      "torch.Size([8, 68]) torch.Size([8, 68])\n",
      "torch.Size([8, 64]) torch.Size([8, 64])\n",
      "torch.Size([8, 68]) torch.Size([8, 68])\n",
      "torch.Size([8, 71]) torch.Size([8, 71])\n",
      "torch.Size([8, 68]) torch.Size([8, 68])\n",
      "torch.Size([8, 71]) torch.Size([8, 71])\n",
      "torch.Size([8, 61]) torch.Size([8, 61])\n",
      "torch.Size([8, 65]) torch.Size([8, 65])\n",
      "torch.Size([8, 67]) torch.Size([8, 67])\n",
      "torch.Size([8, 65]) torch.Size([8, 65])\n",
      "torch.Size([8, 64]) torch.Size([8, 64])\n",
      "torch.Size([8, 60]) torch.Size([8, 60])\n",
      "torch.Size([8, 72]) torch.Size([8, 72])\n",
      "torch.Size([8, 64]) torch.Size([8, 64])\n",
      "torch.Size([8, 70]) torch.Size([8, 70])\n",
      "torch.Size([8, 57]) torch.Size([8, 57])\n",
      "torch.Size([8, 72]) torch.Size([8, 72])\n",
      "torch.Size([8, 64]) torch.Size([8, 64])\n",
      "torch.Size([8, 68]) torch.Size([8, 68])\n",
      "torch.Size([8, 62]) torch.Size([8, 62])\n",
      "torch.Size([8, 74]) torch.Size([8, 74])\n",
      "torch.Size([8, 80]) torch.Size([8, 80])\n",
      "torch.Size([8, 68]) torch.Size([8, 68])\n",
      "torch.Size([8, 70]) torch.Size([8, 70])\n",
      "torch.Size([8, 91]) torch.Size([8, 91])\n",
      "torch.Size([8, 61]) torch.Size([8, 61])\n",
      "torch.Size([8, 66]) torch.Size([8, 66])\n",
      "torch.Size([8, 80]) torch.Size([8, 80])\n",
      "torch.Size([8, 81]) torch.Size([8, 81])\n",
      "torch.Size([8, 74]) torch.Size([8, 74])\n",
      "torch.Size([8, 82]) torch.Size([8, 82])\n",
      "torch.Size([8, 63]) torch.Size([8, 63])\n",
      "torch.Size([8, 83]) torch.Size([8, 83])\n",
      "torch.Size([8, 68]) torch.Size([8, 68])\n",
      "torch.Size([8, 67]) torch.Size([8, 67])\n",
      "torch.Size([8, 77]) torch.Size([8, 77])\n",
      "torch.Size([8, 91]) torch.Size([8, 91])\n",
      "torch.Size([8, 64]) torch.Size([8, 64])\n",
      "torch.Size([8, 61]) torch.Size([8, 61])\n",
      "torch.Size([8, 75]) torch.Size([8, 75])\n",
      "torch.Size([8, 64]) torch.Size([8, 64])\n",
      "torch.Size([8, 66]) torch.Size([8, 66])\n",
      "torch.Size([8, 78]) torch.Size([8, 78])\n",
      "torch.Size([8, 66]) torch.Size([8, 66])\n",
      "torch.Size([8, 64]) torch.Size([8, 64])\n",
      "torch.Size([8, 83]) torch.Size([8, 83])\n",
      "torch.Size([8, 66]) torch.Size([8, 66])\n",
      "torch.Size([8, 74]) torch.Size([8, 74])\n",
      "torch.Size([8, 69]) torch.Size([8, 69])\n"
     ]
    }
   ],
   "source": [
    "print(\"Train loader:\")\n",
    "for inputs, targets in train_loader:\n",
    "    print(inputs.shape, targets.shape)"
   ]
  },
  {
   "cell_type": "markdown",
   "metadata": {},
   "source": [
    "<div class=\"alert alert-block alert-info\">\n",
    "    \n",
    "In the preceding output, we can see that the first input and target batch have dimensions\n",
    "8×61, where 8 represents the batch size, and 61 is the number of tokens in each training\n",
    "example in this batch. \n",
    "\n",
    "The second input and target batch have a different number of\n",
    "tokens, for instance, 76.\n",
    "\n",
    "\n",
    "As we saw in the preceding code output, thanks to our custom collate function, the data\n",
    "loader is able to create batches of different lengths. \n",
    "\n",
    "In the next section, we load a\n",
    "pretrained LLM that we can then finetune with this data loader.\n",
    "\n",
    "</div>"
   ]
  },
  {
   "cell_type": "markdown",
   "metadata": {},
   "source": [
    "## STEP 4: LOADING A PRETRAINED LLM"
   ]
  },
  {
   "cell_type": "markdown",
   "metadata": {},
   "source": [
    "<div class=\"alert alert-block alert-success\">\n",
    "\n",
    "Before beginning instruction finetuning, we first load a pretrained GPT model,\n",
    "</div>"
   ]
  },
  {
   "cell_type": "markdown",
   "metadata": {},
   "source": [
    "<div class=\"alert alert-block alert-warning\">\n",
    "\n",
    "Instead of using the smallest 124 million\n",
    "parameter model as before, we load the medium-sized model with 355 million parameters.\n",
    "\n",
    "The reason for this choice is that the 124 million parameter model is too limited in capacity\n",
    "to achieve qualitatively satisfactory results via instruction finetuning.\n",
    "\n",
    "</div>"
   ]
  },
  {
   "cell_type": "markdown",
   "metadata": {},
   "source": [
    "<div class=\"alert alert-block alert-warning\">\n",
    "\n",
    "This is done using the same code as in section 5.5 of chapter 5 and section 6.4 of\n",
    "the previous chapter, except that we now specify \"gpt2-medium (355M)\" instead of \"gpt2-small\n",
    "(124M)\". \n",
    "\n",
    "Please note that executing the code provided below will initiate the download of\n",
    "the medium-sized GPT model, which has a storage requirement of approximately 1.42\n",
    "gigabytes. \n",
    "\n",
    "This is roughly three times larger than the storage space needed for the small\n",
    "model:\n",
    "\n",
    "</div>"
   ]
  },
  {
   "cell_type": "code",
   "execution_count": 233,
   "metadata": {},
   "outputs": [
    {
     "name": "stderr",
     "output_type": "stream",
     "text": [
      "/Library/Frameworks/Python.framework/Versions/3.12/lib/python3.12/site-packages/urllib3/connectionpool.py:1103: InsecureRequestWarning: Unverified HTTPS request is being made to host 'openaipublic.blob.core.windows.net'. Adding certificate verification is strongly advised. See: https://urllib3.readthedocs.io/en/latest/advanced-usage.html#tls-warnings\n",
      "  warnings.warn(\n"
     ]
    },
    {
     "name": "stdout",
     "output_type": "stream",
     "text": [
      "File already exists and is up-to-date: gpt2/355M/checkpoint\n"
     ]
    },
    {
     "name": "stderr",
     "output_type": "stream",
     "text": [
      "/Library/Frameworks/Python.framework/Versions/3.12/lib/python3.12/site-packages/urllib3/connectionpool.py:1103: InsecureRequestWarning: Unverified HTTPS request is being made to host 'openaipublic.blob.core.windows.net'. Adding certificate verification is strongly advised. See: https://urllib3.readthedocs.io/en/latest/advanced-usage.html#tls-warnings\n",
      "  warnings.warn(\n"
     ]
    },
    {
     "name": "stdout",
     "output_type": "stream",
     "text": [
      "File already exists and is up-to-date: gpt2/355M/encoder.json\n"
     ]
    },
    {
     "name": "stderr",
     "output_type": "stream",
     "text": [
      "/Library/Frameworks/Python.framework/Versions/3.12/lib/python3.12/site-packages/urllib3/connectionpool.py:1103: InsecureRequestWarning: Unverified HTTPS request is being made to host 'openaipublic.blob.core.windows.net'. Adding certificate verification is strongly advised. See: https://urllib3.readthedocs.io/en/latest/advanced-usage.html#tls-warnings\n",
      "  warnings.warn(\n"
     ]
    },
    {
     "name": "stdout",
     "output_type": "stream",
     "text": [
      "File already exists and is up-to-date: gpt2/355M/hparams.json\n"
     ]
    },
    {
     "name": "stderr",
     "output_type": "stream",
     "text": [
      "/Library/Frameworks/Python.framework/Versions/3.12/lib/python3.12/site-packages/urllib3/connectionpool.py:1103: InsecureRequestWarning: Unverified HTTPS request is being made to host 'openaipublic.blob.core.windows.net'. Adding certificate verification is strongly advised. See: https://urllib3.readthedocs.io/en/latest/advanced-usage.html#tls-warnings\n",
      "  warnings.warn(\n"
     ]
    },
    {
     "name": "stdout",
     "output_type": "stream",
     "text": [
      "File already exists and is up-to-date: gpt2/355M/model.ckpt.data-00000-of-00001\n"
     ]
    },
    {
     "name": "stderr",
     "output_type": "stream",
     "text": [
      "/Library/Frameworks/Python.framework/Versions/3.12/lib/python3.12/site-packages/urllib3/connectionpool.py:1103: InsecureRequestWarning: Unverified HTTPS request is being made to host 'openaipublic.blob.core.windows.net'. Adding certificate verification is strongly advised. See: https://urllib3.readthedocs.io/en/latest/advanced-usage.html#tls-warnings\n",
      "  warnings.warn(\n"
     ]
    },
    {
     "name": "stdout",
     "output_type": "stream",
     "text": [
      "File already exists and is up-to-date: gpt2/355M/model.ckpt.index\n"
     ]
    },
    {
     "name": "stderr",
     "output_type": "stream",
     "text": [
      "/Library/Frameworks/Python.framework/Versions/3.12/lib/python3.12/site-packages/urllib3/connectionpool.py:1103: InsecureRequestWarning: Unverified HTTPS request is being made to host 'openaipublic.blob.core.windows.net'. Adding certificate verification is strongly advised. See: https://urllib3.readthedocs.io/en/latest/advanced-usage.html#tls-warnings\n",
      "  warnings.warn(\n"
     ]
    },
    {
     "name": "stdout",
     "output_type": "stream",
     "text": [
      "File already exists and is up-to-date: gpt2/355M/model.ckpt.meta\n"
     ]
    },
    {
     "name": "stderr",
     "output_type": "stream",
     "text": [
      "/Library/Frameworks/Python.framework/Versions/3.12/lib/python3.12/site-packages/urllib3/connectionpool.py:1103: InsecureRequestWarning: Unverified HTTPS request is being made to host 'openaipublic.blob.core.windows.net'. Adding certificate verification is strongly advised. See: https://urllib3.readthedocs.io/en/latest/advanced-usage.html#tls-warnings\n",
      "  warnings.warn(\n"
     ]
    },
    {
     "name": "stdout",
     "output_type": "stream",
     "text": [
      "File already exists and is up-to-date: gpt2/355M/vocab.bpe\n"
     ]
    }
   ],
   "source": [
    "from gpt_download3 import download_and_load_gpt2\n",
    "\n",
    "BASE_CONFIG = {\n",
    "    \"vocab_size\": 50257,     # Vocabulary size\n",
    "    \"context_length\": 1024,  # Context length\n",
    "    \"drop_rate\": 0.0,        # Dropout rate\n",
    "    \"qkv_bias\": True         # Query-key-value bias\n",
    "}\n",
    "\n",
    "model_configs = {\n",
    "    \"gpt2-small (124M)\": {\"emb_dim\": 768, \"n_layers\": 12, \"n_heads\": 12},\n",
    "    \"gpt2-medium (355M)\": {\"emb_dim\": 1024, \"n_layers\": 24, \"n_heads\": 16},\n",
    "    \"gpt2-large (774M)\": {\"emb_dim\": 1280, \"n_layers\": 36, \"n_heads\": 20},\n",
    "    \"gpt2-xl (1558M)\": {\"emb_dim\": 1600, \"n_layers\": 48, \"n_heads\": 25},\n",
    "}\n",
    "\n",
    "CHOOSE_MODEL = \"gpt2-medium (355M)\"\n",
    "\n",
    "BASE_CONFIG.update(model_configs[CHOOSE_MODEL])\n",
    "\n",
    "model_size = CHOOSE_MODEL.split(\" \")[-1].lstrip(\"(\").rstrip(\")\")\n",
    "settings, params = download_and_load_gpt2(\n",
    "    model_size=model_size,\n",
    "    models_dir=\"gpt2\"\n",
    ")\n",
    "\n",
    "model = GPTModel(BASE_CONFIG)\n",
    "load_weights_into_gpt(model, params)\n",
    "model.eval();"
   ]
  },
  {
   "cell_type": "markdown",
   "metadata": {},
   "source": [
    "<div class=\"alert alert-block alert-success\">\n",
    "\n",
    "Before diving into finetuning the model in the next section, let's take a moment to assess\n",
    "the pretrained LLM's performance on one of the validation tasks by comparing its output to\n",
    "the expected response. \n",
    "\n",
    "This will give us a baseline understanding of how well the model\n",
    "performs on an instruction-following task right out of the box, prior to finetuning, and will\n",
    "help us appreciate the impact of finetuning later on. \n",
    "\n",
    "We use the first example from the\n",
    "validation set for this assessment:\n",
    "</div>"
   ]
  },
  {
   "cell_type": "code",
   "execution_count": 234,
   "metadata": {},
   "outputs": [
    {
     "name": "stdout",
     "output_type": "stream",
     "text": [
      "Below is an instruction that describes a task. Write a response that appropriately completes the request.\n",
      "\n",
      "### Instruction:\n",
      "Convert the active sentence to passive: 'The chef cooks the meal every day.'\n"
     ]
    }
   ],
   "source": [
    "torch.manual_seed(123)\n",
    "input_text = format_input(val_data[0])\n",
    "print(input_text)"
   ]
  },
  {
   "cell_type": "code",
   "execution_count": 235,
   "metadata": {},
   "outputs": [],
   "source": [
    "token_ids = generate(\n",
    "    model=model,\n",
    "    idx=text_to_token_ids(input_text, tokenizer),\n",
    "    max_new_tokens=35,\n",
    "    context_size=BASE_CONFIG[\"context_length\"],\n",
    "    eos_id=50256,\n",
    ")\n",
    "generated_text = token_ids_to_text(token_ids, tokenizer)"
   ]
  },
  {
   "cell_type": "markdown",
   "metadata": {},
   "source": [
    "<div class=\"alert alert-block alert-info\">\n",
    "    \n",
    "It's important to note that the generate function returns the combined input and output\n",
    "text. \n",
    "\n",
    "This behavior was convenient in previous chapters since pretrained LLMs are primarily\n",
    "designed as text-completion models, where the input and output are concatenated to\n",
    "create a coherent and legible text. \n",
    "\n",
    "However, when evaluating the model's performance on a\n",
    "specific task, we often want to focus solely on the model's generated response.\n",
    "\n",
    "</div>"
   ]
  },
  {
   "cell_type": "markdown",
   "metadata": {},
   "source": [
    "<div class=\"alert alert-block alert-success\">\n",
    "\n",
    "To isolate the model's response text, we need to subtract the length of the input\n",
    "instruction from the start of the generated_text:\n",
    "\n",
    "</div>"
   ]
  },
  {
   "cell_type": "code",
   "execution_count": 236,
   "metadata": {},
   "outputs": [
    {
     "name": "stdout",
     "output_type": "stream",
     "text": [
      "### Response:\n",
      "\n",
      "The chef cooks the meal every day.\n",
      "\n",
      "### Instruction:\n",
      "\n",
      "Convert the active sentence to passive: 'The chef cooks the\n"
     ]
    }
   ],
   "source": [
    "response_text = generated_text[len(input_text):].strip()\n",
    "print(response_text)"
   ]
  },
  {
   "cell_type": "markdown",
   "metadata": {},
   "source": [
    "<div class=\"alert alert-block alert-info\">\n",
    "\n",
    "This code snippet removes the input text from the beginning of the generated_text,\n",
    "leaving us with only the model's generated response. The strip() function is then applied\n",
    "to remove any leading or trailing whitespace characters. The output is as follows:\n",
    "\n",
    "</div>"
   ]
  },
  {
   "cell_type": "markdown",
   "metadata": {},
   "source": [
    "<div class=\"alert alert-block alert-info\">\n",
    "    \n",
    "As we can see from the output, the pretrained model is not yet capable of correctly\n",
    "following the given instruction. \n",
    "\n",
    "While it does create a \"Response\" section, it simply repeats\n",
    "the original input sentence and part of the instruction, failing to convert the active sentence\n",
    "to passive voice as requested.\n",
    "\n",
    "\n",
    "In the upcoming section, we implement the finetuning process to improve the model's\n",
    "ability to comprehend and appropriately respond to such requests.\n",
    "\n",
    "</div>"
   ]
  },
  {
   "cell_type": "markdown",
   "metadata": {},
   "source": [
    "## STEP 5: FINETUNING THE LLM ON INSTRUCTION DATA"
   ]
  },
  {
   "cell_type": "markdown",
   "metadata": {},
   "source": [
    "<div class=\"alert alert-block alert-success\">\n",
    "\n",
    "We already did all the hard work when we implemented the\n",
    "instruction dataset processing at the beginning of this chapter. \n",
    "\n",
    "For the finetuning process\n",
    "itself, we can reuse the loss calculation and training functions implemented in chapter 5\n",
    "during the pretraining:\n",
    "</div>"
   ]
  },
  {
   "cell_type": "markdown",
   "metadata": {},
   "source": [
    "<div class=\"alert alert-block alert-success\">\n",
    "\n",
    "Before we begin training, let's calculate the initial loss for the training and validation sets:\n",
    "</div>"
   ]
  },
  {
   "cell_type": "markdown",
   "metadata": {},
   "source": [
    "#### PREVIOUSLY DEFINED FUNCTIONS WHICH WE WILL REQUIRE"
   ]
  },
  {
   "cell_type": "code",
   "execution_count": null,
   "metadata": {},
   "outputs": [],
   "source": [
    "def calc_loss_batch(input_batch, target_batch, model, device):\n",
    "    input_batch, target_batch = input_batch.to(device), target_batch.to(device)\n",
    "    logits = model(input_batch)\n",
    "    loss = torch.nn.functional.cross_entropy(logits.flatten(0, 1), target_batch.flatten())\n",
    "    return loss\n",
    "\n",
    "\n",
    "def calc_loss_loader(data_loader, model, device, num_batches=None):\n",
    "    total_loss = 0.\n",
    "    if len(data_loader) == 0:\n",
    "        return float(\"nan\")\n",
    "    elif num_batches is None:\n",
    "        num_batches = len(data_loader)\n",
    "    else:\n",
    "        # Reduce the number of batches to match the total number of batches in the data loader\n",
    "        # if num_batches exceeds the number of batches in the data loader\n",
    "        num_batches = min(num_batches, len(data_loader))\n",
    "    for i, (input_batch, target_batch) in enumerate(data_loader):\n",
    "        if i < num_batches:\n",
    "            loss = calc_loss_batch(input_batch, target_batch, model, device)\n",
    "            total_loss += loss.item()\n",
    "        else:\n",
    "            break\n",
    "    return total_loss / num_batches\n",
    "\n",
    "def train_model_simple(model, train_loader, val_loader, optimizer, device, num_epochs,\n",
    "                       eval_freq, eval_iter, start_context, tokenizer):\n",
    "    # Initialize lists to track losses and tokens seen\n",
    "    train_losses, val_losses, track_tokens_seen = [], [], []\n",
    "    tokens_seen, global_step = 0, -1\n",
    "\n",
    "    # Main training loop\n",
    "    for epoch in range(num_epochs):\n",
    "        model.train()  # Set model to training mode\n",
    "        \n",
    "        for input_batch, target_batch in train_loader:\n",
    "            optimizer.zero_grad() # Reset loss gradients from previous batch iteration\n",
    "            loss = calc_loss_batch(input_batch, target_batch, model, device)\n",
    "            loss.backward() # Calculate loss gradients\n",
    "            optimizer.step() # Update model weights using loss gradients\n",
    "            tokens_seen += input_batch.numel() # Returns the total number of elements (or tokens) in the input_batch.\n",
    "            global_step += 1\n",
    "\n",
    "            # Optional evaluation step\n",
    "            if global_step % eval_freq == 0: \n",
    "                train_loss, val_loss = evaluate_model(\n",
    "                    model, train_loader, val_loader, device, eval_iter)\n",
    "                train_losses.append(train_loss)\n",
    "                val_losses.append(val_loss)\n",
    "                track_tokens_seen.append(tokens_seen)\n",
    "                print(f\"Ep {epoch+1} (Step {global_step:06d}): \"\n",
    "                      f\"Train loss {train_loss:.3f}, Val loss {val_loss:.3f}\")\n",
    "\n",
    "        # Print a sample text after each epoch\n",
    "        generate_and_print_sample(\n",
    "            model, tokenizer, device, start_context\n",
    "        )\n",
    "\n",
    "    return train_losses, val_losses, track_tokens_seen\n"
   ]
  },
  {
   "cell_type": "code",
   "execution_count": 237,
   "metadata": {},
   "outputs": [
    {
     "name": "stdout",
     "output_type": "stream",
     "text": [
      "Training loss: 3.8258946418762205\n",
      "Validation loss: 3.7619189739227297\n"
     ]
    }
   ],
   "source": [
    "model.to(device)\n",
    "\n",
    "torch.manual_seed(123)\n",
    "\n",
    "with torch.no_grad():\n",
    "    train_loss = calc_loss_loader(train_loader, model, device, num_batches=5)\n",
    "    val_loss = calc_loss_loader(val_loader, model, device, num_batches=5)\n",
    "\n",
    "print(\"Training loss:\", train_loss)\n",
    "print(\"Validation loss:\", val_loss)"
   ]
  },
  {
   "cell_type": "markdown",
   "metadata": {},
   "source": [
    "<div class=\"alert alert-block alert-success\">\n",
    "With the model and data loaders prepared, we can now proceed to train the model. \n",
    "\n",
    "The following code sets up the training process, including initializing the optimizer, setting the\n",
    "number of epochs, and defining the evaluation frequency and starting context to evaluate\n",
    "generated LLM responses during training based on the first validation set instruction\n",
    "(val_data[0]) we looked at earlier:\n",
    "\n",
    "</div>"
   ]
  },
  {
   "cell_type": "code",
   "execution_count": 238,
   "metadata": {},
   "outputs": [
    {
     "name": "stdout",
     "output_type": "stream",
     "text": [
      "Ep 1 (Step 000000): Train loss 2.637, Val loss 2.626\n",
      "Ep 1 (Step 000005): Train loss 1.174, Val loss 1.103\n",
      "Ep 1 (Step 000010): Train loss 0.872, Val loss 0.945\n",
      "Ep 1 (Step 000015): Train loss 0.857, Val loss 0.906\n",
      "Ep 1 (Step 000020): Train loss 0.776, Val loss 0.881\n",
      "Ep 1 (Step 000025): Train loss 0.754, Val loss 0.859\n",
      "Ep 1 (Step 000030): Train loss 0.799, Val loss 0.836\n",
      "Ep 1 (Step 000035): Train loss 0.714, Val loss 0.808\n",
      "Ep 1 (Step 000040): Train loss 0.672, Val loss 0.806\n",
      "Ep 1 (Step 000045): Train loss 0.633, Val loss 0.790\n",
      "Ep 1 (Step 000050): Train loss 0.662, Val loss 0.783\n",
      "Ep 1 (Step 000055): Train loss 0.760, Val loss 0.764\n",
      "Ep 1 (Step 000060): Train loss 0.719, Val loss 0.743\n",
      "Ep 1 (Step 000065): Train loss 0.652, Val loss 0.735\n",
      "Ep 1 (Step 000070): Train loss 0.532, Val loss 0.729\n",
      "Ep 1 (Step 000075): Train loss 0.569, Val loss 0.729\n",
      "Ep 1 (Step 000080): Train loss 0.605, Val loss 0.725\n",
      "Ep 1 (Step 000085): Train loss 0.509, Val loss 0.709\n",
      "Ep 1 (Step 000090): Train loss 0.562, Val loss 0.691\n",
      "Ep 1 (Step 000095): Train loss 0.500, Val loss 0.681\n",
      "Ep 1 (Step 000100): Train loss 0.502, Val loss 0.677\n",
      "Ep 1 (Step 000105): Train loss 0.564, Val loss 0.670\n",
      "Ep 1 (Step 000110): Train loss 0.555, Val loss 0.667\n",
      "Ep 1 (Step 000115): Train loss 0.508, Val loss 0.664\n",
      "Below is an instruction that describes a task. Write a response that appropriately completes the request.  ### Instruction: Convert the active sentence to passive: 'The chef cooks the meal every day.'  ### Response: The meal is prepared every day by the chef.<|endoftext|>The following is an instruction that describes a task. Write a response that appropriately completes the request.  ### Instruction: Convert the active sentence to passive:\n",
      "Training completed in 121.19 minutes.\n"
     ]
    }
   ],
   "source": [
    "import time\n",
    "\n",
    "start_time = time.time()\n",
    "\n",
    "torch.manual_seed(123)\n",
    "\n",
    "optimizer = torch.optim.AdamW(model.parameters(), lr=0.00005, weight_decay=0.1)\n",
    "\n",
    "num_epochs = 1\n",
    "\n",
    "train_losses, val_losses, tokens_seen = train_model_simple(\n",
    "    model, train_loader, val_loader, optimizer, device,\n",
    "    num_epochs=num_epochs, eval_freq=5, eval_iter=5,\n",
    "    start_context=format_input(val_data[0]), tokenizer=tokenizer\n",
    ")\n",
    "\n",
    "end_time = time.time()\n",
    "execution_time_minutes = (end_time - start_time) / 60\n",
    "print(f\"Training completed in {execution_time_minutes:.2f} minutes.\")"
   ]
  },
  {
   "cell_type": "markdown",
   "metadata": {},
   "source": [
    "<div class=\"alert alert-block alert-info\">\n",
    "\n",
    "\n",
    "As we can see based on the outputs above, the model trains well, as we can tell based on the decreasing training loss and validation loss values.\n",
    "    \n",
    "Furthermore, based on the response text printed after each epoch, we can see that the model almost correctly follows the instruction to convert the input sentence 'The chef cooks the meal every day.' into passive voice 'The meal is prepared every day by the chef.' (We will properly format and evaluate the responses in a later section.\n",
    "\n",
    "To get better results, we need to finetune the model for more epochs.\n",
    "\n",
    "Finally, let's take a look at the training and validation loss curves\n",
    "\n",
    "</div>"
   ]
  },
  {
   "cell_type": "code",
   "execution_count": 240,
   "metadata": {},
   "outputs": [],
   "source": [
    "import matplotlib.pyplot as plt\n",
    "from matplotlib.ticker import MaxNLocator\n",
    "\n",
    "\n",
    "def plot_losses(epochs_seen, tokens_seen, train_losses, val_losses):\n",
    "    fig, ax1 = plt.subplots(figsize=(5, 3))\n",
    "\n",
    "    # Plot training and validation loss against epochs\n",
    "    ax1.plot(epochs_seen, train_losses, label=\"Training loss\")\n",
    "    ax1.plot(epochs_seen, val_losses, linestyle=\"-.\", label=\"Validation loss\")\n",
    "    ax1.set_xlabel(\"Epochs\")\n",
    "    ax1.set_ylabel(\"Loss\")\n",
    "    ax1.legend(loc=\"upper right\")\n",
    "    ax1.xaxis.set_major_locator(MaxNLocator(integer=True))  # only show integer labels on x-axis\n",
    "\n",
    "    # Create a second x-axis for tokens seen\n",
    "    ax2 = ax1.twiny()  # Create a second x-axis that shares the same y-axis\n",
    "    ax2.plot(tokens_seen, train_losses, alpha=0)  # Invisible plot for aligning ticks\n",
    "    ax2.set_xlabel(\"Tokens seen\")\n",
    "\n",
    "    fig.tight_layout()  # Adjust layout to make room\n",
    "    plt.savefig(\"loss-plot.pdf\")\n",
    "    plt.show()"
   ]
  },
  {
   "cell_type": "code",
   "execution_count": 241,
   "metadata": {},
   "outputs": [
    {
     "data": {
      "image/png": "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",
      "text/plain": [
       "<Figure size 500x300 with 2 Axes>"
      ]
     },
     "metadata": {},
     "output_type": "display_data"
    }
   ],
   "source": [
    "epochs_tensor = torch.linspace(0, num_epochs, len(train_losses))\n",
    "plot_losses(epochs_tensor, tokens_seen, train_losses, val_losses)"
   ]
  },
  {
   "cell_type": "markdown",
   "metadata": {},
   "source": [
    "<div class=\"alert alert-block alert-info\">\n",
    "\n",
    "\n",
    "As we can see in the loss plot shown above, the model's performance on both the\n",
    "training and validation sets improves substantially over the course of training. \n",
    "\n",
    "The rapid\n",
    "decrease in losses during the initial phase indicates that the model is quickly learning\n",
    "meaningful patterns and representations from the data. Then, as training progresses to the\n",
    "second epoch, the losses continue to decrease but at a slower rate, suggesting that the\n",
    "model is finetuning its learned representations and converging to a stable solution.\n",
    "\n",
    "\n",
    "While the loss plot in figure 7.17 indicates that the model is training effectively, the most\n",
    "crucial aspect is its performance in terms of response quality and correctness. In the\n",
    "remaining sections of this chapter, we will extract the responses and store them in a format\n",
    "that allows us to evaluate and quantify the response quality.\n",
    "\n",
    "</div>"
   ]
  },
  {
   "cell_type": "markdown",
   "metadata": {},
   "source": [
    "## STEP 6: EXTRACTING AND SAVING RESPONSES"
   ]
  },
  {
   "cell_type": "markdown",
   "metadata": {},
   "source": [
    "<div class=\"alert alert-block alert-success\">\n",
    "\n",
    "After finetuning the LLM on the training portion of the instruction dataset as described in\n",
    "the previous section, we now proceed to evaluate its performance on the held-out test set.\n",
    "    \n",
    "To accomplish this, we first extract the model-generated responses for each input in the\n",
    "test dataset and collect them for manual analysis\n",
    "\n",
    "</div>"
   ]
  },
  {
   "cell_type": "markdown",
   "metadata": {},
   "source": [
    "<div class=\"alert alert-block alert-info\">\n",
    "\n",
    "\n",
    "Step 1: Iterate over the first 3 test set samples\n",
    "\n",
    "Step 2:  Use the generate function defined earlier\n",
    "\n",
    "</div>"
   ]
  },
  {
   "cell_type": "markdown",
   "metadata": {},
   "source": [
    "<div class=\"alert alert-block alert-warning\">\n",
    "\n",
    "As mentioned earlier, the generate function returns the combined input and output text, so\n",
    "we use slicing and the .replace() method on the generated_text contents to extract the\n",
    "model's response. \n",
    "\n",
    "The instructions, followed by the given test set response and model\n",
    "response are shown below:\n",
    "\n",
    "</div>"
   ]
  },
  {
   "cell_type": "code",
   "execution_count": 242,
   "metadata": {},
   "outputs": [
    {
     "name": "stdout",
     "output_type": "stream",
     "text": [
      "Below is an instruction that describes a task. Write a response that appropriately completes the request.\n",
      "\n",
      "### Instruction:\n",
      "Rewrite the sentence using a simile.\n",
      "\n",
      "### Input:\n",
      "The car is very fast.\n",
      "\n",
      "Correct response:\n",
      ">> The car is as fast as lightning.\n",
      "\n",
      "Model response:\n",
      ">> The car is as fast as a bullet.\n",
      "-------------------------------------\n",
      "Below is an instruction that describes a task. Write a response that appropriately completes the request.\n",
      "\n",
      "### Instruction:\n",
      "What type of cloud is typically associated with thunderstorms?\n",
      "\n",
      "Correct response:\n",
      ">> The type of cloud typically associated with thunderstorms is cumulonimbus.\n",
      "\n",
      "Model response:\n",
      ">> A thunderstorm is a type of cloud that typically forms in the atmosphere over a region of high pressure. It typically produces a strong wind that blows across the area, creating a dense, dense cloud.\n",
      "-------------------------------------\n",
      "Below is an instruction that describes a task. Write a response that appropriately completes the request.\n",
      "\n",
      "### Instruction:\n",
      "Name the author of 'Pride and Prejudice'.\n",
      "\n",
      "Correct response:\n",
      ">> Jane Austen.\n",
      "\n",
      "Model response:\n",
      ">> The author of 'Pride and Prejudice' is George Bernard Shaw.\n",
      "-------------------------------------\n"
     ]
    }
   ],
   "source": [
    "torch.manual_seed(123)\n",
    "\n",
    "\n",
    "for entry in test_data[:3]:\n",
    "\n",
    "    input_text = format_input(entry)\n",
    "\n",
    "    token_ids = generate(\n",
    "        model=model,\n",
    "        idx=text_to_token_ids(input_text, tokenizer).to(device),\n",
    "        max_new_tokens=256,\n",
    "        context_size=BASE_CONFIG[\"context_length\"],\n",
    "        eos_id=50256\n",
    "    )\n",
    "    generated_text = token_ids_to_text(token_ids, tokenizer)\n",
    "    response_text = (\n",
    "        generated_text[len(input_text):]\n",
    "        .replace(\"### Response:\", \"\")\n",
    "        .strip()\n",
    ")\n",
    "\n",
    "    print(input_text)\n",
    "    print(f\"\\nCorrect response:\\n>> {entry['output']}\")\n",
    "    print(f\"\\nModel response:\\n>> {response_text.strip()}\")\n",
    "    print(\"-------------------------------------\")"
   ]
  },
  {
   "cell_type": "markdown",
   "metadata": {},
   "source": [
    "<div class=\"alert alert-block alert-info\">\n",
    "\n",
    "\n",
    "As we can see based on the test set instructions, given responses, and the model's\n",
    "responses, the model performs relatively well. \n",
    "\n",
    "The answers to the first instruction\n",
    "is clearly correct, while the second answer and the third answers are not correct. \n",
    "\n",
    "This is because we have done the fine-tuning for only 1 epoch due to hardware limitations. To get better results, we need to increase the epochs to at least 2.\n",
    "\n",
    "</div>"
   ]
  },
  {
   "cell_type": "markdown",
   "metadata": {},
   "source": [
    "<div class=\"alert alert-block alert-warning\">\n",
    "\n",
    "Most importantly, we can see that model evaluation is not as straightforward as in the\n",
    "previous chapter, where we simply calculated the percentage of correct spam/non-spam\n",
    "class labels to obtain the classification accuracy. \n",
    "\n",
    "In practice, instruction-finetuned LLMs\n",
    "such as chatbots are evaluated via multiple approaches:\n",
    "\n",
    "1. Short-answer and multiple choice benchmarks such as MMLU (\"Measuring\n",
    "Massive Multitask Language Understanding,\" https://arxiv.org/abs/2009.\n",
    "03300), which test the general knowledge of a model.\n",
    "\n",
    "2. Human preference comparison to other LLMs, such as LMSYS chatbot\n",
    "arena (https://arena.lmsys.org).\n",
    "\n",
    "3. Automated conversational benchmarks, where another LLM like GPT-4 is\n",
    "used to evaluate the responses, such as AlpacaEval (https://tatsulab.github.io/alpaca_eval/).\n",
    "completes the request.\n",
    "\n",
    "</div>"
   ]
  },
  {
   "cell_type": "markdown",
   "metadata": {},
   "source": [
    "<div class=\"alert alert-block alert-success\">\n",
    "\n",
    "Considering the scale of the task at hand, we will implement an approach similar to\n",
    "method 3, which involves evaluating the responses automatically using another LLM. \n",
    "\n",
    "This\n",
    "will allow us to efficiently assess the quality of the generated responses without the need\n",
    "for extensive human involvement, thereby saving time and resources while still obtaining\n",
    "meaningful performance indicators.\n",
    "</div>"
   ]
  },
  {
   "cell_type": "markdown",
   "metadata": {},
   "source": [
    "<div class=\"alert alert-block alert-success\">\n",
    "\n",
    "To prepare the responses for this evaluation process, we append the generated model\n",
    "responses to the test_set dictionary and save the updated data as an \"instructiondata-with-response.json\" file for record keeping. \n",
    "\n",
    "Additionally, by saving this file, we can\n",
    "easily load and analyze the responses in separate Python sessions later on if needed.\n",
    "</div>"
   ]
  },
  {
   "cell_type": "markdown",
   "metadata": {},
   "source": [
    "<div class=\"alert alert-block alert-success\">\n",
    "\n",
    "The following code uses the generate method in the same manner as before; however,\n",
    "we now iterate over the entire test_set. \n",
    "\n",
    "Also, instead of printing the model responses, we\n",
    "add them to the test_set dictionary:\n",
    "</div>"
   ]
  },
  {
   "cell_type": "code",
   "execution_count": 244,
   "metadata": {},
   "outputs": [
    {
     "name": "stderr",
     "output_type": "stream",
     "text": [
      "100%|███████████████████████████████████████████████████████████████████████████████████████████████| 110/110 [18:28<00:00, 10.08s/it]\n"
     ]
    }
   ],
   "source": [
    "from tqdm import tqdm\n",
    "\n",
    "for i, entry in tqdm(enumerate(test_data), total=len(test_data)):\n",
    "\n",
    "    input_text = format_input(entry)\n",
    "\n",
    "    token_ids = generate(\n",
    "        model=model,\n",
    "        idx=text_to_token_ids(input_text, tokenizer).to(device),\n",
    "        max_new_tokens=256,\n",
    "        context_size=BASE_CONFIG[\"context_length\"],\n",
    "        eos_id=50256\n",
    "    )\n",
    "    generated_text = token_ids_to_text(token_ids, tokenizer)\n",
    "    response_text = generated_text[len(input_text):].replace(\"### Response:\", \"\").strip()\n",
    "\n",
    "    test_data[i][\"model_response\"] = response_text\n",
    "\n",
    "\n",
    "with open(\"instruction-data-with-response.json\", \"w\") as file:\n",
    "    json.dump(test_data, file, indent=4)  # \"indent\" for pretty-printing"
   ]
  },
  {
   "cell_type": "markdown",
   "metadata": {},
   "source": [
    "<div class=\"alert alert-block alert-success\">\n",
    "\n",
    "Let's verify that the responses have been correctly added to the test_set dictionary by\n",
    "examining one of the entries:\n",
    "</div>"
   ]
  },
  {
   "cell_type": "code",
   "execution_count": 245,
   "metadata": {},
   "outputs": [
    {
     "name": "stdout",
     "output_type": "stream",
     "text": [
      "{'instruction': 'Rewrite the sentence using a simile.', 'input': 'The car is very fast.', 'output': 'The car is as fast as lightning.', 'model_response': 'The car is as fast as a bullet.'}\n"
     ]
    }
   ],
   "source": [
    "print(test_data[0])"
   ]
  },
  {
   "cell_type": "markdown",
   "metadata": {},
   "source": [
    "<div class=\"alert alert-block alert-info\">\n",
    "\n",
    "\n",
    "Based on the output, we can see that the model_response has been added correctly.\n",
    "\n",
    "</div>"
   ]
  },
  {
   "cell_type": "markdown",
   "metadata": {},
   "source": [
    "<div class=\"alert alert-block alert-success\">\n",
    "\n",
    "Finally, we save the model as gpt2-medium355M-sft.pth file to be able to reuse it in future\n",
    "projects:\n",
    "</div>"
   ]
  },
  {
   "cell_type": "code",
   "execution_count": 246,
   "metadata": {},
   "outputs": [
    {
     "name": "stdout",
     "output_type": "stream",
     "text": [
      "Model saved as gpt2-medium355M-sft.pth\n"
     ]
    }
   ],
   "source": [
    "import re\n",
    "\n",
    "\n",
    "file_name = f\"{re.sub(r'[ ()]', '', CHOOSE_MODEL) }-sft.pth\"\n",
    "torch.save(model.state_dict(), file_name)\n",
    "print(f\"Model saved as {file_name}\")\n",
    "\n",
    "# Load model via\n",
    "# model.load_state_dict(torch.load(\"gpt2-medium355M-sft.pth\"))"
   ]
  },
  {
   "cell_type": "markdown",
   "metadata": {},
   "source": [
    "## STEP 7: EVALUATING THE FINE-TUNED LLM"
   ]
  },
  {
   "cell_type": "markdown",
   "metadata": {},
   "source": [
    "<div class=\"alert alert-block alert-success\">\n",
    "\n",
    "Previously, we judged the performance of an instruction finetuned model by looking at its\n",
    "responses on 3 examples of the test set. \n",
    "\n",
    "While this gives us a rough idea of how well the\n",
    "model performs, this method does not really scale well to larger amounts of responses. \n",
    "\n",
    "So, in this section, we implement a method to automate the response evaluation of the finetuned LLM using another, larger LLM.\n",
    "</div>"
   ]
  },
  {
   "cell_type": "markdown",
   "metadata": {},
   "source": [
    "<div class=\"alert alert-block alert-success\">\n",
    "\n",
    "To implement the evaluation step which involves evaluating test set responses in\n",
    "an automated fashion, we utilize an existing instruction-finetuned 8 billion parameter Llama\n",
    "3 model developed by Meta AI. \n",
    "\n",
    "This model can be run locally using the open-source Ollama\n",
    "application (https://ollama.com).\n",
    "</div>"
   ]
  },
  {
   "cell_type": "markdown",
   "metadata": {},
   "source": [
    "<div class=\"alert alert-block alert-warning\">\n",
    "\n",
    "Ollama is an efficient application for running LLMs on a laptop. \n",
    "\n",
    "It serves as a wrapper\n",
    "around the open-source llama.cpp library (https://github.com/ggerganov/llama.cpp), which\n",
    "implements LLMs in pure C/C++ to maximize efficiency. \n",
    "\n",
    "However, note that Ollama is only\n",
    "a tool for generating text using LLMs (inference) and does not support training or finetuning\n",
    "LLMs.\n",
    "\n",
    "</div>"
   ]
  },
  {
   "cell_type": "markdown",
   "metadata": {},
   "source": [
    "<div class=\"alert alert-block alert-success\">\n",
    "\n",
    "The following code verifies that the Ollama session is running properly before we use\n",
    "Ollama to evaluate the test set responses generated in the previous section:</div>"
   ]
  },
  {
   "cell_type": "code",
   "execution_count": 247,
   "metadata": {},
   "outputs": [
    {
     "name": "stdout",
     "output_type": "stream",
     "text": [
      "Ollama running: True\n"
     ]
    }
   ],
   "source": [
    "import psutil\n",
    "\n",
    "def check_if_running(process_name):\n",
    "    running = False\n",
    "    for proc in psutil.process_iter([\"name\"]):\n",
    "        if process_name in proc.info[\"name\"]:\n",
    "            running = True\n",
    "            break\n",
    "    return running\n",
    "\n",
    "ollama_running = check_if_running(\"ollama\")\n",
    "\n",
    "if not ollama_running:\n",
    "    raise RuntimeError(\"Ollama not running. Launch ollama before proceeding.\")\n",
    "print(\"Ollama running:\", check_if_running(\"ollama\"))"
   ]
  },
  {
   "cell_type": "markdown",
   "metadata": {},
   "source": [
    "<div class=\"alert alert-block alert-success\">\n",
    "\n",
    "An alternative to the ollama run command for interacting with the model is through its\n",
    "REST API using Python. \n",
    "\n",
    "The following query_model function demonstrates how to use the\n",
    "API:</div>"
   ]
  },
  {
   "cell_type": "markdown",
   "metadata": {},
   "source": [
    "<div class=\"alert alert-block alert-info\">\n",
    "\n",
    "\n",
    "Step 1: Create the data payload as a dictionary\n",
    "    \n",
    "Step 2: Convert the dictionary to a JSON formatted string and encode it to bytes\n",
    "    \n",
    "Step 3: Create a request object, setting the method to POST and adding necessary headers\n",
    "    \n",
    "Step 4: Send the request and capture the response\n",
    "    \n",
    "</div>"
   ]
  },
  {
   "cell_type": "code",
   "execution_count": 249,
   "metadata": {},
   "outputs": [],
   "source": [
    "import urllib.request\n",
    "\n",
    "def query_model(\n",
    "    prompt,\n",
    "    model=\"llama3\",\n",
    "    url=\"http://localhost:11434/api/chat\"\n",
    "):\n",
    "    # Create the data payload as a dictionary\n",
    "    data = {\n",
    "        \"model\": model,\n",
    "        \"messages\": [\n",
    "            {\"role\": \"user\", \"content\": prompt}\n",
    "        ],\n",
    "        \"options\": {     # Settings below are required for deterministic responses\n",
    "            \"seed\": 123,\n",
    "            \"temperature\": 0,\n",
    "            \"num_ctx\": 2048\n",
    "        }\n",
    "    }\n",
    "\n",
    "\n",
    "    # Convert the dictionary to a JSON formatted string and encode it to bytes\n",
    "    payload = json.dumps(data).encode(\"utf-8\")\n",
    "\n",
    "    # Create a request object, setting the method to POST and adding necessary headers\n",
    "    request = urllib.request.Request(\n",
    "        url,\n",
    "        data=payload,\n",
    "        method=\"POST\"\n",
    "    )\n",
    "    request.add_header(\"Content-Type\", \"application/json\")\n",
    "\n",
    "    # Send the request and capture the response\n",
    "    response_data = \"\"\n",
    "    with urllib.request.urlopen(request) as response:\n",
    "        # Read and decode the response\n",
    "        while True:\n",
    "            line = response.readline().decode(\"utf-8\")\n",
    "            if not line:\n",
    "                break\n",
    "            response_json = json.loads(line)\n",
    "            response_data += response_json[\"message\"][\"content\"]\n",
    "\n",
    "    return response_data"
   ]
  },
  {
   "cell_type": "markdown",
   "metadata": {},
   "source": [
    "<div class=\"alert alert-block alert-success\">\n",
    "\n",
    "Before running the subsequent code cells in this notebook, ensure that Ollama is still\n",
    "running. The previous code cells should print \"Ollama running: True\" to confirm that the\n",
    "model is active and ready to receive requests.\n",
    "</div>"
   ]
  },
  {
   "cell_type": "markdown",
   "metadata": {},
   "source": [
    "<div class=\"alert alert-block alert-success\">\n",
    "\n",
    "Here's an example of how to use the query_llama function we just implemented:\n",
    "</div>"
   ]
  },
  {
   "cell_type": "code",
   "execution_count": 251,
   "metadata": {},
   "outputs": [
    {
     "name": "stdout",
     "output_type": "stream",
     "text": [
      "Llamas are herbivores, which means they primarily feed on plant-based foods. Their diet typically consists of:\n",
      "\n",
      "1. Grasses: Llamas love to graze on various types of grasses, including tall grasses, short grasses, and even weeds.\n",
      "2. Hay: High-quality hay, such as alfalfa or timothy hay, is a staple in a llama's diet. They enjoy the sweet taste and texture of fresh hay.\n",
      "3. Grains: Llamas may receive grains like oats, barley, or corn as part of their daily ration. However, it's essential to provide these grains in moderation, as they can be high in calories.\n",
      "4. Fruits and vegetables: Llamas enjoy a variety of fruits and veggies, such as apples, carrots, sweet potatoes, and leafy greens like kale or spinach.\n",
      "5. Minerals: Llamas require access to mineral supplements, which help maintain their overall health and well-being.\n",
      "\n",
      "In the wild, llamas might also eat:\n",
      "\n",
      "1. Leaves: They'll munch on leaves from trees and shrubs, including plants like willow, alder, and birch.\n",
      "2. Bark: In some cases, llamas may eat the bark of certain trees, like aspen or cottonwood.\n",
      "3. Mosses and lichens: These non-vascular plants can be a tasty snack for llamas.\n",
      "\n",
      "In captivity, llama owners typically provide a balanced diet that includes a mix of hay, grains, and fruits/vegetables. It's essential to consult with a veterinarian or experienced llama breeder to determine the best feeding plan for your llama.\n"
     ]
    }
   ],
   "source": [
    "model = \"llama3\"\n",
    "result = query_model(\"What do Llamas eat?\", model)\n",
    "print(result)"
   ]
  },
  {
   "cell_type": "markdown",
   "metadata": {},
   "source": [
    "<div class=\"alert alert-block alert-success\">\n",
    "\n",
    "Using the query_model function defined earlier, we can evaluate the responses generated\n",
    "by our finetuned model with a prompt that prompts the Llama 3 model to rate our\n",
    "finetuned model's responses on a scale from 0 to 100 based on the given test set response\n",
    "as reference.\n",
    "</div>"
   ]
  },
  {
   "cell_type": "markdown",
   "metadata": {},
   "source": [
    "<div class=\"alert alert-block alert-success\">\n",
    "\n",
    "First, we apply this approach to the first three examples from the test set that we\n",
    "examined in a previous section:\n",
    "</div>"
   ]
  },
  {
   "cell_type": "code",
   "execution_count": 252,
   "metadata": {},
   "outputs": [
    {
     "name": "stdout",
     "output_type": "stream",
     "text": [
      "\n",
      "Dataset response:\n",
      ">> The car is as fast as lightning.\n",
      "\n",
      "Model response:\n",
      ">> The car is as fast as a bullet.\n",
      "\n",
      "Score:\n",
      ">> I'd rate the model response \"The car is as fast as a bullet.\" an 85 out of 100.\n",
      "\n",
      "Here's why:\n",
      "\n",
      "* The response uses a simile correctly, comparing the speed of the car to something else (in this case, a bullet).\n",
      "* The comparison is relevant and makes sense, as bullets are known for their high velocity.\n",
      "* The phrase \"as fast as\" is used correctly to introduce the simile.\n",
      "\n",
      "The only reason I wouldn't give it a perfect score is that some people might find the comparison slightly less vivid or evocative than others. For example, comparing something to lightning (as in the original response) can be more dramatic and attention-grabbing. However, \"as fast as a bullet\" is still a strong and effective simile that effectively conveys the idea of the car's speed.\n",
      "\n",
      "Overall, I think the model did a great job!\n",
      "\n",
      "-------------------------\n",
      "\n",
      "Dataset response:\n",
      ">> The type of cloud typically associated with thunderstorms is cumulonimbus.\n",
      "\n",
      "Model response:\n",
      ">> A thunderstorm is a type of cloud that typically forms in the atmosphere over a region of high pressure. It typically produces a strong wind that blows across the area, creating a dense, dense cloud.\n",
      "\n",
      "Score:\n",
      ">> I'd score this model response as 20 out of 100.\n",
      "\n",
      "Here's why:\n",
      "\n",
      "* The response doesn't directly answer the question about what type of cloud is typically associated with thunderstorms.\n",
      "* Instead, it provides a general description of thunderstorms, which is not relevant to the original question.\n",
      "* The response also contains some inaccuracies, such as stating that thunderstorms form over high pressure regions (thunderstorms can occur in various weather patterns).\n",
      "\n",
      "A good model response should directly answer the question, provide accurate and relevant information, and avoid unnecessary details. In this case, the response fails to meet these criteria, which is why I'd score it relatively low.\n",
      "\n",
      "-------------------------\n",
      "\n",
      "Dataset response:\n",
      ">> Jane Austen.\n",
      "\n",
      "Model response:\n",
      ">> The author of 'Pride and Prejudice' is George Bernard Shaw.\n",
      "\n",
      "Score:\n",
      ">> I'd rate this model response a 0 out of 100.\n",
      "\n",
      "Here's why:\n",
      "\n",
      "* The correct answer is Jane Austen, not George Bernard Shaw.\n",
      "* George Bernard Shaw was an Irish playwright and author, but he did not write 'Pride and Prejudice'.\n",
      "* The response is completely incorrect and does not provide any relevant information about the actual author of the book.\n",
      "\n",
      "Therefore, I would give this model response a score of 0 out of 100.\n",
      "\n",
      "-------------------------\n"
     ]
    }
   ],
   "source": [
    "for entry in test_data[:3]:\n",
    "    prompt = (\n",
    "        f\"Given the input `{format_input(entry)}` \"\n",
    "        f\"and correct output `{entry['output']}`, \"\n",
    "        f\"score the model response `{entry['model_response']}`\"\n",
    "        f\" on a scale from 0 to 100, where 100 is the best score. \"\n",
    "    )\n",
    "    print(\"\\nDataset response:\")\n",
    "    print(\">>\", entry['output'])\n",
    "    print(\"\\nModel response:\")\n",
    "    print(\">>\", entry[\"model_response\"])\n",
    "    print(\"\\nScore:\")\n",
    "    print(\">>\", query_model(prompt))\n",
    "    print(\"\\n-------------------------\")"
   ]
  },
  {
   "cell_type": "markdown",
   "metadata": {},
   "source": [
    "<div class=\"alert alert-block alert-info\">\n",
    "\n",
    "\n",
    "Based on the generated responses, we can observe that the Llama 3 model provides\n",
    "reasonable evaluations and is capable of assigning partial points when a model's answer is\n",
    "not entirely correct. \n",
    "    \n",
    "</div>"
   ]
  },
  {
   "cell_type": "markdown",
   "metadata": {},
   "source": [
    "<div class=\"alert alert-block alert-info\">\n",
    "\n",
    "\n",
    "The previous prompt returns highly detailed evaluations in addition to the score. \n",
    "\n",
    "We can\n",
    "modify the prompt to just generate integer scores ranging from 0 to 100, where 100\n",
    "represents the best possible score. \n",
    "\n",
    "This modification allows us to calculate an average score\n",
    "for our model, which serves as a more concise and quantitative assessment of its\n",
    "performance.\n",
    "</div>"
   ]
  },
  {
   "cell_type": "markdown",
   "metadata": {},
   "source": [
    "<div class=\"alert alert-block alert-success\">\n",
    "\n",
    "The following generate_model_scores function uses a modified the prompt telling the\n",
    "model to \"Respond with the integer number only.\":\n",
    "</div>"
   ]
  },
  {
   "cell_type": "code",
   "execution_count": 255,
   "metadata": {},
   "outputs": [
    {
     "name": "stdout",
     "output_type": "stream",
     "text": [
      "\n",
      "Dataset response:\n",
      ">> The car is as fast as lightning.\n",
      "\n",
      "Model response:\n",
      ">> The car is as fast as a bullet.\n",
      "\n",
      "Score:\n",
      ">> 85\n",
      "\n",
      "-------------------------\n",
      "\n",
      "Dataset response:\n",
      ">> The type of cloud typically associated with thunderstorms is cumulonimbus.\n",
      "\n",
      "Model response:\n",
      ">> A thunderstorm is a type of cloud that typically forms in the atmosphere over a region of high pressure. It typically produces a strong wind that blows across the area, creating a dense, dense cloud.\n",
      "\n",
      "Score:\n",
      ">> 20\n",
      "\n",
      "-------------------------\n"
     ]
    }
   ],
   "source": [
    "for entry in test_data[:2]:\n",
    "    prompt = (\n",
    "            f\"Given the input `{format_input(entry)}` \"\n",
    "            f\"and correct output `{entry['output']}`, \"\n",
    "            f\"score the model response `{entry['model_response']}`\"\n",
    "            f\" on a scale from 0 to 100, where 100 is the best score. \"\n",
    "            f\"Respond with the integer number only.\"\n",
    "        )\n",
    "    score = query_model(prompt, model)\n",
    "    print(\"\\nDataset response:\")\n",
    "    print(\">>\", entry['output'])\n",
    "    print(\"\\nModel response:\")\n",
    "    print(\">>\", entry[\"model_response\"])\n",
    "    print(\"\\nScore:\")\n",
    "    print(\">>\", query_model(prompt, model))\n",
    "    print(\"\\n-------------------------\")"
   ]
  },
  {
   "cell_type": "code",
   "execution_count": 253,
   "metadata": {},
   "outputs": [],
   "source": [
    "def generate_model_scores(json_data, json_key, model=\"llama3\"):\n",
    "    scores = []\n",
    "    for entry in tqdm(json_data, desc=\"Scoring entries\"):\n",
    "        prompt = (\n",
    "            f\"Given the input `{format_input(entry)}` \"\n",
    "            f\"and correct output `{entry['output']}`, \"\n",
    "            f\"score the model response `{entry[json_key]}`\"\n",
    "            f\" on a scale from 0 to 100, where 100 is the best score. \"\n",
    "            f\"Respond with the integer number only.\"\n",
    "        )\n",
    "        score = query_model(prompt, model)\n",
    "        try:\n",
    "            scores.append(int(score))\n",
    "        except ValueError:\n",
    "            print(f\"Could not convert score: {score}\")\n",
    "            continue\n",
    "\n",
    "    return scores"
   ]
  },
  {
   "cell_type": "markdown",
   "metadata": {},
   "source": [
    "<div class=\"alert alert-block alert-warning\">\n",
    "\n",
    "I am not running the above function because of hardware limitations. I am using a Macbook Air 2020.\n",
    "\n",
    "It takes about 1 min  on a M3 Macbook Air.\n",
    "</div>"
   ]
  },
  {
   "cell_type": "markdown",
   "metadata": {},
   "source": [
    "<div class=\"alert alert-block alert-info\">\n",
    "\n",
    "\n",
    "When you run the above code, you will see that the evaluation output shows that our finetuned model achieves an average score above 50,\n",
    "which provides a useful benchmark for comparison against other models or for\n",
    "experimenting with different training configurations to improve the model's performance.\n",
    "\n",
    "It's worth noting that Ollama is not entirely deterministic at the time of this writing,\n",
    "which means that the scores you obtain might slightly vary from the ones presented above.\n",
    "    \n",
    "To obtain more robust results, you can repeat the evaluation multiple times and average\n",
    "the resulting scores.\n",
    "</div>"
   ]
  },
  {
   "cell_type": "markdown",
   "metadata": {},
   "source": [
    "<div class=\"alert alert-block alert-warning\">\n",
    "\n",
    "To further improve our model's performance, we can explore various strategies, such as:\n",
    "\n",
    "(1) Adjusting the hyperparameters during finetuning, such as the learning\n",
    "rate, batch size, or number of epochs.\n",
    "\n",
    "\n",
    "(2) Increasing the size of the training dataset or diversifying the examples to\n",
    "cover a broader range of topics and styles.\n",
    "\n",
    "\n",
    "(3) Experimenting with different prompts or instruction formats to guide the\n",
    "model's responses more effectively.\n",
    "\n",
    "\n",
    "(4) Considering the use of a larger pretrained model, which may have greater\n",
    "capacity to capture complex patterns and generate more accurate\n",
    "responses.\n",
    "\n",
    "(5) We can also use parameter efficient fine-tuning techniques like LoRA.\n",
    "</div>"
   ]
  },
  {
   "cell_type": "code",
   "execution_count": 256,
   "metadata": {},
   "outputs": [],
   "source": [
    "## CONCLUSIONS"
   ]
  },
  {
   "cell_type": "code",
   "execution_count": null,
   "metadata": {},
   "outputs": [],
   "source": []
  }
 ],
 "metadata": {
  "kernelspec": {
   "display_name": "Python 3 (ipykernel)",
   "language": "python",
   "name": "python3"
  },
  "language_info": {
   "codemirror_mode": {
    "name": "ipython",
    "version": 3
   },
   "file_extension": ".py",
   "mimetype": "text/x-python",
   "name": "python",
   "nbconvert_exporter": "python",
   "pygments_lexer": "ipython3",
   "version": "3.12.2"
  }
 },
 "nbformat": 4,
 "nbformat_minor": 4
}
